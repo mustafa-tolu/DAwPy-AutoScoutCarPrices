{
 "cells": [
  {
   "cell_type": "markdown",
   "id": "65dc505c",
   "metadata": {},
   "source": [
    "## <p style=\"background-color:#FDFEFE; font-family:newtimeroman; color:#060108; font-size:200%; text-align:center; border-radius:10px 10px;\">The Capstone Project of Data Analytics Module</p>\n",
    "\n",
    "## <p style=\"background-color:#FDFEFE; font-family:newtimeroman; color:#060108; font-size:150%; text-align:center; border-radius:10px 10px;\">Car Price Prediction EDA</p>"
   ]
  },
  {
   "cell_type": "markdown",
   "id": "8db352c6",
   "metadata": {},
   "source": [
    "## Introduction\n",
    "Welcome to \"***AutoScout Data Analysis Project***\". This is the capstone project of ***Data Analysis*** Module. **Auto Scout** data which using for this project, scraped from the on-line car trading company in 2019, contains many features of 9 different car models. In this project, you will have the opportunity to apply many commonly used algorithms for Data Cleaning and Exploratory Data Analysis by using many Python libraries such as Numpy, Pandas, Matplotlib, Seaborn, Scipy you will analyze clean dataset.\n",
    "\n",
    "### Some Reminders on Exploratory data analysis (EDA)\n",
    "\n",
    "Exploratory data analysis (EDA) is an especially important activity in the routine of a data analyst or scientist. It enables an in depth understanding of the dataset, define or discard hypotheses and create predictive models on a solid basis. It uses data manipulation techniques and several statistical tools to describe and understand the relationship between variables and how these can impact business. By means of EDA, we can obtain meaningful insights that can impact analysis under the following questions (If a checklist is good enough for pilots to use every flight, it’s good enough for data scientists to use with every dataset).\n",
    "1. What question are you trying to solve (or prove wrong)?\n",
    "2. What kind of data do you have?\n",
    "3. What’s missing from the data?\n",
    "4. Where are the outliers?\n",
    "5. How can you add, change or remove features to get more out of your data?\n",
    "\n",
    "**``Exploratory data analysis (EDA)``** is often an **iterative brainstorming process** where you pose a question, review the data, and develop further questions to investigate before beginning model development work. The image below shows how the brainstorming phase is connected with that of understanding the variables and how this in turn is connected again with the brainstorming phase.<br>\n",
    "\n",
    "<img src=https://i.ibb.co/k0MC950/EDA-Process.png width=\"300\" height=\"100\">\n",
    "\n",
    "[Image Credit: Andrew D.](https://towardsdatascience.com/exploratory-data-analysis-in-python-a-step-by-step-process-d0dfa6bf94ee) "
   ]
  },
  {
   "cell_type": "markdown",
   "id": "d5305407",
   "metadata": {},
   "source": [
    "**``In this context, the project consists of 3 parts in general:``**\n",
    "* **The first part** is related to 'Data Cleaning'. It deals with Incorrect Headers, Incorrect Format, Anomalies, and Dropping useless columns.\n",
    "* **The second part** is related to 'Filling Data', in other words 'Imputation'. It deals with Missing Values. Categorical to numeric transformation is done as well.\n",
    "* **The third part** is related to 'Handling Outliers of Data' via Visualization libraries. So, some insights will be extracted.\n",
    "\n",
    "**``NOTE:``**  However, you are free to create your own style. You do NOT have to stick to the steps above. We, the DA & DV instructors, recommend you study each part separately to create a source notebook for each part title for your further studies."
   ]
  },
  {
   "cell_type": "markdown",
   "id": "92e75463",
   "metadata": {},
   "source": [
    "# AutoScout - Part 1 - ( `Data Cleaning` )"
   ]
  },
  {
   "cell_type": "code",
   "execution_count": 1,
   "id": "522eafae",
   "metadata": {},
   "outputs": [],
   "source": [
    "import numpy as np\n",
    "import pandas as pd\n",
    "import seaborn as sns\n",
    "import matplotlib as plt\n",
    "import json\n",
    "\n",
    "import warnings\n",
    "warnings.filterwarnings(\"ignore\")\n",
    "warnings.warn(\"this will not show\")\n",
    "\n",
    "plt.rcParams[\"figure.figsize\"] = (10,6)\n",
    "\n",
    "sns.set_style(\"whitegrid\")\n",
    "pd.set_option('display.float_format', lambda x: '%.3f' % x)\n",
    "\n",
    "# Set it None to display all rows in the dataframe\n",
    "# pd.set_option('display.max_rows', None)\n",
    "\n",
    "# Set it to None to display all columns in the dataframe\n",
    "pd.set_option('display.max_columns', None)"
   ]
  },
  {
   "cell_type": "code",
   "execution_count": 2,
   "id": "67139aff",
   "metadata": {},
   "outputs": [],
   "source": [
    "df = pd.read_json(\"scout_car.json\", lines=True)"
   ]
  },
  {
   "cell_type": "code",
   "execution_count": 3,
   "id": "81ba01c9",
   "metadata": {
    "scrolled": true
   },
   "outputs": [
    {
     "data": {
      "text/html": [
       "<div>\n",
       "<style scoped>\n",
       "    .dataframe tbody tr th:only-of-type {\n",
       "        vertical-align: middle;\n",
       "    }\n",
       "\n",
       "    .dataframe tbody tr th {\n",
       "        vertical-align: top;\n",
       "    }\n",
       "\n",
       "    .dataframe thead th {\n",
       "        text-align: right;\n",
       "    }\n",
       "</style>\n",
       "<table border=\"1\" class=\"dataframe\">\n",
       "  <thead>\n",
       "    <tr style=\"text-align: right;\">\n",
       "      <th></th>\n",
       "      <th>url</th>\n",
       "      <th>make_model</th>\n",
       "      <th>short_description</th>\n",
       "      <th>body_type</th>\n",
       "      <th>price</th>\n",
       "      <th>vat</th>\n",
       "      <th>km</th>\n",
       "      <th>registration</th>\n",
       "      <th>prev_owner</th>\n",
       "      <th>kW</th>\n",
       "      <th>hp</th>\n",
       "      <th>Type</th>\n",
       "      <th>Previous Owners</th>\n",
       "      <th>Next Inspection</th>\n",
       "      <th>Inspection new</th>\n",
       "      <th>Warranty</th>\n",
       "      <th>Full Service</th>\n",
       "      <th>Non-smoking Vehicle</th>\n",
       "      <th>null</th>\n",
       "      <th>Make</th>\n",
       "      <th>Model</th>\n",
       "      <th>Offer Number</th>\n",
       "      <th>First Registration</th>\n",
       "      <th>Body Color</th>\n",
       "      <th>Paint Type</th>\n",
       "      <th>Body Color Original</th>\n",
       "      <th>Upholstery</th>\n",
       "      <th>Body</th>\n",
       "      <th>Nr. of Doors</th>\n",
       "      <th>Nr. of Seats</th>\n",
       "      <th>Model Code</th>\n",
       "      <th>Gearing Type</th>\n",
       "      <th>Displacement</th>\n",
       "      <th>Cylinders</th>\n",
       "      <th>Weight</th>\n",
       "      <th>Drive chain</th>\n",
       "      <th>Fuel</th>\n",
       "      <th>Consumption</th>\n",
       "      <th>CO2 Emission</th>\n",
       "      <th>Emission Class</th>\n",
       "      <th>\\nComfort &amp; Convenience\\n</th>\n",
       "      <th>\\nEntertainment &amp; Media\\n</th>\n",
       "      <th>\\nExtras\\n</th>\n",
       "      <th>\\nSafety &amp; Security\\n</th>\n",
       "      <th>description</th>\n",
       "      <th>Emission Label</th>\n",
       "      <th>Gears</th>\n",
       "      <th>Country version</th>\n",
       "      <th>Electricity consumption</th>\n",
       "      <th>Last Service Date</th>\n",
       "      <th>Other Fuel Types</th>\n",
       "      <th>Availability</th>\n",
       "      <th>Last Timing Belt Service Date</th>\n",
       "      <th>Available from</th>\n",
       "    </tr>\n",
       "  </thead>\n",
       "  <tbody>\n",
       "    <tr>\n",
       "      <th>0</th>\n",
       "      <td>https://www.autoscout24.com//offers/audi-a1-sp...</td>\n",
       "      <td>Audi A1</td>\n",
       "      <td>Sportback 1.4 TDI S-tronic Xenon Navi Klima</td>\n",
       "      <td>Sedans</td>\n",
       "      <td>15770</td>\n",
       "      <td>VAT deductible</td>\n",
       "      <td>56,013 km</td>\n",
       "      <td>01/2016</td>\n",
       "      <td>2 previous owners</td>\n",
       "      <td>NaN</td>\n",
       "      <td>66 kW</td>\n",
       "      <td>[, Used, , Diesel (Particulate Filter)]</td>\n",
       "      <td>\\n2\\n</td>\n",
       "      <td>[\\n06/2021\\n, \\n99 g CO2/km (comb)\\n]</td>\n",
       "      <td>[\\nYes\\n, \\nEuro 6\\n]</td>\n",
       "      <td>[\\n, \\n, \\n4 (Green)\\n]</td>\n",
       "      <td>[\\n, \\n]</td>\n",
       "      <td>[\\n, \\n]</td>\n",
       "      <td>[]</td>\n",
       "      <td>\\nAudi\\n</td>\n",
       "      <td>[\\n, A1, \\n]</td>\n",
       "      <td>[\\nLR-062483\\n]</td>\n",
       "      <td>[\\n, 2016, \\n]</td>\n",
       "      <td>[\\n, Black, \\n]</td>\n",
       "      <td>[\\nMetallic\\n]</td>\n",
       "      <td>[\\nMythosschwarz\\n]</td>\n",
       "      <td>[\\nCloth, Black\\n]</td>\n",
       "      <td>[\\n, Sedans, \\n]</td>\n",
       "      <td>[\\n5\\n]</td>\n",
       "      <td>[\\n5\\n]</td>\n",
       "      <td>[\\n0588/BDF\\n]</td>\n",
       "      <td>[\\n, Automatic, \\n]</td>\n",
       "      <td>[\\n1,422 cc\\n]</td>\n",
       "      <td>[\\n3\\n]</td>\n",
       "      <td>[\\n1,220 kg\\n]</td>\n",
       "      <td>[\\nfront\\n]</td>\n",
       "      <td>[\\n, Diesel (Particulate Filter), \\n]</td>\n",
       "      <td>[[3.8 l/100 km (comb)], [4.3 l/100 km (city)],...</td>\n",
       "      <td>[\\n99 g CO2/km (comb)\\n]</td>\n",
       "      <td>[\\nEuro 6\\n]</td>\n",
       "      <td>[Air conditioning, Armrest, Automatic climate ...</td>\n",
       "      <td>[Bluetooth, Hands-free equipment, On-board com...</td>\n",
       "      <td>[Alloy wheels, Catalytic Converter, Voice Cont...</td>\n",
       "      <td>[ABS, Central door lock, Daytime running light...</td>\n",
       "      <td>[\\n, Sicherheit:,  , Deaktivierung für Beifahr...</td>\n",
       "      <td>NaN</td>\n",
       "      <td>NaN</td>\n",
       "      <td>NaN</td>\n",
       "      <td>NaN</td>\n",
       "      <td>NaN</td>\n",
       "      <td>NaN</td>\n",
       "      <td>NaN</td>\n",
       "      <td>NaN</td>\n",
       "      <td>NaN</td>\n",
       "    </tr>\n",
       "    <tr>\n",
       "      <th>1</th>\n",
       "      <td>https://www.autoscout24.com//offers/audi-a1-1-...</td>\n",
       "      <td>Audi A1</td>\n",
       "      <td>1.8 TFSI sport</td>\n",
       "      <td>Sedans</td>\n",
       "      <td>14500</td>\n",
       "      <td>Price negotiable</td>\n",
       "      <td>80,000 km</td>\n",
       "      <td>03/2017</td>\n",
       "      <td>None</td>\n",
       "      <td>NaN</td>\n",
       "      <td>141 kW</td>\n",
       "      <td>[, Used, , Gasoline]</td>\n",
       "      <td>NaN</td>\n",
       "      <td>NaN</td>\n",
       "      <td>NaN</td>\n",
       "      <td>NaN</td>\n",
       "      <td>NaN</td>\n",
       "      <td>NaN</td>\n",
       "      <td>[]</td>\n",
       "      <td>\\nAudi\\n</td>\n",
       "      <td>[\\n, A1, \\n]</td>\n",
       "      <td>NaN</td>\n",
       "      <td>[\\n, 2017, \\n]</td>\n",
       "      <td>[\\n, Red, \\n]</td>\n",
       "      <td>NaN</td>\n",
       "      <td>NaN</td>\n",
       "      <td>[\\nCloth, Grey\\n]</td>\n",
       "      <td>[\\n, Sedans, \\n]</td>\n",
       "      <td>[\\n3\\n]</td>\n",
       "      <td>[\\n4\\n]</td>\n",
       "      <td>[\\n0588/BCY\\n]</td>\n",
       "      <td>[\\n, Automatic, \\n]</td>\n",
       "      <td>[\\n1,798 cc\\n]</td>\n",
       "      <td>[\\n4\\n]</td>\n",
       "      <td>[\\n1,255 kg\\n]</td>\n",
       "      <td>[\\nfront\\n]</td>\n",
       "      <td>[\\n, Gasoline, \\n]</td>\n",
       "      <td>[[5.6 l/100 km (comb)], [7.1 l/100 km (city)],...</td>\n",
       "      <td>[\\n129 g CO2/km (comb)\\n]</td>\n",
       "      <td>[\\nEuro 6\\n]</td>\n",
       "      <td>[Air conditioning, Automatic climate control, ...</td>\n",
       "      <td>[Bluetooth, Hands-free equipment, On-board com...</td>\n",
       "      <td>[Alloy wheels, Sport seats, Sport suspension, ...</td>\n",
       "      <td>[ABS, Central door lock, Central door lock wit...</td>\n",
       "      <td>[\\nLangstreckenfahrzeug daher die hohe Kilomet...</td>\n",
       "      <td>[\\n4 (Green)\\n]</td>\n",
       "      <td>[\\n7\\n]</td>\n",
       "      <td>NaN</td>\n",
       "      <td>NaN</td>\n",
       "      <td>NaN</td>\n",
       "      <td>NaN</td>\n",
       "      <td>NaN</td>\n",
       "      <td>NaN</td>\n",
       "      <td>NaN</td>\n",
       "    </tr>\n",
       "    <tr>\n",
       "      <th>2</th>\n",
       "      <td>https://www.autoscout24.com//offers/audi-a1-sp...</td>\n",
       "      <td>Audi A1</td>\n",
       "      <td>Sportback 1.6 TDI S tronic Einparkhilfe plus+m...</td>\n",
       "      <td>Sedans</td>\n",
       "      <td>14640</td>\n",
       "      <td>VAT deductible</td>\n",
       "      <td>83,450 km</td>\n",
       "      <td>02/2016</td>\n",
       "      <td>1 previous owner</td>\n",
       "      <td>NaN</td>\n",
       "      <td>85 kW</td>\n",
       "      <td>[, Used, , Diesel (Particulate Filter)]</td>\n",
       "      <td>\\n1\\n</td>\n",
       "      <td>NaN</td>\n",
       "      <td>NaN</td>\n",
       "      <td>[\\n, \\n, \\n99 g CO2/km (comb)\\n]</td>\n",
       "      <td>NaN</td>\n",
       "      <td>NaN</td>\n",
       "      <td>[]</td>\n",
       "      <td>\\nAudi\\n</td>\n",
       "      <td>[\\n, A1, \\n]</td>\n",
       "      <td>[\\nAM-95365\\n]</td>\n",
       "      <td>[\\n, 2016, \\n]</td>\n",
       "      <td>[\\n, Black, \\n]</td>\n",
       "      <td>[\\nMetallic\\n]</td>\n",
       "      <td>[\\nmythosschwarz metallic\\n]</td>\n",
       "      <td>[\\nCloth, Black\\n]</td>\n",
       "      <td>[\\n, Sedans, \\n]</td>\n",
       "      <td>[\\n4\\n]</td>\n",
       "      <td>[\\n4\\n]</td>\n",
       "      <td>NaN</td>\n",
       "      <td>[\\n, Automatic, \\n]</td>\n",
       "      <td>[\\n1,598 cc\\n]</td>\n",
       "      <td>NaN</td>\n",
       "      <td>NaN</td>\n",
       "      <td>[\\nfront\\n]</td>\n",
       "      <td>[\\n, Diesel (Particulate Filter), \\n]</td>\n",
       "      <td>[[3.8 l/100 km (comb)], [4.4 l/100 km (city)],...</td>\n",
       "      <td>[\\n99 g CO2/km (comb)\\n]</td>\n",
       "      <td>[\\nEuro 6\\n]</td>\n",
       "      <td>[Air conditioning, Cruise control, Electrical ...</td>\n",
       "      <td>[MP3, On-board computer]</td>\n",
       "      <td>[Alloy wheels, Voice Control]</td>\n",
       "      <td>[ABS, Central door lock, Daytime running light...</td>\n",
       "      <td>[\\n, Fahrzeug-Nummer: AM-95365,  , Ehem. UPE 2...</td>\n",
       "      <td>[\\n4 (Green)\\n]</td>\n",
       "      <td>NaN</td>\n",
       "      <td>NaN</td>\n",
       "      <td>NaN</td>\n",
       "      <td>NaN</td>\n",
       "      <td>NaN</td>\n",
       "      <td>NaN</td>\n",
       "      <td>NaN</td>\n",
       "      <td>NaN</td>\n",
       "    </tr>\n",
       "    <tr>\n",
       "      <th>3</th>\n",
       "      <td>https://www.autoscout24.com//offers/audi-a1-1-...</td>\n",
       "      <td>Audi A1</td>\n",
       "      <td>1.4 TDi Design S tronic</td>\n",
       "      <td>Sedans</td>\n",
       "      <td>14500</td>\n",
       "      <td>None</td>\n",
       "      <td>73,000 km</td>\n",
       "      <td>08/2016</td>\n",
       "      <td>1 previous owner</td>\n",
       "      <td>NaN</td>\n",
       "      <td>66 kW</td>\n",
       "      <td>[, Used, , Diesel (Particulate Filter)]</td>\n",
       "      <td>\\n1\\n</td>\n",
       "      <td>NaN</td>\n",
       "      <td>NaN</td>\n",
       "      <td>NaN</td>\n",
       "      <td>[\\n, \\n, \\n99 g CO2/km (comb)\\n]</td>\n",
       "      <td>[\\n, \\n, \\nEuro 6\\n]</td>\n",
       "      <td>[]</td>\n",
       "      <td>\\nAudi\\n</td>\n",
       "      <td>[\\n, A1, \\n]</td>\n",
       "      <td>NaN</td>\n",
       "      <td>[\\n, 2016, \\n]</td>\n",
       "      <td>[\\n, Brown, \\n]</td>\n",
       "      <td>[\\nMetallic\\n]</td>\n",
       "      <td>NaN</td>\n",
       "      <td>NaN</td>\n",
       "      <td>[\\n, Sedans, \\n]</td>\n",
       "      <td>[\\n3\\n]</td>\n",
       "      <td>[\\n4\\n]</td>\n",
       "      <td>NaN</td>\n",
       "      <td>[\\n, Automatic, \\n]</td>\n",
       "      <td>[\\n1,422 cc\\n]</td>\n",
       "      <td>[\\n3\\n]</td>\n",
       "      <td>[\\n1,195 kg\\n]</td>\n",
       "      <td>NaN</td>\n",
       "      <td>[\\n, Diesel (Particulate Filter), \\n]</td>\n",
       "      <td>[[3.8 l/100 km (comb)], [4.3 l/100 km (city)],...</td>\n",
       "      <td>[\\n99 g CO2/km (comb)\\n]</td>\n",
       "      <td>[\\nEuro 6\\n]</td>\n",
       "      <td>[Air suspension, Armrest, Auxiliary heating, E...</td>\n",
       "      <td>[Bluetooth, CD player, Hands-free equipment, M...</td>\n",
       "      <td>[Alloy wheels, Sport seats, Voice Control]</td>\n",
       "      <td>[ABS, Alarm system, Central door lock with rem...</td>\n",
       "      <td>[\\nAudi A1: , - 1e eigenaar , - Perfecte staat...</td>\n",
       "      <td>NaN</td>\n",
       "      <td>[\\n6\\n]</td>\n",
       "      <td>NaN</td>\n",
       "      <td>NaN</td>\n",
       "      <td>NaN</td>\n",
       "      <td>NaN</td>\n",
       "      <td>NaN</td>\n",
       "      <td>NaN</td>\n",
       "      <td>NaN</td>\n",
       "    </tr>\n",
       "    <tr>\n",
       "      <th>4</th>\n",
       "      <td>https://www.autoscout24.com//offers/audi-a1-sp...</td>\n",
       "      <td>Audi A1</td>\n",
       "      <td>Sportback 1.4 TDI S-Tronic S-Line Ext. admired...</td>\n",
       "      <td>Sedans</td>\n",
       "      <td>16790</td>\n",
       "      <td>None</td>\n",
       "      <td>16,200 km</td>\n",
       "      <td>05/2016</td>\n",
       "      <td>1 previous owner</td>\n",
       "      <td>NaN</td>\n",
       "      <td>66 kW</td>\n",
       "      <td>[, Used, , Diesel (Particulate Filter)]</td>\n",
       "      <td>\\n1\\n</td>\n",
       "      <td>NaN</td>\n",
       "      <td>[\\nYes\\n, \\n109 g CO2/km (comb)\\n]</td>\n",
       "      <td>[\\n, \\n, \\nEuro 6\\n]</td>\n",
       "      <td>[\\n, \\n, \\n4 (Green)\\n]</td>\n",
       "      <td>[\\n, \\n]</td>\n",
       "      <td>[]</td>\n",
       "      <td>\\nAudi\\n</td>\n",
       "      <td>[\\n, A1, \\n]</td>\n",
       "      <td>[\\nC1626\\n]</td>\n",
       "      <td>[\\n, 2016, \\n]</td>\n",
       "      <td>[\\n, Black, \\n]</td>\n",
       "      <td>[\\nMetallic\\n]</td>\n",
       "      <td>[\\nMythosschwarz Metallic\\n]</td>\n",
       "      <td>[\\nCloth, Black\\n]</td>\n",
       "      <td>[\\n, Sedans, \\n]</td>\n",
       "      <td>[\\n5\\n]</td>\n",
       "      <td>[\\n5\\n]</td>\n",
       "      <td>[\\n0588/BDF\\n]</td>\n",
       "      <td>[\\n, Automatic, \\n]</td>\n",
       "      <td>[\\n1,422 cc\\n]</td>\n",
       "      <td>[\\n3\\n]</td>\n",
       "      <td>NaN</td>\n",
       "      <td>[\\nfront\\n]</td>\n",
       "      <td>[\\n, Diesel (Particulate Filter), \\n]</td>\n",
       "      <td>[[4.1 l/100 km (comb)], [4.6 l/100 km (city)],...</td>\n",
       "      <td>[\\n109 g CO2/km (comb)\\n]</td>\n",
       "      <td>[\\nEuro 6\\n]</td>\n",
       "      <td>[Air conditioning, Armrest, Automatic climate ...</td>\n",
       "      <td>[Bluetooth, CD player, Hands-free equipment, M...</td>\n",
       "      <td>[Alloy wheels, Sport package, Sport suspension...</td>\n",
       "      <td>[ABS, Central door lock, Driver-side airbag, E...</td>\n",
       "      <td>[\\n, Technik &amp; Sicherheit:, Xenon plus, Klimaa...</td>\n",
       "      <td>NaN</td>\n",
       "      <td>NaN</td>\n",
       "      <td>[\\nGermany\\n]</td>\n",
       "      <td>NaN</td>\n",
       "      <td>NaN</td>\n",
       "      <td>NaN</td>\n",
       "      <td>NaN</td>\n",
       "      <td>NaN</td>\n",
       "      <td>NaN</td>\n",
       "    </tr>\n",
       "  </tbody>\n",
       "</table>\n",
       "</div>"
      ],
      "text/plain": [
       "                                                 url make_model  \\\n",
       "0  https://www.autoscout24.com//offers/audi-a1-sp...    Audi A1   \n",
       "1  https://www.autoscout24.com//offers/audi-a1-1-...    Audi A1   \n",
       "2  https://www.autoscout24.com//offers/audi-a1-sp...    Audi A1   \n",
       "3  https://www.autoscout24.com//offers/audi-a1-1-...    Audi A1   \n",
       "4  https://www.autoscout24.com//offers/audi-a1-sp...    Audi A1   \n",
       "\n",
       "                                   short_description body_type  price  \\\n",
       "0        Sportback 1.4 TDI S-tronic Xenon Navi Klima    Sedans  15770   \n",
       "1                                     1.8 TFSI sport    Sedans  14500   \n",
       "2  Sportback 1.6 TDI S tronic Einparkhilfe plus+m...    Sedans  14640   \n",
       "3                            1.4 TDi Design S tronic    Sedans  14500   \n",
       "4  Sportback 1.4 TDI S-Tronic S-Line Ext. admired...    Sedans  16790   \n",
       "\n",
       "                vat         km registration         prev_owner  kW      hp  \\\n",
       "0    VAT deductible  56,013 km      01/2016  2 previous owners NaN   66 kW   \n",
       "1  Price negotiable  80,000 km      03/2017               None NaN  141 kW   \n",
       "2    VAT deductible  83,450 km      02/2016   1 previous owner NaN   85 kW   \n",
       "3              None  73,000 km      08/2016   1 previous owner NaN   66 kW   \n",
       "4              None  16,200 km      05/2016   1 previous owner NaN   66 kW   \n",
       "\n",
       "                                      Type Previous Owners  \\\n",
       "0  [, Used, , Diesel (Particulate Filter)]           \\n2\\n   \n",
       "1                     [, Used, , Gasoline]             NaN   \n",
       "2  [, Used, , Diesel (Particulate Filter)]           \\n1\\n   \n",
       "3  [, Used, , Diesel (Particulate Filter)]           \\n1\\n   \n",
       "4  [, Used, , Diesel (Particulate Filter)]           \\n1\\n   \n",
       "\n",
       "                         Next Inspection                      Inspection new  \\\n",
       "0  [\\n06/2021\\n, \\n99 g CO2/km (comb)\\n]               [\\nYes\\n, \\nEuro 6\\n]   \n",
       "1                                    NaN                                 NaN   \n",
       "2                                    NaN                                 NaN   \n",
       "3                                    NaN                                 NaN   \n",
       "4                                    NaN  [\\nYes\\n, \\n109 g CO2/km (comb)\\n]   \n",
       "\n",
       "                           Warranty                      Full Service  \\\n",
       "0           [\\n, \\n, \\n4 (Green)\\n]                          [\\n, \\n]   \n",
       "1                               NaN                               NaN   \n",
       "2  [\\n, \\n, \\n99 g CO2/km (comb)\\n]                               NaN   \n",
       "3                               NaN  [\\n, \\n, \\n99 g CO2/km (comb)\\n]   \n",
       "4              [\\n, \\n, \\nEuro 6\\n]           [\\n, \\n, \\n4 (Green)\\n]   \n",
       "\n",
       "    Non-smoking Vehicle null      Make         Model     Offer Number  \\\n",
       "0              [\\n, \\n]   []  \\nAudi\\n  [\\n, A1, \\n]  [\\nLR-062483\\n]   \n",
       "1                   NaN   []  \\nAudi\\n  [\\n, A1, \\n]              NaN   \n",
       "2                   NaN   []  \\nAudi\\n  [\\n, A1, \\n]   [\\nAM-95365\\n]   \n",
       "3  [\\n, \\n, \\nEuro 6\\n]   []  \\nAudi\\n  [\\n, A1, \\n]              NaN   \n",
       "4              [\\n, \\n]   []  \\nAudi\\n  [\\n, A1, \\n]      [\\nC1626\\n]   \n",
       "\n",
       "  First Registration       Body Color      Paint Type  \\\n",
       "0     [\\n, 2016, \\n]  [\\n, Black, \\n]  [\\nMetallic\\n]   \n",
       "1     [\\n, 2017, \\n]    [\\n, Red, \\n]             NaN   \n",
       "2     [\\n, 2016, \\n]  [\\n, Black, \\n]  [\\nMetallic\\n]   \n",
       "3     [\\n, 2016, \\n]  [\\n, Brown, \\n]  [\\nMetallic\\n]   \n",
       "4     [\\n, 2016, \\n]  [\\n, Black, \\n]  [\\nMetallic\\n]   \n",
       "\n",
       "            Body Color Original          Upholstery              Body  \\\n",
       "0           [\\nMythosschwarz\\n]  [\\nCloth, Black\\n]  [\\n, Sedans, \\n]   \n",
       "1                           NaN   [\\nCloth, Grey\\n]  [\\n, Sedans, \\n]   \n",
       "2  [\\nmythosschwarz metallic\\n]  [\\nCloth, Black\\n]  [\\n, Sedans, \\n]   \n",
       "3                           NaN                 NaN  [\\n, Sedans, \\n]   \n",
       "4  [\\nMythosschwarz Metallic\\n]  [\\nCloth, Black\\n]  [\\n, Sedans, \\n]   \n",
       "\n",
       "  Nr. of Doors Nr. of Seats      Model Code         Gearing Type  \\\n",
       "0      [\\n5\\n]      [\\n5\\n]  [\\n0588/BDF\\n]  [\\n, Automatic, \\n]   \n",
       "1      [\\n3\\n]      [\\n4\\n]  [\\n0588/BCY\\n]  [\\n, Automatic, \\n]   \n",
       "2      [\\n4\\n]      [\\n4\\n]             NaN  [\\n, Automatic, \\n]   \n",
       "3      [\\n3\\n]      [\\n4\\n]             NaN  [\\n, Automatic, \\n]   \n",
       "4      [\\n5\\n]      [\\n5\\n]  [\\n0588/BDF\\n]  [\\n, Automatic, \\n]   \n",
       "\n",
       "     Displacement Cylinders          Weight  Drive chain  \\\n",
       "0  [\\n1,422 cc\\n]   [\\n3\\n]  [\\n1,220 kg\\n]  [\\nfront\\n]   \n",
       "1  [\\n1,798 cc\\n]   [\\n4\\n]  [\\n1,255 kg\\n]  [\\nfront\\n]   \n",
       "2  [\\n1,598 cc\\n]       NaN             NaN  [\\nfront\\n]   \n",
       "3  [\\n1,422 cc\\n]   [\\n3\\n]  [\\n1,195 kg\\n]          NaN   \n",
       "4  [\\n1,422 cc\\n]   [\\n3\\n]             NaN  [\\nfront\\n]   \n",
       "\n",
       "                                    Fuel  \\\n",
       "0  [\\n, Diesel (Particulate Filter), \\n]   \n",
       "1                     [\\n, Gasoline, \\n]   \n",
       "2  [\\n, Diesel (Particulate Filter), \\n]   \n",
       "3  [\\n, Diesel (Particulate Filter), \\n]   \n",
       "4  [\\n, Diesel (Particulate Filter), \\n]   \n",
       "\n",
       "                                         Consumption  \\\n",
       "0  [[3.8 l/100 km (comb)], [4.3 l/100 km (city)],...   \n",
       "1  [[5.6 l/100 km (comb)], [7.1 l/100 km (city)],...   \n",
       "2  [[3.8 l/100 km (comb)], [4.4 l/100 km (city)],...   \n",
       "3  [[3.8 l/100 km (comb)], [4.3 l/100 km (city)],...   \n",
       "4  [[4.1 l/100 km (comb)], [4.6 l/100 km (city)],...   \n",
       "\n",
       "                CO2 Emission Emission Class  \\\n",
       "0   [\\n99 g CO2/km (comb)\\n]   [\\nEuro 6\\n]   \n",
       "1  [\\n129 g CO2/km (comb)\\n]   [\\nEuro 6\\n]   \n",
       "2   [\\n99 g CO2/km (comb)\\n]   [\\nEuro 6\\n]   \n",
       "3   [\\n99 g CO2/km (comb)\\n]   [\\nEuro 6\\n]   \n",
       "4  [\\n109 g CO2/km (comb)\\n]   [\\nEuro 6\\n]   \n",
       "\n",
       "                           \\nComfort & Convenience\\n  \\\n",
       "0  [Air conditioning, Armrest, Automatic climate ...   \n",
       "1  [Air conditioning, Automatic climate control, ...   \n",
       "2  [Air conditioning, Cruise control, Electrical ...   \n",
       "3  [Air suspension, Armrest, Auxiliary heating, E...   \n",
       "4  [Air conditioning, Armrest, Automatic climate ...   \n",
       "\n",
       "                           \\nEntertainment & Media\\n  \\\n",
       "0  [Bluetooth, Hands-free equipment, On-board com...   \n",
       "1  [Bluetooth, Hands-free equipment, On-board com...   \n",
       "2                           [MP3, On-board computer]   \n",
       "3  [Bluetooth, CD player, Hands-free equipment, M...   \n",
       "4  [Bluetooth, CD player, Hands-free equipment, M...   \n",
       "\n",
       "                                          \\nExtras\\n  \\\n",
       "0  [Alloy wheels, Catalytic Converter, Voice Cont...   \n",
       "1  [Alloy wheels, Sport seats, Sport suspension, ...   \n",
       "2                      [Alloy wheels, Voice Control]   \n",
       "3         [Alloy wheels, Sport seats, Voice Control]   \n",
       "4  [Alloy wheels, Sport package, Sport suspension...   \n",
       "\n",
       "                               \\nSafety & Security\\n  \\\n",
       "0  [ABS, Central door lock, Daytime running light...   \n",
       "1  [ABS, Central door lock, Central door lock wit...   \n",
       "2  [ABS, Central door lock, Daytime running light...   \n",
       "3  [ABS, Alarm system, Central door lock with rem...   \n",
       "4  [ABS, Central door lock, Driver-side airbag, E...   \n",
       "\n",
       "                                         description   Emission Label  \\\n",
       "0  [\\n, Sicherheit:,  , Deaktivierung für Beifahr...              NaN   \n",
       "1  [\\nLangstreckenfahrzeug daher die hohe Kilomet...  [\\n4 (Green)\\n]   \n",
       "2  [\\n, Fahrzeug-Nummer: AM-95365,  , Ehem. UPE 2...  [\\n4 (Green)\\n]   \n",
       "3  [\\nAudi A1: , - 1e eigenaar , - Perfecte staat...              NaN   \n",
       "4  [\\n, Technik & Sicherheit:, Xenon plus, Klimaa...              NaN   \n",
       "\n",
       "     Gears Country version Electricity consumption Last Service Date  \\\n",
       "0      NaN             NaN                     NaN               NaN   \n",
       "1  [\\n7\\n]             NaN                     NaN               NaN   \n",
       "2      NaN             NaN                     NaN               NaN   \n",
       "3  [\\n6\\n]             NaN                     NaN               NaN   \n",
       "4      NaN   [\\nGermany\\n]                     NaN               NaN   \n",
       "\n",
       "  Other Fuel Types Availability Last Timing Belt Service Date Available from  \n",
       "0              NaN          NaN                           NaN            NaN  \n",
       "1              NaN          NaN                           NaN            NaN  \n",
       "2              NaN          NaN                           NaN            NaN  \n",
       "3              NaN          NaN                           NaN            NaN  \n",
       "4              NaN          NaN                           NaN            NaN  "
      ]
     },
     "execution_count": 3,
     "metadata": {},
     "output_type": "execute_result"
    }
   ],
   "source": [
    "df.head()"
   ]
  },
  {
   "cell_type": "code",
   "execution_count": 4,
   "id": "a1650827",
   "metadata": {
    "scrolled": true
   },
   "outputs": [
    {
     "data": {
      "text/html": [
       "<div>\n",
       "<style scoped>\n",
       "    .dataframe tbody tr th:only-of-type {\n",
       "        vertical-align: middle;\n",
       "    }\n",
       "\n",
       "    .dataframe tbody tr th {\n",
       "        vertical-align: top;\n",
       "    }\n",
       "\n",
       "    .dataframe thead th {\n",
       "        text-align: right;\n",
       "    }\n",
       "</style>\n",
       "<table border=\"1\" class=\"dataframe\">\n",
       "  <thead>\n",
       "    <tr style=\"text-align: right;\">\n",
       "      <th></th>\n",
       "      <th>url</th>\n",
       "      <th>make_model</th>\n",
       "      <th>short_description</th>\n",
       "      <th>body_type</th>\n",
       "      <th>price</th>\n",
       "      <th>vat</th>\n",
       "      <th>km</th>\n",
       "      <th>registration</th>\n",
       "      <th>prev_owner</th>\n",
       "      <th>kW</th>\n",
       "      <th>hp</th>\n",
       "      <th>Type</th>\n",
       "      <th>Previous Owners</th>\n",
       "      <th>Next Inspection</th>\n",
       "      <th>Inspection new</th>\n",
       "      <th>Warranty</th>\n",
       "      <th>Full Service</th>\n",
       "      <th>Non-smoking Vehicle</th>\n",
       "      <th>null</th>\n",
       "      <th>Make</th>\n",
       "      <th>Model</th>\n",
       "      <th>Offer Number</th>\n",
       "      <th>First Registration</th>\n",
       "      <th>Body Color</th>\n",
       "      <th>Paint Type</th>\n",
       "      <th>Body Color Original</th>\n",
       "      <th>Upholstery</th>\n",
       "      <th>Body</th>\n",
       "      <th>Nr. of Doors</th>\n",
       "      <th>Nr. of Seats</th>\n",
       "      <th>Model Code</th>\n",
       "      <th>Gearing Type</th>\n",
       "      <th>Displacement</th>\n",
       "      <th>Cylinders</th>\n",
       "      <th>Weight</th>\n",
       "      <th>Drive chain</th>\n",
       "      <th>Fuel</th>\n",
       "      <th>Consumption</th>\n",
       "      <th>CO2 Emission</th>\n",
       "      <th>Emission Class</th>\n",
       "      <th>\\nComfort &amp; Convenience\\n</th>\n",
       "      <th>\\nEntertainment &amp; Media\\n</th>\n",
       "      <th>\\nExtras\\n</th>\n",
       "      <th>\\nSafety &amp; Security\\n</th>\n",
       "      <th>description</th>\n",
       "      <th>Emission Label</th>\n",
       "      <th>Gears</th>\n",
       "      <th>Country version</th>\n",
       "      <th>Electricity consumption</th>\n",
       "      <th>Last Service Date</th>\n",
       "      <th>Other Fuel Types</th>\n",
       "      <th>Availability</th>\n",
       "      <th>Last Timing Belt Service Date</th>\n",
       "      <th>Available from</th>\n",
       "    </tr>\n",
       "  </thead>\n",
       "  <tbody>\n",
       "    <tr>\n",
       "      <th>10765</th>\n",
       "      <td>https://www.autoscout24.com//offers/opel-insig...</td>\n",
       "      <td>Opel Insignia</td>\n",
       "      <td>1.6 CDTI ST Business Navi Xenon PDC AHK</td>\n",
       "      <td>Station wagon</td>\n",
       "      <td>12390</td>\n",
       "      <td>VAT deductible</td>\n",
       "      <td>127,963 km</td>\n",
       "      <td>01/2016</td>\n",
       "      <td>1 previous owner</td>\n",
       "      <td>NaN</td>\n",
       "      <td>100 kW</td>\n",
       "      <td>[, Used, , Diesel (Particulate Filter)]</td>\n",
       "      <td>\\n1\\n</td>\n",
       "      <td>NaN</td>\n",
       "      <td>NaN</td>\n",
       "      <td>NaN</td>\n",
       "      <td>[\\n, \\n, \\n130 g CO2/km (comb)\\n]</td>\n",
       "      <td>[\\n, \\n, \\nEuro 6\\n]</td>\n",
       "      <td>[]</td>\n",
       "      <td>\\nOpel\\n</td>\n",
       "      <td>[\\n, Insignia, \\n]</td>\n",
       "      <td>[\\n2446894\\n]</td>\n",
       "      <td>[\\n, 2016, \\n]</td>\n",
       "      <td>[\\n, White, \\n]</td>\n",
       "      <td>NaN</td>\n",
       "      <td>NaN</td>\n",
       "      <td>[\\nCloth, Other\\n]</td>\n",
       "      <td>[\\n, Station wagon, \\n]</td>\n",
       "      <td>[\\n5\\n]</td>\n",
       "      <td>[\\n5\\n]</td>\n",
       "      <td>NaN</td>\n",
       "      <td>[\\n, Automatic, \\n]</td>\n",
       "      <td>[\\n1,598 cc\\n]</td>\n",
       "      <td>[\\n4\\n]</td>\n",
       "      <td>[\\n1,664 kg\\n]</td>\n",
       "      <td>[\\nfront\\n]</td>\n",
       "      <td>[\\n, Diesel (Particulate Filter), \\n]</td>\n",
       "      <td>[[5.1 l/100 km (comb)], [6.6 l/100 km (city)],...</td>\n",
       "      <td>[\\n130 g CO2/km (comb)\\n]</td>\n",
       "      <td>[\\nEuro 6\\n]</td>\n",
       "      <td>[Air conditioning, Armrest, Automatic climate ...</td>\n",
       "      <td>[Bluetooth, CD player, Hands-free equipment, M...</td>\n",
       "      <td>[Alloy wheels, Roof rack, Sport seats, Touch s...</td>\n",
       "      <td>[ABS, Central door lock, Daytime running light...</td>\n",
       "      <td>[\\n, Der Opel Insignia ist immer eine Gute Wah...</td>\n",
       "      <td>[\\n4 (Green)\\n]</td>\n",
       "      <td>[\\n6\\n]</td>\n",
       "      <td>[\\nGermany\\n]</td>\n",
       "      <td>NaN</td>\n",
       "      <td>NaN</td>\n",
       "      <td>NaN</td>\n",
       "      <td>NaN</td>\n",
       "      <td>NaN</td>\n",
       "      <td>NaN</td>\n",
       "    </tr>\n",
       "    <tr>\n",
       "      <th>7652</th>\n",
       "      <td>https://www.autoscout24.com//offers/opel-astra...</td>\n",
       "      <td>Opel Astra</td>\n",
       "      <td>Sports Tourer Ultimate 1.4+NAVI+AGR+LEDER+LED+</td>\n",
       "      <td>Station wagon</td>\n",
       "      <td>28940</td>\n",
       "      <td>VAT deductible</td>\n",
       "      <td>50 km</td>\n",
       "      <td>03/2019</td>\n",
       "      <td>None</td>\n",
       "      <td>NaN</td>\n",
       "      <td>110 kW</td>\n",
       "      <td>[, Pre-registered, , Super 95]</td>\n",
       "      <td>NaN</td>\n",
       "      <td>\\n06/2021\\n</td>\n",
       "      <td>[\\nYes\\n, \\n138 g CO2/km (comb)\\n]</td>\n",
       "      <td>[\\n, \\n, \\nEuro 6\\n]</td>\n",
       "      <td>[\\n, \\n, \\n4 (Green)\\n]</td>\n",
       "      <td>[\\n, \\n]</td>\n",
       "      <td>[]</td>\n",
       "      <td>\\nOpel\\n</td>\n",
       "      <td>[\\n, Astra, \\n]</td>\n",
       "      <td>[\\n2125119\\n]</td>\n",
       "      <td>[\\n, 2019, \\n]</td>\n",
       "      <td>[\\n, Black, \\n]</td>\n",
       "      <td>[\\nMetallic\\n]</td>\n",
       "      <td>[\\nOnyx Schwarz (Metallic)\\n]</td>\n",
       "      <td>[\\nFull leather, Black\\n]</td>\n",
       "      <td>[\\n, Station wagon, \\n]</td>\n",
       "      <td>[\\n5\\n]</td>\n",
       "      <td>[\\n5\\n]</td>\n",
       "      <td>[\\n1844/AEV\\n]</td>\n",
       "      <td>[\\n, Automatic, \\n]</td>\n",
       "      <td>[\\n1,399 cc\\n]</td>\n",
       "      <td>[\\n4\\n]</td>\n",
       "      <td>NaN</td>\n",
       "      <td>[\\nfront\\n]</td>\n",
       "      <td>[\\n, Super 95, \\n]</td>\n",
       "      <td>[[6 l/100 km (comb)], [7.5 l/100 km (city)], [...</td>\n",
       "      <td>[\\n138 g CO2/km (comb)\\n]</td>\n",
       "      <td>[\\nEuro 6\\n]</td>\n",
       "      <td>[Air conditioning, Armrest, Automatic climate ...</td>\n",
       "      <td>[Bluetooth, Digital radio, Hands-free equipmen...</td>\n",
       "      <td>[Alloy wheels, Catalytic Converter, Roof rack,...</td>\n",
       "      <td>[ABS, Central door lock, Daytime running light...</td>\n",
       "      <td>[\\n, Sicherheit:,  ASR, Reifendruck-Kontrollsy...</td>\n",
       "      <td>NaN</td>\n",
       "      <td>[\\n6\\n]</td>\n",
       "      <td>NaN</td>\n",
       "      <td>NaN</td>\n",
       "      <td>NaN</td>\n",
       "      <td>NaN</td>\n",
       "      <td>NaN</td>\n",
       "      <td>NaN</td>\n",
       "      <td>NaN</td>\n",
       "    </tr>\n",
       "    <tr>\n",
       "      <th>8085</th>\n",
       "      <td>https://www.autoscout24.com//offers/opel-astra...</td>\n",
       "      <td>Opel Astra</td>\n",
       "      <td>1,0 Turbo Dir. Inj. St./St. ECOTEC 120 Jahre Edit</td>\n",
       "      <td>Sedans</td>\n",
       "      <td>18890</td>\n",
       "      <td>VAT deductible</td>\n",
       "      <td>2,678 km</td>\n",
       "      <td>03/2019</td>\n",
       "      <td>None</td>\n",
       "      <td>NaN</td>\n",
       "      <td>77 kW</td>\n",
       "      <td>[, Demonstration, , Gasoline]</td>\n",
       "      <td>NaN</td>\n",
       "      <td>\\n03/2022\\n</td>\n",
       "      <td>NaN</td>\n",
       "      <td>NaN</td>\n",
       "      <td>NaN</td>\n",
       "      <td>NaN</td>\n",
       "      <td>[]</td>\n",
       "      <td>\\nOpel\\n</td>\n",
       "      <td>[\\n, Astra, \\n]</td>\n",
       "      <td>[\\nBUCH19067540\\n]</td>\n",
       "      <td>[\\n, 2019, \\n]</td>\n",
       "      <td>[\\n, Black, \\n]</td>\n",
       "      <td>[\\nMetallic\\n]</td>\n",
       "      <td>[\\nOnyx Schwarz (M2)\\n]</td>\n",
       "      <td>[\\nCloth\\n]</td>\n",
       "      <td>[\\n, Sedans, \\n]</td>\n",
       "      <td>[\\n5\\n]</td>\n",
       "      <td>[\\n5\\n]</td>\n",
       "      <td>NaN</td>\n",
       "      <td>[\\n, Manual, \\n]</td>\n",
       "      <td>[\\n999 cc\\n]</td>\n",
       "      <td>NaN</td>\n",
       "      <td>[\\n1,273 kg\\n]</td>\n",
       "      <td>[\\nfront\\n]</td>\n",
       "      <td>[\\n, Gasoline, \\n]</td>\n",
       "      <td>[[4.7 l/100 km (comb)], [5.5 l/100 km (city)],...</td>\n",
       "      <td>[\\n107 g CO2/km (comb)\\n]</td>\n",
       "      <td>NaN</td>\n",
       "      <td>[Air conditioning, Armrest, Automatic climate ...</td>\n",
       "      <td>[On-board computer]</td>\n",
       "      <td>[Alloy wheels, Touch screen]</td>\n",
       "      <td>[ABS, Central door lock, Daytime running light...</td>\n",
       "      <td>[\\nAlle mit G5 ausgezeichneten Gebrauchtwagen ...</td>\n",
       "      <td>NaN</td>\n",
       "      <td>[\\n5\\n]</td>\n",
       "      <td>NaN</td>\n",
       "      <td>NaN</td>\n",
       "      <td>NaN</td>\n",
       "      <td>NaN</td>\n",
       "      <td>NaN</td>\n",
       "      <td>NaN</td>\n",
       "      <td>NaN</td>\n",
       "    </tr>\n",
       "  </tbody>\n",
       "</table>\n",
       "</div>"
      ],
      "text/plain": [
       "                                                     url     make_model  \\\n",
       "10765  https://www.autoscout24.com//offers/opel-insig...  Opel Insignia   \n",
       "7652   https://www.autoscout24.com//offers/opel-astra...     Opel Astra   \n",
       "8085   https://www.autoscout24.com//offers/opel-astra...     Opel Astra   \n",
       "\n",
       "                                       short_description      body_type  \\\n",
       "10765            1.6 CDTI ST Business Navi Xenon PDC AHK  Station wagon   \n",
       "7652      Sports Tourer Ultimate 1.4+NAVI+AGR+LEDER+LED+  Station wagon   \n",
       "8085   1,0 Turbo Dir. Inj. St./St. ECOTEC 120 Jahre Edit         Sedans   \n",
       "\n",
       "       price             vat          km registration        prev_owner  kW  \\\n",
       "10765  12390  VAT deductible  127,963 km      01/2016  1 previous owner NaN   \n",
       "7652   28940  VAT deductible       50 km      03/2019              None NaN   \n",
       "8085   18890  VAT deductible    2,678 km      03/2019              None NaN   \n",
       "\n",
       "           hp                                     Type Previous Owners  \\\n",
       "10765  100 kW  [, Used, , Diesel (Particulate Filter)]           \\n1\\n   \n",
       "7652   110 kW           [, Pre-registered, , Super 95]             NaN   \n",
       "8085    77 kW            [, Demonstration, , Gasoline]             NaN   \n",
       "\n",
       "      Next Inspection                      Inspection new  \\\n",
       "10765             NaN                                 NaN   \n",
       "7652      \\n06/2021\\n  [\\nYes\\n, \\n138 g CO2/km (comb)\\n]   \n",
       "8085      \\n03/2022\\n                                 NaN   \n",
       "\n",
       "                   Warranty                       Full Service  \\\n",
       "10765                   NaN  [\\n, \\n, \\n130 g CO2/km (comb)\\n]   \n",
       "7652   [\\n, \\n, \\nEuro 6\\n]            [\\n, \\n, \\n4 (Green)\\n]   \n",
       "8085                    NaN                                NaN   \n",
       "\n",
       "        Non-smoking Vehicle null      Make               Model  \\\n",
       "10765  [\\n, \\n, \\nEuro 6\\n]   []  \\nOpel\\n  [\\n, Insignia, \\n]   \n",
       "7652               [\\n, \\n]   []  \\nOpel\\n     [\\n, Astra, \\n]   \n",
       "8085                    NaN   []  \\nOpel\\n     [\\n, Astra, \\n]   \n",
       "\n",
       "             Offer Number First Registration       Body Color      Paint Type  \\\n",
       "10765       [\\n2446894\\n]     [\\n, 2016, \\n]  [\\n, White, \\n]             NaN   \n",
       "7652        [\\n2125119\\n]     [\\n, 2019, \\n]  [\\n, Black, \\n]  [\\nMetallic\\n]   \n",
       "8085   [\\nBUCH19067540\\n]     [\\n, 2019, \\n]  [\\n, Black, \\n]  [\\nMetallic\\n]   \n",
       "\n",
       "                 Body Color Original                 Upholstery  \\\n",
       "10765                            NaN         [\\nCloth, Other\\n]   \n",
       "7652   [\\nOnyx Schwarz (Metallic)\\n]  [\\nFull leather, Black\\n]   \n",
       "8085         [\\nOnyx Schwarz (M2)\\n]                [\\nCloth\\n]   \n",
       "\n",
       "                          Body Nr. of Doors Nr. of Seats      Model Code  \\\n",
       "10765  [\\n, Station wagon, \\n]      [\\n5\\n]      [\\n5\\n]             NaN   \n",
       "7652   [\\n, Station wagon, \\n]      [\\n5\\n]      [\\n5\\n]  [\\n1844/AEV\\n]   \n",
       "8085          [\\n, Sedans, \\n]      [\\n5\\n]      [\\n5\\n]             NaN   \n",
       "\n",
       "              Gearing Type    Displacement Cylinders          Weight  \\\n",
       "10765  [\\n, Automatic, \\n]  [\\n1,598 cc\\n]   [\\n4\\n]  [\\n1,664 kg\\n]   \n",
       "7652   [\\n, Automatic, \\n]  [\\n1,399 cc\\n]   [\\n4\\n]             NaN   \n",
       "8085      [\\n, Manual, \\n]    [\\n999 cc\\n]       NaN  [\\n1,273 kg\\n]   \n",
       "\n",
       "       Drive chain                                   Fuel  \\\n",
       "10765  [\\nfront\\n]  [\\n, Diesel (Particulate Filter), \\n]   \n",
       "7652   [\\nfront\\n]                     [\\n, Super 95, \\n]   \n",
       "8085   [\\nfront\\n]                     [\\n, Gasoline, \\n]   \n",
       "\n",
       "                                             Consumption  \\\n",
       "10765  [[5.1 l/100 km (comb)], [6.6 l/100 km (city)],...   \n",
       "7652   [[6 l/100 km (comb)], [7.5 l/100 km (city)], [...   \n",
       "8085   [[4.7 l/100 km (comb)], [5.5 l/100 km (city)],...   \n",
       "\n",
       "                    CO2 Emission Emission Class  \\\n",
       "10765  [\\n130 g CO2/km (comb)\\n]   [\\nEuro 6\\n]   \n",
       "7652   [\\n138 g CO2/km (comb)\\n]   [\\nEuro 6\\n]   \n",
       "8085   [\\n107 g CO2/km (comb)\\n]            NaN   \n",
       "\n",
       "                               \\nComfort & Convenience\\n  \\\n",
       "10765  [Air conditioning, Armrest, Automatic climate ...   \n",
       "7652   [Air conditioning, Armrest, Automatic climate ...   \n",
       "8085   [Air conditioning, Armrest, Automatic climate ...   \n",
       "\n",
       "                               \\nEntertainment & Media\\n  \\\n",
       "10765  [Bluetooth, CD player, Hands-free equipment, M...   \n",
       "7652   [Bluetooth, Digital radio, Hands-free equipmen...   \n",
       "8085                                 [On-board computer]   \n",
       "\n",
       "                                              \\nExtras\\n  \\\n",
       "10765  [Alloy wheels, Roof rack, Sport seats, Touch s...   \n",
       "7652   [Alloy wheels, Catalytic Converter, Roof rack,...   \n",
       "8085                        [Alloy wheels, Touch screen]   \n",
       "\n",
       "                                   \\nSafety & Security\\n  \\\n",
       "10765  [ABS, Central door lock, Daytime running light...   \n",
       "7652   [ABS, Central door lock, Daytime running light...   \n",
       "8085   [ABS, Central door lock, Daytime running light...   \n",
       "\n",
       "                                             description   Emission Label  \\\n",
       "10765  [\\n, Der Opel Insignia ist immer eine Gute Wah...  [\\n4 (Green)\\n]   \n",
       "7652   [\\n, Sicherheit:,  ASR, Reifendruck-Kontrollsy...              NaN   \n",
       "8085   [\\nAlle mit G5 ausgezeichneten Gebrauchtwagen ...              NaN   \n",
       "\n",
       "         Gears Country version Electricity consumption Last Service Date  \\\n",
       "10765  [\\n6\\n]   [\\nGermany\\n]                     NaN               NaN   \n",
       "7652   [\\n6\\n]             NaN                     NaN               NaN   \n",
       "8085   [\\n5\\n]             NaN                     NaN               NaN   \n",
       "\n",
       "      Other Fuel Types Availability Last Timing Belt Service Date  \\\n",
       "10765              NaN          NaN                           NaN   \n",
       "7652               NaN          NaN                           NaN   \n",
       "8085               NaN          NaN                           NaN   \n",
       "\n",
       "      Available from  \n",
       "10765            NaN  \n",
       "7652             NaN  \n",
       "8085             NaN  "
      ]
     },
     "execution_count": 4,
     "metadata": {},
     "output_type": "execute_result"
    }
   ],
   "source": [
    "df.sample(3)"
   ]
  },
  {
   "cell_type": "code",
   "execution_count": 5,
   "id": "eac3c91e",
   "metadata": {
    "scrolled": true
   },
   "outputs": [
    {
     "data": {
      "text/html": [
       "<div>\n",
       "<style scoped>\n",
       "    .dataframe tbody tr th:only-of-type {\n",
       "        vertical-align: middle;\n",
       "    }\n",
       "\n",
       "    .dataframe tbody tr th {\n",
       "        vertical-align: top;\n",
       "    }\n",
       "\n",
       "    .dataframe thead th {\n",
       "        text-align: right;\n",
       "    }\n",
       "</style>\n",
       "<table border=\"1\" class=\"dataframe\">\n",
       "  <thead>\n",
       "    <tr style=\"text-align: right;\">\n",
       "      <th></th>\n",
       "      <th>url</th>\n",
       "      <th>make_model</th>\n",
       "      <th>short_description</th>\n",
       "      <th>body_type</th>\n",
       "      <th>price</th>\n",
       "      <th>vat</th>\n",
       "      <th>km</th>\n",
       "      <th>registration</th>\n",
       "      <th>prev_owner</th>\n",
       "      <th>kW</th>\n",
       "      <th>hp</th>\n",
       "      <th>Type</th>\n",
       "      <th>Previous Owners</th>\n",
       "      <th>Next Inspection</th>\n",
       "      <th>Inspection new</th>\n",
       "      <th>Warranty</th>\n",
       "      <th>Full Service</th>\n",
       "      <th>Non-smoking Vehicle</th>\n",
       "      <th>null</th>\n",
       "      <th>Make</th>\n",
       "      <th>Model</th>\n",
       "      <th>Offer Number</th>\n",
       "      <th>First Registration</th>\n",
       "      <th>Body Color</th>\n",
       "      <th>Paint Type</th>\n",
       "      <th>Body Color Original</th>\n",
       "      <th>Upholstery</th>\n",
       "      <th>Body</th>\n",
       "      <th>Nr. of Doors</th>\n",
       "      <th>Nr. of Seats</th>\n",
       "      <th>Model Code</th>\n",
       "      <th>Gearing Type</th>\n",
       "      <th>Displacement</th>\n",
       "      <th>Cylinders</th>\n",
       "      <th>Weight</th>\n",
       "      <th>Drive chain</th>\n",
       "      <th>Fuel</th>\n",
       "      <th>Consumption</th>\n",
       "      <th>CO2 Emission</th>\n",
       "      <th>Emission Class</th>\n",
       "      <th>\\nComfort &amp; Convenience\\n</th>\n",
       "      <th>\\nEntertainment &amp; Media\\n</th>\n",
       "      <th>\\nExtras\\n</th>\n",
       "      <th>\\nSafety &amp; Security\\n</th>\n",
       "      <th>description</th>\n",
       "      <th>Emission Label</th>\n",
       "      <th>Gears</th>\n",
       "      <th>Country version</th>\n",
       "      <th>Electricity consumption</th>\n",
       "      <th>Last Service Date</th>\n",
       "      <th>Other Fuel Types</th>\n",
       "      <th>Availability</th>\n",
       "      <th>Last Timing Belt Service Date</th>\n",
       "      <th>Available from</th>\n",
       "    </tr>\n",
       "  </thead>\n",
       "  <tbody>\n",
       "    <tr>\n",
       "      <th>15914</th>\n",
       "      <td>https://www.autoscout24.com//offers/renault-es...</td>\n",
       "      <td>Renault Espace</td>\n",
       "      <td>Blue dCi 200CV EDC Executive 4Control</td>\n",
       "      <td>Van</td>\n",
       "      <td>39950</td>\n",
       "      <td>VAT deductible</td>\n",
       "      <td>- km</td>\n",
       "      <td>-/-</td>\n",
       "      <td>None</td>\n",
       "      <td>NaN</td>\n",
       "      <td>147 kW</td>\n",
       "      <td>[, New, , Diesel (Particulate Filter)]</td>\n",
       "      <td>NaN</td>\n",
       "      <td>NaN</td>\n",
       "      <td>NaN</td>\n",
       "      <td>\\n24 months\\n</td>\n",
       "      <td>NaN</td>\n",
       "      <td>NaN</td>\n",
       "      <td>[]</td>\n",
       "      <td>\\nRenault\\n</td>\n",
       "      <td>[\\n, Espace, \\n]</td>\n",
       "      <td>[\\n10988301\\n]</td>\n",
       "      <td>NaN</td>\n",
       "      <td>[\\n, Grey, \\n]</td>\n",
       "      <td>[\\nMetallic\\n]</td>\n",
       "      <td>[\\nGrigio scuro\\n]</td>\n",
       "      <td>NaN</td>\n",
       "      <td>[\\n, Van, \\n]</td>\n",
       "      <td>[\\n5\\n]</td>\n",
       "      <td>[\\n5\\n]</td>\n",
       "      <td>NaN</td>\n",
       "      <td>[\\n, Automatic, \\n]</td>\n",
       "      <td>[\\n1,997 cc\\n]</td>\n",
       "      <td>[\\n4\\n]</td>\n",
       "      <td>[\\n1,758 kg\\n]</td>\n",
       "      <td>[\\nfront\\n]</td>\n",
       "      <td>[\\n, Diesel (Particulate Filter), \\n]</td>\n",
       "      <td>[[5.3 l/100 km (comb)], [6.2 l/100 km (city)],...</td>\n",
       "      <td>[\\n139 g CO2/km (comb)\\n]</td>\n",
       "      <td>NaN</td>\n",
       "      <td>[Air conditioning, Automatic climate control, ...</td>\n",
       "      <td>[Bluetooth, Digital radio, Hands-free equipmen...</td>\n",
       "      <td>[Alloy wheels, Touch screen]</td>\n",
       "      <td>[ABS, Central door lock, Central door lock wit...</td>\n",
       "      <td>[\\nVettura visionabile nella sede in Via Roma ...</td>\n",
       "      <td>NaN</td>\n",
       "      <td>[\\n6\\n]</td>\n",
       "      <td>NaN</td>\n",
       "      <td>NaN</td>\n",
       "      <td>NaN</td>\n",
       "      <td>NaN</td>\n",
       "      <td>NaN</td>\n",
       "      <td>NaN</td>\n",
       "      <td>NaN</td>\n",
       "    </tr>\n",
       "    <tr>\n",
       "      <th>15915</th>\n",
       "      <td>https://www.autoscout24.com//offers/renault-es...</td>\n",
       "      <td>Renault Espace</td>\n",
       "      <td>TCe 225 EDC GPF LIM Deluxe Pano,RFK</td>\n",
       "      <td>Van</td>\n",
       "      <td>39885</td>\n",
       "      <td>VAT deductible</td>\n",
       "      <td>9,900 km</td>\n",
       "      <td>01/2019</td>\n",
       "      <td>1 previous owner</td>\n",
       "      <td>NaN</td>\n",
       "      <td>165 kW</td>\n",
       "      <td>[, Used, , Super 95 / Super Plus 98 (Particula...</td>\n",
       "      <td>[\\n1\\n, \\n, 7.4 l/100 km (comb), \\n, 9.2 l/100...</td>\n",
       "      <td>[\\n01/2022\\n, \\n168 g CO2/km (comb)\\n]</td>\n",
       "      <td>NaN</td>\n",
       "      <td>[\\n, \\n, \\nEuro 6\\n]</td>\n",
       "      <td>NaN</td>\n",
       "      <td>[\\n, \\n, \\n4 (Green)\\n]</td>\n",
       "      <td>[]</td>\n",
       "      <td>\\nRenault\\n</td>\n",
       "      <td>[\\n, Espace, \\n]</td>\n",
       "      <td>[\\n507370_3223\\n]</td>\n",
       "      <td>[\\n, 2019, \\n]</td>\n",
       "      <td>[\\n, Grey, \\n]</td>\n",
       "      <td>[\\nMetallic\\n]</td>\n",
       "      <td>[\\nStahl-Grau Metallic\\n]</td>\n",
       "      <td>[\\nCloth\\n]</td>\n",
       "      <td>[\\n, Van, \\n]</td>\n",
       "      <td>[\\n5\\n]</td>\n",
       "      <td>[\\n5\\n]</td>\n",
       "      <td>[\\n0000/000\\n]</td>\n",
       "      <td>[\\n, Automatic, \\n]</td>\n",
       "      <td>[\\n1,798 cc\\n]</td>\n",
       "      <td>[\\n4\\n]</td>\n",
       "      <td>[\\n1,708 kg\\n]</td>\n",
       "      <td>[\\nfront\\n]</td>\n",
       "      <td>[\\n, Super 95 / Super Plus 98 (Particulate Fil...</td>\n",
       "      <td>[\\n, 7.4 l/100 km (comb), \\n, 9.2 l/100 km (ci...</td>\n",
       "      <td>[\\n168 g CO2/km (comb)\\n]</td>\n",
       "      <td>NaN</td>\n",
       "      <td>[Air conditioning, Automatic climate control, ...</td>\n",
       "      <td>[Bluetooth, Digital radio, Hands-free equipmen...</td>\n",
       "      <td>[Alloy wheels, Touch screen, Voice Control]</td>\n",
       "      <td>[ABS, Adaptive Cruise Control, Blind spot moni...</td>\n",
       "      <td>[\\nDach: Panorama-Glas-Schiebedach, Lackierung...</td>\n",
       "      <td>NaN</td>\n",
       "      <td>[\\n7\\n]</td>\n",
       "      <td>[\\nGermany\\n]</td>\n",
       "      <td>NaN</td>\n",
       "      <td>NaN</td>\n",
       "      <td>[[], [], []]</td>\n",
       "      <td>\\nin 5 days from ordering\\n</td>\n",
       "      <td>NaN</td>\n",
       "      <td>NaN</td>\n",
       "    </tr>\n",
       "    <tr>\n",
       "      <th>15916</th>\n",
       "      <td>https://www.autoscout24.com//offers/renault-es...</td>\n",
       "      <td>Renault Espace</td>\n",
       "      <td>Blue dCi 200 EDC Initiale Paris Leder LED Navi...</td>\n",
       "      <td>Van</td>\n",
       "      <td>39875</td>\n",
       "      <td>VAT deductible</td>\n",
       "      <td>15 km</td>\n",
       "      <td>03/2019</td>\n",
       "      <td>1 previous owner</td>\n",
       "      <td>NaN</td>\n",
       "      <td>146 kW</td>\n",
       "      <td>[, Pre-registered, , Diesel]</td>\n",
       "      <td>[\\n1\\n, \\n139 g CO2/km (comb)\\n]</td>\n",
       "      <td>NaN</td>\n",
       "      <td>[\\nYes\\n, \\nEuro 6d-TEMP\\n]</td>\n",
       "      <td>[\\n, \\n, \\n4 (Green)\\n]</td>\n",
       "      <td>[\\n, \\n]</td>\n",
       "      <td>[\\n, \\n]</td>\n",
       "      <td>[]</td>\n",
       "      <td>\\nRenault\\n</td>\n",
       "      <td>[\\n, Espace, \\n]</td>\n",
       "      <td>[\\nEspace16\\n]</td>\n",
       "      <td>[\\n, 2019, \\n]</td>\n",
       "      <td>[\\n, White, \\n]</td>\n",
       "      <td>NaN</td>\n",
       "      <td>[\\narktis-weiß\\n]</td>\n",
       "      <td>[\\nFull leather, Black\\n]</td>\n",
       "      <td>[\\n, Van, \\n]</td>\n",
       "      <td>[\\n5\\n]</td>\n",
       "      <td>[\\n7\\n]</td>\n",
       "      <td>NaN</td>\n",
       "      <td>[\\n, Automatic, \\n]</td>\n",
       "      <td>[\\n1,997 cc\\n]</td>\n",
       "      <td>[\\n4\\n]</td>\n",
       "      <td>NaN</td>\n",
       "      <td>[\\nfront\\n]</td>\n",
       "      <td>[\\n, Diesel, \\n]</td>\n",
       "      <td>[[5.3 l/100 km (comb)], [6.2 l/100 km (city)],...</td>\n",
       "      <td>[\\n139 g CO2/km (comb)\\n]</td>\n",
       "      <td>[\\nEuro 6d-TEMP\\n]</td>\n",
       "      <td>[Air conditioning, Armrest, Automatic climate ...</td>\n",
       "      <td>[Bluetooth, Hands-free equipment, On-board com...</td>\n",
       "      <td>[Alloy wheels]</td>\n",
       "      <td>[ABS, Adaptive Cruise Control, Blind spot moni...</td>\n",
       "      <td>[\\n, Getriebe:,  Automatik, Technik:,  Bordcom...</td>\n",
       "      <td>NaN</td>\n",
       "      <td>[\\n6\\n]</td>\n",
       "      <td>[\\nAustria\\n]</td>\n",
       "      <td>NaN</td>\n",
       "      <td>NaN</td>\n",
       "      <td>NaN</td>\n",
       "      <td>\\nin 120 days from ordering\\n</td>\n",
       "      <td>NaN</td>\n",
       "      <td>NaN</td>\n",
       "    </tr>\n",
       "    <tr>\n",
       "      <th>15917</th>\n",
       "      <td>https://www.autoscout24.com//offers/renault-es...</td>\n",
       "      <td>Renault Espace</td>\n",
       "      <td>Blue dCi 200CV EDC Business , NUOVA DA IMMATRI...</td>\n",
       "      <td>Van</td>\n",
       "      <td>39700</td>\n",
       "      <td>VAT deductible</td>\n",
       "      <td>10 km</td>\n",
       "      <td>06/2019</td>\n",
       "      <td>None</td>\n",
       "      <td>NaN</td>\n",
       "      <td>147 kW</td>\n",
       "      <td>[, Pre-registered, , Diesel]</td>\n",
       "      <td>NaN</td>\n",
       "      <td>NaN</td>\n",
       "      <td>NaN</td>\n",
       "      <td>\\n</td>\n",
       "      <td>NaN</td>\n",
       "      <td>NaN</td>\n",
       "      <td>[]</td>\n",
       "      <td>\\nRenault\\n</td>\n",
       "      <td>[\\n, Espace, \\n]</td>\n",
       "      <td>[\\n2691331\\n]</td>\n",
       "      <td>[\\n, 2019, \\n]</td>\n",
       "      <td>[\\n, Grey, \\n]</td>\n",
       "      <td>NaN</td>\n",
       "      <td>[\\nGrigio\\n]</td>\n",
       "      <td>[\\nPart leather\\n]</td>\n",
       "      <td>[\\n, Van, \\n]</td>\n",
       "      <td>[\\n5\\n]</td>\n",
       "      <td>[\\n7\\n]</td>\n",
       "      <td>NaN</td>\n",
       "      <td>[\\n, Automatic, \\n]</td>\n",
       "      <td>[\\n1,997 cc\\n]</td>\n",
       "      <td>[\\n4\\n]</td>\n",
       "      <td>[\\n1,758 kg\\n]</td>\n",
       "      <td>[\\nfront\\n]</td>\n",
       "      <td>[\\n, Diesel, \\n]</td>\n",
       "      <td>[[5.3 l/100 km (comb)], [6.2 l/100 km (city)],...</td>\n",
       "      <td>[\\n139 g CO2/km (comb)\\n]</td>\n",
       "      <td>[\\nEuro 6\\n]</td>\n",
       "      <td>[Air conditioning, Automatic climate control, ...</td>\n",
       "      <td>[Bluetooth, Digital radio, Radio, USB]</td>\n",
       "      <td>[Alloy wheels, Touch screen]</td>\n",
       "      <td>[ABS, Blind spot monitor, Driver-side airbag, ...</td>\n",
       "      <td>[\\nDEK:[2691331], Renault Espace Blue dCi 200C...</td>\n",
       "      <td>NaN</td>\n",
       "      <td>[\\n6\\n]</td>\n",
       "      <td>NaN</td>\n",
       "      <td>NaN</td>\n",
       "      <td>NaN</td>\n",
       "      <td>NaN</td>\n",
       "      <td>NaN</td>\n",
       "      <td>NaN</td>\n",
       "      <td>NaN</td>\n",
       "    </tr>\n",
       "    <tr>\n",
       "      <th>15918</th>\n",
       "      <td>https://www.autoscout24.com//offers/renault-es...</td>\n",
       "      <td>Renault Espace</td>\n",
       "      <td>INITIALE PARIS TCe 225 EDC GPF NAVI SHZ AUX</td>\n",
       "      <td>Van</td>\n",
       "      <td>40999</td>\n",
       "      <td>VAT deductible</td>\n",
       "      <td>- km</td>\n",
       "      <td>01/2019</td>\n",
       "      <td>1 previous owner</td>\n",
       "      <td>NaN</td>\n",
       "      <td>165 kW</td>\n",
       "      <td>[, Demonstration, , Super 95]</td>\n",
       "      <td>\\n1\\n</td>\n",
       "      <td>NaN</td>\n",
       "      <td>[\\nYes\\n, \\n153 g CO2/km (comb)\\n]</td>\n",
       "      <td>NaN</td>\n",
       "      <td>NaN</td>\n",
       "      <td>NaN</td>\n",
       "      <td>[]</td>\n",
       "      <td>\\nRenault\\n</td>\n",
       "      <td>[\\n, Espace, \\n]</td>\n",
       "      <td>[\\nRe_30000008029\\n]</td>\n",
       "      <td>[\\n, 2019, \\n]</td>\n",
       "      <td>[\\n, Grey, \\n]</td>\n",
       "      <td>[\\nMetallic\\n]</td>\n",
       "      <td>[\\nTitanium-Grau Metallic\\n]</td>\n",
       "      <td>[\\nFull leather, Brown\\n]</td>\n",
       "      <td>[\\n, Van, \\n]</td>\n",
       "      <td>[\\n5\\n]</td>\n",
       "      <td>[\\n5\\n]</td>\n",
       "      <td>[\\n3333/BHJ\\n]</td>\n",
       "      <td>[\\n, Automatic, \\n]</td>\n",
       "      <td>[\\n1,798 cc\\n]</td>\n",
       "      <td>[\\n4\\n]</td>\n",
       "      <td>[\\n1,685 kg\\n]</td>\n",
       "      <td>[\\n4WD\\n]</td>\n",
       "      <td>[\\n, Super 95, \\n]</td>\n",
       "      <td>[[6.8 l/100 km (comb)], [8.7 l/100 km (city)],...</td>\n",
       "      <td>[\\n153 g CO2/km (comb)\\n]</td>\n",
       "      <td>[\\nEuro 6\\n]</td>\n",
       "      <td>[Air conditioning, Automatic climate control, ...</td>\n",
       "      <td>[USB]</td>\n",
       "      <td>[Alloy wheels, Touch screen]</td>\n",
       "      <td>[ABS, Blind spot monitor, Daytime running ligh...</td>\n",
       "      <td>[\\n, Sicherheit Airbags:,  , Seitenairbag,  , ...</td>\n",
       "      <td>[\\n4 (Green)\\n]</td>\n",
       "      <td>NaN</td>\n",
       "      <td>[\\nGermany\\n]</td>\n",
       "      <td>NaN</td>\n",
       "      <td>NaN</td>\n",
       "      <td>NaN</td>\n",
       "      <td>NaN</td>\n",
       "      <td>NaN</td>\n",
       "      <td>NaN</td>\n",
       "    </tr>\n",
       "  </tbody>\n",
       "</table>\n",
       "</div>"
      ],
      "text/plain": [
       "                                                     url      make_model  \\\n",
       "15914  https://www.autoscout24.com//offers/renault-es...  Renault Espace   \n",
       "15915  https://www.autoscout24.com//offers/renault-es...  Renault Espace   \n",
       "15916  https://www.autoscout24.com//offers/renault-es...  Renault Espace   \n",
       "15917  https://www.autoscout24.com//offers/renault-es...  Renault Espace   \n",
       "15918  https://www.autoscout24.com//offers/renault-es...  Renault Espace   \n",
       "\n",
       "                                       short_description body_type  price  \\\n",
       "15914              Blue dCi 200CV EDC Executive 4Control       Van  39950   \n",
       "15915                TCe 225 EDC GPF LIM Deluxe Pano,RFK       Van  39885   \n",
       "15916  Blue dCi 200 EDC Initiale Paris Leder LED Navi...       Van  39875   \n",
       "15917  Blue dCi 200CV EDC Business , NUOVA DA IMMATRI...       Van  39700   \n",
       "15918        INITIALE PARIS TCe 225 EDC GPF NAVI SHZ AUX       Van  40999   \n",
       "\n",
       "                  vat        km registration        prev_owner  kW      hp  \\\n",
       "15914  VAT deductible      - km          -/-              None NaN  147 kW   \n",
       "15915  VAT deductible  9,900 km      01/2019  1 previous owner NaN  165 kW   \n",
       "15916  VAT deductible     15 km      03/2019  1 previous owner NaN  146 kW   \n",
       "15917  VAT deductible     10 km      06/2019              None NaN  147 kW   \n",
       "15918  VAT deductible      - km      01/2019  1 previous owner NaN  165 kW   \n",
       "\n",
       "                                                    Type  \\\n",
       "15914             [, New, , Diesel (Particulate Filter)]   \n",
       "15915  [, Used, , Super 95 / Super Plus 98 (Particula...   \n",
       "15916                       [, Pre-registered, , Diesel]   \n",
       "15917                       [, Pre-registered, , Diesel]   \n",
       "15918                      [, Demonstration, , Super 95]   \n",
       "\n",
       "                                         Previous Owners  \\\n",
       "15914                                                NaN   \n",
       "15915  [\\n1\\n, \\n, 7.4 l/100 km (comb), \\n, 9.2 l/100...   \n",
       "15916                   [\\n1\\n, \\n139 g CO2/km (comb)\\n]   \n",
       "15917                                                NaN   \n",
       "15918                                              \\n1\\n   \n",
       "\n",
       "                              Next Inspection  \\\n",
       "15914                                     NaN   \n",
       "15915  [\\n01/2022\\n, \\n168 g CO2/km (comb)\\n]   \n",
       "15916                                     NaN   \n",
       "15917                                     NaN   \n",
       "15918                                     NaN   \n",
       "\n",
       "                           Inspection new                 Warranty  \\\n",
       "15914                                 NaN            \\n24 months\\n   \n",
       "15915                                 NaN     [\\n, \\n, \\nEuro 6\\n]   \n",
       "15916         [\\nYes\\n, \\nEuro 6d-TEMP\\n]  [\\n, \\n, \\n4 (Green)\\n]   \n",
       "15917                                 NaN                       \\n   \n",
       "15918  [\\nYes\\n, \\n153 g CO2/km (comb)\\n]                      NaN   \n",
       "\n",
       "      Full Service      Non-smoking Vehicle null         Make  \\\n",
       "15914          NaN                      NaN   []  \\nRenault\\n   \n",
       "15915          NaN  [\\n, \\n, \\n4 (Green)\\n]   []  \\nRenault\\n   \n",
       "15916     [\\n, \\n]                 [\\n, \\n]   []  \\nRenault\\n   \n",
       "15917          NaN                      NaN   []  \\nRenault\\n   \n",
       "15918          NaN                      NaN   []  \\nRenault\\n   \n",
       "\n",
       "                  Model          Offer Number First Registration  \\\n",
       "15914  [\\n, Espace, \\n]        [\\n10988301\\n]                NaN   \n",
       "15915  [\\n, Espace, \\n]     [\\n507370_3223\\n]     [\\n, 2019, \\n]   \n",
       "15916  [\\n, Espace, \\n]        [\\nEspace16\\n]     [\\n, 2019, \\n]   \n",
       "15917  [\\n, Espace, \\n]         [\\n2691331\\n]     [\\n, 2019, \\n]   \n",
       "15918  [\\n, Espace, \\n]  [\\nRe_30000008029\\n]     [\\n, 2019, \\n]   \n",
       "\n",
       "            Body Color      Paint Type           Body Color Original  \\\n",
       "15914   [\\n, Grey, \\n]  [\\nMetallic\\n]            [\\nGrigio scuro\\n]   \n",
       "15915   [\\n, Grey, \\n]  [\\nMetallic\\n]     [\\nStahl-Grau Metallic\\n]   \n",
       "15916  [\\n, White, \\n]             NaN             [\\narktis-weiß\\n]   \n",
       "15917   [\\n, Grey, \\n]             NaN                  [\\nGrigio\\n]   \n",
       "15918   [\\n, Grey, \\n]  [\\nMetallic\\n]  [\\nTitanium-Grau Metallic\\n]   \n",
       "\n",
       "                      Upholstery           Body Nr. of Doors Nr. of Seats  \\\n",
       "15914                        NaN  [\\n, Van, \\n]      [\\n5\\n]      [\\n5\\n]   \n",
       "15915                [\\nCloth\\n]  [\\n, Van, \\n]      [\\n5\\n]      [\\n5\\n]   \n",
       "15916  [\\nFull leather, Black\\n]  [\\n, Van, \\n]      [\\n5\\n]      [\\n7\\n]   \n",
       "15917         [\\nPart leather\\n]  [\\n, Van, \\n]      [\\n5\\n]      [\\n7\\n]   \n",
       "15918  [\\nFull leather, Brown\\n]  [\\n, Van, \\n]      [\\n5\\n]      [\\n5\\n]   \n",
       "\n",
       "           Model Code         Gearing Type    Displacement Cylinders  \\\n",
       "15914             NaN  [\\n, Automatic, \\n]  [\\n1,997 cc\\n]   [\\n4\\n]   \n",
       "15915  [\\n0000/000\\n]  [\\n, Automatic, \\n]  [\\n1,798 cc\\n]   [\\n4\\n]   \n",
       "15916             NaN  [\\n, Automatic, \\n]  [\\n1,997 cc\\n]   [\\n4\\n]   \n",
       "15917             NaN  [\\n, Automatic, \\n]  [\\n1,997 cc\\n]   [\\n4\\n]   \n",
       "15918  [\\n3333/BHJ\\n]  [\\n, Automatic, \\n]  [\\n1,798 cc\\n]   [\\n4\\n]   \n",
       "\n",
       "               Weight  Drive chain  \\\n",
       "15914  [\\n1,758 kg\\n]  [\\nfront\\n]   \n",
       "15915  [\\n1,708 kg\\n]  [\\nfront\\n]   \n",
       "15916             NaN  [\\nfront\\n]   \n",
       "15917  [\\n1,758 kg\\n]  [\\nfront\\n]   \n",
       "15918  [\\n1,685 kg\\n]    [\\n4WD\\n]   \n",
       "\n",
       "                                                    Fuel  \\\n",
       "15914              [\\n, Diesel (Particulate Filter), \\n]   \n",
       "15915  [\\n, Super 95 / Super Plus 98 (Particulate Fil...   \n",
       "15916                                   [\\n, Diesel, \\n]   \n",
       "15917                                   [\\n, Diesel, \\n]   \n",
       "15918                                 [\\n, Super 95, \\n]   \n",
       "\n",
       "                                             Consumption  \\\n",
       "15914  [[5.3 l/100 km (comb)], [6.2 l/100 km (city)],...   \n",
       "15915  [\\n, 7.4 l/100 km (comb), \\n, 9.2 l/100 km (ci...   \n",
       "15916  [[5.3 l/100 km (comb)], [6.2 l/100 km (city)],...   \n",
       "15917  [[5.3 l/100 km (comb)], [6.2 l/100 km (city)],...   \n",
       "15918  [[6.8 l/100 km (comb)], [8.7 l/100 km (city)],...   \n",
       "\n",
       "                    CO2 Emission      Emission Class  \\\n",
       "15914  [\\n139 g CO2/km (comb)\\n]                 NaN   \n",
       "15915  [\\n168 g CO2/km (comb)\\n]                 NaN   \n",
       "15916  [\\n139 g CO2/km (comb)\\n]  [\\nEuro 6d-TEMP\\n]   \n",
       "15917  [\\n139 g CO2/km (comb)\\n]        [\\nEuro 6\\n]   \n",
       "15918  [\\n153 g CO2/km (comb)\\n]        [\\nEuro 6\\n]   \n",
       "\n",
       "                               \\nComfort & Convenience\\n  \\\n",
       "15914  [Air conditioning, Automatic climate control, ...   \n",
       "15915  [Air conditioning, Automatic climate control, ...   \n",
       "15916  [Air conditioning, Armrest, Automatic climate ...   \n",
       "15917  [Air conditioning, Automatic climate control, ...   \n",
       "15918  [Air conditioning, Automatic climate control, ...   \n",
       "\n",
       "                               \\nEntertainment & Media\\n  \\\n",
       "15914  [Bluetooth, Digital radio, Hands-free equipmen...   \n",
       "15915  [Bluetooth, Digital radio, Hands-free equipmen...   \n",
       "15916  [Bluetooth, Hands-free equipment, On-board com...   \n",
       "15917             [Bluetooth, Digital radio, Radio, USB]   \n",
       "15918                                              [USB]   \n",
       "\n",
       "                                        \\nExtras\\n  \\\n",
       "15914                 [Alloy wheels, Touch screen]   \n",
       "15915  [Alloy wheels, Touch screen, Voice Control]   \n",
       "15916                               [Alloy wheels]   \n",
       "15917                 [Alloy wheels, Touch screen]   \n",
       "15918                 [Alloy wheels, Touch screen]   \n",
       "\n",
       "                                   \\nSafety & Security\\n  \\\n",
       "15914  [ABS, Central door lock, Central door lock wit...   \n",
       "15915  [ABS, Adaptive Cruise Control, Blind spot moni...   \n",
       "15916  [ABS, Adaptive Cruise Control, Blind spot moni...   \n",
       "15917  [ABS, Blind spot monitor, Driver-side airbag, ...   \n",
       "15918  [ABS, Blind spot monitor, Daytime running ligh...   \n",
       "\n",
       "                                             description   Emission Label  \\\n",
       "15914  [\\nVettura visionabile nella sede in Via Roma ...              NaN   \n",
       "15915  [\\nDach: Panorama-Glas-Schiebedach, Lackierung...              NaN   \n",
       "15916  [\\n, Getriebe:,  Automatik, Technik:,  Bordcom...              NaN   \n",
       "15917  [\\nDEK:[2691331], Renault Espace Blue dCi 200C...              NaN   \n",
       "15918  [\\n, Sicherheit Airbags:,  , Seitenairbag,  , ...  [\\n4 (Green)\\n]   \n",
       "\n",
       "         Gears Country version Electricity consumption Last Service Date  \\\n",
       "15914  [\\n6\\n]             NaN                     NaN               NaN   \n",
       "15915  [\\n7\\n]   [\\nGermany\\n]                     NaN               NaN   \n",
       "15916  [\\n6\\n]   [\\nAustria\\n]                     NaN               NaN   \n",
       "15917  [\\n6\\n]             NaN                     NaN               NaN   \n",
       "15918      NaN   [\\nGermany\\n]                     NaN               NaN   \n",
       "\n",
       "      Other Fuel Types                   Availability  \\\n",
       "15914              NaN                            NaN   \n",
       "15915     [[], [], []]    \\nin 5 days from ordering\\n   \n",
       "15916              NaN  \\nin 120 days from ordering\\n   \n",
       "15917              NaN                            NaN   \n",
       "15918              NaN                            NaN   \n",
       "\n",
       "      Last Timing Belt Service Date Available from  \n",
       "15914                           NaN            NaN  \n",
       "15915                           NaN            NaN  \n",
       "15916                           NaN            NaN  \n",
       "15917                           NaN            NaN  \n",
       "15918                           NaN            NaN  "
      ]
     },
     "execution_count": 5,
     "metadata": {},
     "output_type": "execute_result"
    }
   ],
   "source": [
    "df.tail()"
   ]
  },
  {
   "cell_type": "code",
   "execution_count": 6,
   "id": "01e5bd1f",
   "metadata": {},
   "outputs": [
    {
     "data": {
      "text/plain": [
       "(15919, 54)"
      ]
     },
     "execution_count": 6,
     "metadata": {},
     "output_type": "execute_result"
    }
   ],
   "source": [
    "df.shape"
   ]
  },
  {
   "cell_type": "code",
   "execution_count": 7,
   "id": "706424ce",
   "metadata": {
    "scrolled": true
   },
   "outputs": [
    {
     "name": "stdout",
     "output_type": "stream",
     "text": [
      "<class 'pandas.core.frame.DataFrame'>\n",
      "RangeIndex: 15919 entries, 0 to 15918\n",
      "Data columns (total 54 columns):\n",
      " #   Column                         Non-Null Count  Dtype  \n",
      "---  ------                         --------------  -----  \n",
      " 0   url                            15919 non-null  object \n",
      " 1   make_model                     15919 non-null  object \n",
      " 2   short_description              15873 non-null  object \n",
      " 3   body_type                      15859 non-null  object \n",
      " 4   price                          15919 non-null  int64  \n",
      " 5   vat                            11406 non-null  object \n",
      " 6   km                             15919 non-null  object \n",
      " 7   registration                   15919 non-null  object \n",
      " 8   prev_owner                     9091 non-null   object \n",
      " 9   kW                             0 non-null      float64\n",
      " 10  hp                             15919 non-null  object \n",
      " 11  Type                           15917 non-null  object \n",
      " 12  Previous Owners                9279 non-null   object \n",
      " 13  Next Inspection                3535 non-null   object \n",
      " 14  Inspection new                 3932 non-null   object \n",
      " 15  Warranty                       10499 non-null  object \n",
      " 16  Full Service                   8215 non-null   object \n",
      " 17  Non-smoking Vehicle            7177 non-null   object \n",
      " 18  null                           15919 non-null  object \n",
      " 19  Make                           15919 non-null  object \n",
      " 20  Model                          15919 non-null  object \n",
      " 21  Offer Number                   12744 non-null  object \n",
      " 22  First Registration             14322 non-null  object \n",
      " 23  Body Color                     15322 non-null  object \n",
      " 24  Paint Type                     10147 non-null  object \n",
      " 25  Body Color Original            12160 non-null  object \n",
      " 26  Upholstery                     12199 non-null  object \n",
      " 27  Body                           15859 non-null  object \n",
      " 28  Nr. of Doors                   15707 non-null  object \n",
      " 29  Nr. of Seats                   14942 non-null  object \n",
      " 30  Model Code                     4978 non-null   object \n",
      " 31  Gearing Type                   15919 non-null  object \n",
      " 32  Displacement                   15423 non-null  object \n",
      " 33  Cylinders                      10239 non-null  object \n",
      " 34  Weight                         8945 non-null   object \n",
      " 35  Drive chain                    9061 non-null   object \n",
      " 36  Fuel                           15919 non-null  object \n",
      " 37  Consumption                    14013 non-null  object \n",
      " 38  CO2 Emission                   14111 non-null  object \n",
      " 39  Emission Class                 12898 non-null  object \n",
      " 40  \n",
      "Comfort & Convenience\n",
      "        14999 non-null  object \n",
      " 41  \n",
      "Entertainment & Media\n",
      "        14545 non-null  object \n",
      " 42  \n",
      "Extras\n",
      "                       12957 non-null  object \n",
      " 43  \n",
      "Safety & Security\n",
      "            14937 non-null  object \n",
      " 44  description                    15919 non-null  object \n",
      " 45  Emission Label                 3985 non-null   object \n",
      " 46  Gears                          11207 non-null  object \n",
      " 47  Country version                7586 non-null   object \n",
      " 48  Electricity consumption        137 non-null    object \n",
      " 49  Last Service Date              566 non-null    object \n",
      " 50  Other Fuel Types               880 non-null    object \n",
      " 51  Availability                   635 non-null    object \n",
      " 52  Last Timing Belt Service Date  16 non-null     object \n",
      " 53  Available from                 272 non-null    object \n",
      "dtypes: float64(1), int64(1), object(52)\n",
      "memory usage: 6.6+ MB\n"
     ]
    }
   ],
   "source": [
    "df.info()"
   ]
  },
  {
   "cell_type": "code",
   "execution_count": 9,
   "id": "f6f69cdc",
   "metadata": {
    "scrolled": true
   },
   "outputs": [
    {
     "data": {
      "text/plain": [
       "url                                  0\n",
       "make_model                           0\n",
       "short_description                   46\n",
       "body_type                           60\n",
       "price                                0\n",
       "vat                               4513\n",
       "km                                   0\n",
       "registration                         0\n",
       "prev_owner                        6828\n",
       "kW                               15919\n",
       "hp                                   0\n",
       "Type                                 2\n",
       "Previous Owners                   6640\n",
       "Next Inspection                  12384\n",
       "Inspection new                   11987\n",
       "Warranty                          5420\n",
       "Full Service                      7704\n",
       "Non-smoking Vehicle               8742\n",
       "null                                 0\n",
       "Make                                 0\n",
       "Model                                0\n",
       "Offer Number                      3175\n",
       "First Registration                1597\n",
       "Body Color                         597\n",
       "Paint Type                        5772\n",
       "Body Color Original               3759\n",
       "Upholstery                        3720\n",
       "Body                                60\n",
       "Nr. of Doors                       212\n",
       "Nr. of Seats                       977\n",
       "Model Code                       10941\n",
       "Gearing Type                         0\n",
       "Displacement                       496\n",
       "Cylinders                         5680\n",
       "Weight                            6974\n",
       "Drive chain                       6858\n",
       "Fuel                                 0\n",
       "Consumption                       1906\n",
       "CO2 Emission                      1808\n",
       "Emission Class                    3021\n",
       "\\nComfort & Convenience\\n          920\n",
       "\\nEntertainment & Media\\n         1374\n",
       "\\nExtras\\n                        2962\n",
       "\\nSafety & Security\\n              982\n",
       "description                          0\n",
       "Emission Label                   11934\n",
       "Gears                             4712\n",
       "Country version                   8333\n",
       "Electricity consumption          15782\n",
       "Last Service Date                15353\n",
       "Other Fuel Types                 15039\n",
       "Availability                     15284\n",
       "Last Timing Belt Service Date    15903\n",
       "Available from                   15647\n",
       "dtype: int64"
      ]
     },
     "execution_count": 9,
     "metadata": {},
     "output_type": "execute_result"
    }
   ],
   "source": [
    "df.isnull().sum()"
   ]
  },
  {
   "cell_type": "code",
   "execution_count": 10,
   "id": "424355f5",
   "metadata": {
    "scrolled": true
   },
   "outputs": [
    {
     "data": {
      "text/plain": [
       "url                               0.000\n",
       "make_model                        0.000\n",
       "short_description                 0.290\n",
       "body_type                         0.380\n",
       "price                             0.000\n",
       "vat                              28.350\n",
       "km                                0.000\n",
       "registration                      0.000\n",
       "prev_owner                       42.890\n",
       "kW                              100.000\n",
       "hp                                0.000\n",
       "Type                              0.010\n",
       "Previous Owners                  41.710\n",
       "Next Inspection                  77.790\n",
       "Inspection new                   75.300\n",
       "Warranty                         34.050\n",
       "Full Service                     48.390\n",
       "Non-smoking Vehicle              54.920\n",
       "null                              0.000\n",
       "Make                              0.000\n",
       "Model                             0.000\n",
       "Offer Number                     19.940\n",
       "First Registration               10.030\n",
       "Body Color                        3.750\n",
       "Paint Type                       36.260\n",
       "Body Color Original              23.610\n",
       "Upholstery                       23.370\n",
       "Body                              0.380\n",
       "Nr. of Doors                      1.330\n",
       "Nr. of Seats                      6.140\n",
       "Model Code                       68.730\n",
       "Gearing Type                      0.000\n",
       "Displacement                      3.120\n",
       "Cylinders                        35.680\n",
       "Weight                           43.810\n",
       "Drive chain                      43.080\n",
       "Fuel                              0.000\n",
       "Consumption                      11.970\n",
       "CO2 Emission                     11.360\n",
       "Emission Class                   18.980\n",
       "\\nComfort & Convenience\\n         5.780\n",
       "\\nEntertainment & Media\\n         8.630\n",
       "\\nExtras\\n                       18.610\n",
       "\\nSafety & Security\\n             6.170\n",
       "description                       0.000\n",
       "Emission Label                   74.970\n",
       "Gears                            29.600\n",
       "Country version                  52.350\n",
       "Electricity consumption          99.140\n",
       "Last Service Date                96.440\n",
       "Other Fuel Types                 94.470\n",
       "Availability                     96.010\n",
       "Last Timing Belt Service Date    99.900\n",
       "Available from                   98.290\n",
       "dtype: float64"
      ]
     },
     "execution_count": 10,
     "metadata": {},
     "output_type": "execute_result"
    }
   ],
   "source": [
    "round(df.isnull().sum()/df.shape[0] * 100, 2)"
   ]
  },
  {
   "cell_type": "code",
   "execution_count": 11,
   "id": "57d503e3",
   "metadata": {},
   "outputs": [
    {
     "data": {
      "image/png": "[encoded data removed]",
      "text/plain": [
       "<Figure size 720x432 with 1 Axes>"
      ]
     },
     "metadata": {},
     "output_type": "display_data"
    }
   ],
   "source": [
    "sns.heatmap(df.isnull(), yticklabels=False, cbar=False, cmap='viridis');"
   ]
  },
  {
   "cell_type": "code",
   "execution_count": 12,
   "id": "c7bb39eb",
   "metadata": {
    "scrolled": true
   },
   "outputs": [
    {
     "data": {
      "text/plain": [
       "url                               0.000\n",
       "make_model                        0.000\n",
       "price                             0.000\n",
       "description                       0.000\n",
       "km                                0.000\n",
       "registration                      0.000\n",
       "Gearing Type                      0.000\n",
       "Model                             0.000\n",
       "hp                                0.000\n",
       "Make                              0.000\n",
       "null                              0.000\n",
       "Fuel                              0.000\n",
       "Type                              0.010\n",
       "short_description                 0.290\n",
       "body_type                         0.380\n",
       "Body                              0.380\n",
       "Nr. of Doors                      1.330\n",
       "Displacement                      3.120\n",
       "Body Color                        3.750\n",
       "\\nComfort & Convenience\\n         5.780\n",
       "Nr. of Seats                      6.140\n",
       "\\nSafety & Security\\n             6.170\n",
       "\\nEntertainment & Media\\n         8.630\n",
       "First Registration               10.030\n",
       "CO2 Emission                     11.360\n",
       "Consumption                      11.970\n",
       "\\nExtras\\n                       18.610\n",
       "Emission Class                   18.980\n",
       "Offer Number                     19.940\n",
       "Upholstery                       23.370\n",
       "Body Color Original              23.610\n",
       "vat                              28.350\n",
       "Gears                            29.600\n",
       "Warranty                         34.050\n",
       "Cylinders                        35.680\n",
       "Paint Type                       36.260\n",
       "Previous Owners                  41.710\n",
       "prev_owner                       42.890\n",
       "Drive chain                      43.080\n",
       "Weight                           43.810\n",
       "Full Service                     48.390\n",
       "Country version                  52.350\n",
       "Non-smoking Vehicle              54.920\n",
       "Model Code                       68.730\n",
       "Emission Label                   74.970\n",
       "Inspection new                   75.300\n",
       "Next Inspection                  77.790\n",
       "Other Fuel Types                 94.470\n",
       "Availability                     96.010\n",
       "Last Service Date                96.440\n",
       "Available from                   98.290\n",
       "Electricity consumption          99.140\n",
       "Last Timing Belt Service Date    99.900\n",
       "kW                              100.000\n",
       "dtype: float64"
      ]
     },
     "execution_count": 12,
     "metadata": {},
     "output_type": "execute_result"
    }
   ],
   "source": [
    "round(df.isnull().sum()/df.shape[0] * 100, 2).sort_values()"
   ]
  },
  {
   "cell_type": "markdown",
   "id": "72b30030",
   "metadata": {},
   "source": [
    "We decided to  drop columns that have 90% or more missing values and investigate the rest of the columns of interest for the further phases of project."
   ]
  },
  {
   "cell_type": "code",
   "execution_count": 13,
   "id": "5b1cc0db",
   "metadata": {},
   "outputs": [],
   "source": [
    "df.drop(labels=[\"Other Fuel Types\", \"Availability\", \"Last Service Date\", \"Available from\", \"Electricity consumption\", \"Last Timing Belt Service Date\", \"kW\"], axis=1, inplace=True)"
   ]
  },
  {
   "cell_type": "code",
   "execution_count": 14,
   "id": "fe235ecc",
   "metadata": {},
   "outputs": [
    {
     "data": {
      "text/plain": [
       "Index(['url', 'make_model', 'short_description', 'body_type', 'price', 'vat',\n",
       "       'km', 'registration', 'prev_owner', 'hp', 'Type', 'Previous Owners',\n",
       "       'Next Inspection', 'Inspection new', 'Warranty', 'Full Service',\n",
       "       'Non-smoking Vehicle', 'null', 'Make', 'Model', 'Offer Number',\n",
       "       'First Registration', 'Body Color', 'Paint Type', 'Body Color Original',\n",
       "       'Upholstery', 'Body', 'Nr. of Doors', 'Nr. of Seats', 'Model Code',\n",
       "       'Gearing Type', 'Displacement', 'Cylinders', 'Weight', 'Drive chain',\n",
       "       'Fuel', 'Consumption', 'CO2 Emission', 'Emission Class',\n",
       "       '\\nComfort & Convenience\\n', '\\nEntertainment & Media\\n', '\\nExtras\\n',\n",
       "       '\\nSafety & Security\\n', 'description', 'Emission Label', 'Gears',\n",
       "       'Country version'],\n",
       "      dtype='object')"
      ]
     },
     "execution_count": 14,
     "metadata": {},
     "output_type": "execute_result"
    }
   ],
   "source": [
    "df.columns"
   ]
  },
  {
   "cell_type": "markdown",
   "id": "ba359fda",
   "metadata": {},
   "source": [
    "We removed the unnecessary parts from the column names for the work to progress more easily."
   ]
  },
  {
   "cell_type": "code",
   "execution_count": 15,
   "id": "28b216f8",
   "metadata": {},
   "outputs": [],
   "source": [
    "df.rename(columns={\n",
    "    '\\nComfort & Convenience\\n': 'comfort_convenience',\n",
    "    '\\nEntertainment & Media\\n': 'entertainment_media',\n",
    "    '\\nExtras\\n': 'Extras',\n",
    "    '\\nSafety & Security\\n': 'safety_security'\n",
    "},\n",
    "          inplace=True)"
   ]
  },
  {
   "cell_type": "markdown",
   "id": "72d37b52",
   "metadata": {},
   "source": [
    "## - url"
   ]
  },
  {
   "cell_type": "code",
   "execution_count": 16,
   "id": "754c65e6",
   "metadata": {},
   "outputs": [
    {
     "data": {
      "text/plain": [
       "0    https://www.autoscout24.com//offers/audi-a1-sp...\n",
       "1    https://www.autoscout24.com//offers/audi-a1-1-...\n",
       "2    https://www.autoscout24.com//offers/audi-a1-sp...\n",
       "3    https://www.autoscout24.com//offers/audi-a1-1-...\n",
       "4    https://www.autoscout24.com//offers/audi-a1-sp...\n",
       "5    https://www.autoscout24.com//offers/audi-a1-1-...\n",
       "6    https://www.autoscout24.com//offers/audi-a1-sp...\n",
       "7    https://www.autoscout24.com//offers/audi-a1-sp...\n",
       "8    https://www.autoscout24.com//offers/audi-a1-sp...\n",
       "9    https://www.autoscout24.com//offers/audi-a1-sp...\n",
       "Name: url, dtype: object"
      ]
     },
     "execution_count": 16,
     "metadata": {},
     "output_type": "execute_result"
    }
   ],
   "source": [
    "df[\"url\"].head(10)"
   ]
  },
  {
   "cell_type": "markdown",
   "id": "74ed65ba",
   "metadata": {},
   "source": [
    "We do not need this column as it has no effect on the target feature and does not interact with other columns."
   ]
  },
  {
   "cell_type": "code",
   "execution_count": 17,
   "id": "bffb1ed9",
   "metadata": {},
   "outputs": [],
   "source": [
    "df.drop(labels=[\"url\"], axis=1, inplace=True)"
   ]
  },
  {
   "cell_type": "markdown",
   "id": "54a0cd75",
   "metadata": {},
   "source": [
    "## - make_model"
   ]
  },
  {
   "cell_type": "code",
   "execution_count": 18,
   "id": "bc0e0b70",
   "metadata": {},
   "outputs": [
    {
     "data": {
      "text/plain": [
       "0    Audi A1\n",
       "1    Audi A1\n",
       "2    Audi A1\n",
       "3    Audi A1\n",
       "4    Audi A1\n",
       "5    Audi A1\n",
       "6    Audi A1\n",
       "7    Audi A1\n",
       "8    Audi A1\n",
       "9    Audi A1\n",
       "Name: make_model, dtype: object"
      ]
     },
     "execution_count": 18,
     "metadata": {},
     "output_type": "execute_result"
    }
   ],
   "source": [
    "df[\"make_model\"].head(10)"
   ]
  },
  {
   "cell_type": "code",
   "execution_count": 19,
   "id": "55d49f79",
   "metadata": {},
   "outputs": [
    {
     "data": {
      "text/plain": [
       "Audi A3           3097\n",
       "Audi A1           2614\n",
       "Opel Insignia     2598\n",
       "Opel Astra        2526\n",
       "Opel Corsa        2219\n",
       "Renault Clio      1839\n",
       "Renault Espace     991\n",
       "Renault Duster      34\n",
       "Audi A2              1\n",
       "Name: make_model, dtype: int64"
      ]
     },
     "execution_count": 19,
     "metadata": {},
     "output_type": "execute_result"
    }
   ],
   "source": [
    "df[\"make_model\"].value_counts(dropna=False)"
   ]
  },
  {
   "cell_type": "code",
   "execution_count": 20,
   "id": "c29c78c1",
   "metadata": {},
   "outputs": [
    {
     "data": {
      "text/plain": [
       "0"
      ]
     },
     "execution_count": 20,
     "metadata": {},
     "output_type": "execute_result"
    }
   ],
   "source": [
    "df[\"make_model\"].isnull().sum()"
   ]
  },
  {
   "cell_type": "markdown",
   "id": "9f6d93a9",
   "metadata": {},
   "source": [
    "## - short_description"
   ]
  },
  {
   "cell_type": "code",
   "execution_count": 21,
   "id": "6df4545e",
   "metadata": {},
   "outputs": [
    {
     "data": {
      "text/plain": [
       "0          Sportback 1.4 TDI S-tronic Xenon Navi Klima\n",
       "1                                       1.8 TFSI sport\n",
       "2    Sportback 1.6 TDI S tronic Einparkhilfe plus+m...\n",
       "3                              1.4 TDi Design S tronic\n",
       "4    Sportback 1.4 TDI S-Tronic S-Line Ext. admired...\n",
       "5          1.6 TDI Sport DSG *SHZ*Xenon*Navi*Bose*PDC*\n",
       "6        Sportback 1.6 TDI S-TRONIC S-LINE*NAVI|XENON*\n",
       "7                   Sportback 1.4 TDI admired S tronic\n",
       "8               SPB 1.6 TDI S-tronic Metal plus + Xeno\n",
       "9                SPORTBACK TFSI ULTRA 95 S-TRONIC AMB.\n",
       "Name: short_description, dtype: object"
      ]
     },
     "execution_count": 21,
     "metadata": {},
     "output_type": "execute_result"
    }
   ],
   "source": [
    "df[\"short_description\"].head(10)"
   ]
  },
  {
   "cell_type": "code",
   "execution_count": 22,
   "id": "a8f04f2b",
   "metadata": {},
   "outputs": [
    {
     "data": {
      "text/plain": [
       "SPB 1.6 TDI 116 CV S tronic Sport                 64\n",
       "NaN                                               46\n",
       "1.4 66kW (90CV) Selective                         40\n",
       "MOVE KLIMA CD USB ALLWETTER BLUETOOTH             38\n",
       "SPB 30 TDI S tronic Business                      35\n",
       "                                                  ..\n",
       "K Sports Tourer Business **Navi*Voll**             1\n",
       "1.0 Turbo ecoFLEX Automatic Elective Park Navi     1\n",
       "1.6 CDTI Business *Navi*Automatik*Spurh.*          1\n",
       "1.6 136 CV Automatica Navi E 6 Garanzia Full       1\n",
       "TCe 225 EDC GPF LIM Deluxe Pano,RFK                1\n",
       "Name: short_description, Length: 10002, dtype: int64"
      ]
     },
     "execution_count": 22,
     "metadata": {},
     "output_type": "execute_result"
    }
   ],
   "source": [
    "df[\"short_description\"].value_counts(dropna=False)"
   ]
  },
  {
   "cell_type": "code",
   "execution_count": 23,
   "id": "352ed468",
   "metadata": {},
   "outputs": [
    {
     "data": {
      "text/plain": [
       "0.29"
      ]
     },
     "execution_count": 23,
     "metadata": {},
     "output_type": "execute_result"
    }
   ],
   "source": [
    "round(df[\"short_description\"].isnull().sum()/df.shape[0] * 100, 2)"
   ]
  },
  {
   "cell_type": "code",
   "execution_count": 24,
   "id": "a59f28a0",
   "metadata": {},
   "outputs": [],
   "source": [
    "df.drop(labels=[\"short_description\"], axis=1, inplace=True)"
   ]
  },
  {
   "cell_type": "markdown",
   "id": "79d7d162",
   "metadata": {},
   "source": [
    "## - body_type"
   ]
  },
  {
   "cell_type": "code",
   "execution_count": 25,
   "id": "3ef2d8dd",
   "metadata": {},
   "outputs": [
    {
     "data": {
      "text/plain": [
       "0           Sedans\n",
       "1           Sedans\n",
       "2           Sedans\n",
       "3           Sedans\n",
       "4           Sedans\n",
       "5           Sedans\n",
       "6    Station wagon\n",
       "7          Compact\n",
       "8           Sedans\n",
       "9           Sedans\n",
       "Name: body_type, dtype: object"
      ]
     },
     "execution_count": 25,
     "metadata": {},
     "output_type": "execute_result"
    }
   ],
   "source": [
    "df[\"body_type\"].head(10)"
   ]
  },
  {
   "cell_type": "code",
   "execution_count": 26,
   "id": "530428ed",
   "metadata": {},
   "outputs": [
    {
     "data": {
      "text/plain": [
       "Sedans           7903\n",
       "Station wagon    3553\n",
       "Compact          3153\n",
       "Van               783\n",
       "Other             290\n",
       "Transporter        88\n",
       "NaN                60\n",
       "Off-Road           56\n",
       "Coupe              25\n",
       "Convertible         8\n",
       "Name: body_type, dtype: int64"
      ]
     },
     "execution_count": 26,
     "metadata": {},
     "output_type": "execute_result"
    }
   ],
   "source": [
    "df[\"body_type\"].value_counts(dropna=False)"
   ]
  },
  {
   "cell_type": "code",
   "execution_count": 27,
   "id": "6a04e460",
   "metadata": {},
   "outputs": [
    {
     "data": {
      "text/plain": [
       "0.38"
      ]
     },
     "execution_count": 27,
     "metadata": {},
     "output_type": "execute_result"
    }
   ],
   "source": [
    "round(df[\"body_type\"].isnull().sum()/df.shape[0] * 100, 2)"
   ]
  },
  {
   "cell_type": "markdown",
   "id": "a512c829",
   "metadata": {},
   "source": [
    "## - price"
   ]
  },
  {
   "cell_type": "code",
   "execution_count": 28,
   "id": "59b38e2e",
   "metadata": {},
   "outputs": [
    {
     "data": {
      "text/plain": [
       "0    15770\n",
       "1    14500\n",
       "2    14640\n",
       "3    14500\n",
       "4    16790\n",
       "5    15090\n",
       "6    16422\n",
       "7    14480\n",
       "8    16700\n",
       "9    17990\n",
       "Name: price, dtype: int64"
      ]
     },
     "execution_count": 28,
     "metadata": {},
     "output_type": "execute_result"
    }
   ],
   "source": [
    "df[\"price\"].head(10)"
   ]
  },
  {
   "cell_type": "code",
   "execution_count": 29,
   "id": "836edd72",
   "metadata": {},
   "outputs": [
    {
     "data": {
      "text/plain": [
       "14990    154\n",
       "15990    151\n",
       "10990    139\n",
       "15900    106\n",
       "17990    102\n",
       "        ... \n",
       "17559      1\n",
       "17560      1\n",
       "17570      1\n",
       "17575      1\n",
       "39875      1\n",
       "Name: price, Length: 2956, dtype: int64"
      ]
     },
     "execution_count": 29,
     "metadata": {},
     "output_type": "execute_result"
    }
   ],
   "source": [
    "df[\"price\"].value_counts(dropna=False)"
   ]
  },
  {
   "cell_type": "code",
   "execution_count": 31,
   "id": "ceaabe76",
   "metadata": {},
   "outputs": [
    {
     "data": {
      "text/plain": [
       "0.0"
      ]
     },
     "execution_count": 31,
     "metadata": {},
     "output_type": "execute_result"
    }
   ],
   "source": [
    "round(df[\"price\"].isnull().sum()/df.shape[0] * 100, 2)"
   ]
  },
  {
   "cell_type": "markdown",
   "id": "ca3613f6",
   "metadata": {},
   "source": [
    "## - vat"
   ]
  },
  {
   "cell_type": "code",
   "execution_count": 32,
   "id": "c4a9205d",
   "metadata": {},
   "outputs": [
    {
     "data": {
      "text/plain": [
       "0      VAT deductible\n",
       "1    Price negotiable\n",
       "2      VAT deductible\n",
       "3                None\n",
       "4                None\n",
       "5                None\n",
       "6      VAT deductible\n",
       "7      VAT deductible\n",
       "8                None\n",
       "9                None\n",
       "Name: vat, dtype: object"
      ]
     },
     "execution_count": 32,
     "metadata": {},
     "output_type": "execute_result"
    }
   ],
   "source": [
    "df[\"vat\"].head(10)"
   ]
  },
  {
   "cell_type": "code",
   "execution_count": 33,
   "id": "6880d56a",
   "metadata": {},
   "outputs": [
    {
     "data": {
      "text/plain": [
       "VAT deductible      10980\n",
       "NaN                  4513\n",
       "Price negotiable      426\n",
       "Name: vat, dtype: int64"
      ]
     },
     "execution_count": 33,
     "metadata": {},
     "output_type": "execute_result"
    }
   ],
   "source": [
    "df[\"vat\"].value_counts(dropna=False)"
   ]
  },
  {
   "cell_type": "code",
   "execution_count": 34,
   "id": "9be358db",
   "metadata": {},
   "outputs": [
    {
     "data": {
      "text/plain": [
       "28.35"
      ]
     },
     "execution_count": 34,
     "metadata": {},
     "output_type": "execute_result"
    }
   ],
   "source": [
    "round(df[\"vat\"].isnull().sum()/df.shape[0] * 100, 2)"
   ]
  },
  {
   "cell_type": "markdown",
   "id": "68a018ae",
   "metadata": {},
   "source": [
    "## - km"
   ]
  },
  {
   "cell_type": "code",
   "execution_count": 35,
   "id": "947b2388",
   "metadata": {},
   "outputs": [
    {
     "data": {
      "text/plain": [
       "0    56,013 km\n",
       "1    80,000 km\n",
       "2    83,450 km\n",
       "3    73,000 km\n",
       "4    16,200 km\n",
       "5    63,668 km\n",
       "6    62,111 km\n",
       "7    14,986 km\n",
       "8    57,000 km\n",
       "9    16,103 km\n",
       "Name: km, dtype: object"
      ]
     },
     "execution_count": 35,
     "metadata": {},
     "output_type": "execute_result"
    }
   ],
   "source": [
    "df[\"km\"].head(10)"
   ]
  },
  {
   "cell_type": "code",
   "execution_count": 36,
   "id": "1d6f445a",
   "metadata": {},
   "outputs": [
    {
     "data": {
      "text/plain": [
       "15909    3,500 km\n",
       "15910    8,500 km\n",
       "15911      100 km\n",
       "15912        - km\n",
       "15913    1,000 km\n",
       "15914        - km\n",
       "15915    9,900 km\n",
       "15916       15 km\n",
       "15917       10 km\n",
       "15918        - km\n",
       "Name: km, dtype: object"
      ]
     },
     "execution_count": 36,
     "metadata": {},
     "output_type": "execute_result"
    }
   ],
   "source": [
    "df[\"km\"].tail(10)"
   ]
  },
  {
   "cell_type": "code",
   "execution_count": 37,
   "id": "43477ecb",
   "metadata": {},
   "outputs": [],
   "source": [
    "df['km'] = df.km.str.replace(',','').str.split().str[0]"
   ]
  },
  {
   "cell_type": "code",
   "execution_count": 38,
   "id": "2421de5a",
   "metadata": {},
   "outputs": [],
   "source": [
    "df[\"km\"] = df.km.replace('-', np.nan).astype('float')"
   ]
  },
  {
   "cell_type": "code",
   "execution_count": 39,
   "id": "a41a6632",
   "metadata": {},
   "outputs": [
    {
     "data": {
      "text/plain": [
       "10.000       1045\n",
       "NaN          1024\n",
       "1.000         367\n",
       "5.000         170\n",
       "50.000        148\n",
       "             ... \n",
       "67469.000       1\n",
       "43197.000       1\n",
       "10027.000       1\n",
       "35882.000       1\n",
       "57.000          1\n",
       "Name: km, Length: 6690, dtype: int64"
      ]
     },
     "execution_count": 39,
     "metadata": {},
     "output_type": "execute_result"
    }
   ],
   "source": [
    "df[\"km\"].value_counts(dropna=False)"
   ]
  },
  {
   "cell_type": "code",
   "execution_count": 40,
   "id": "29ddd5c2",
   "metadata": {},
   "outputs": [
    {
     "data": {
      "text/plain": [
       "6.43"
      ]
     },
     "execution_count": 40,
     "metadata": {},
     "output_type": "execute_result"
    }
   ],
   "source": [
    "round(df[\"km\"].isnull().sum()/df.shape[0] * 100, 2)"
   ]
  },
  {
   "cell_type": "markdown",
   "id": "5b697bb1",
   "metadata": {},
   "source": [
    "## - registration"
   ]
  },
  {
   "cell_type": "code",
   "execution_count": 41,
   "id": "2cb5afd3",
   "metadata": {},
   "outputs": [
    {
     "data": {
      "text/plain": [
       "0    01/2016\n",
       "1    03/2017\n",
       "2    02/2016\n",
       "3    08/2016\n",
       "4    05/2016\n",
       "5    02/2016\n",
       "6    03/2016\n",
       "7    02/2016\n",
       "8    02/2016\n",
       "9    06/2017\n",
       "Name: registration, dtype: object"
      ]
     },
     "execution_count": 41,
     "metadata": {},
     "output_type": "execute_result"
    }
   ],
   "source": [
    "df[\"registration\"].head(10)"
   ]
  },
  {
   "cell_type": "code",
   "execution_count": 42,
   "id": "7dac9d2b",
   "metadata": {
    "scrolled": true
   },
   "outputs": [
    {
     "data": {
      "text/plain": [
       "-/-        1597\n",
       "03/2018     695\n",
       "02/2019     585\n",
       "05/2018     572\n",
       "03/2019     543\n",
       "01/2019     541\n",
       "04/2018     541\n",
       "02/2018     539\n",
       "03/2016     536\n",
       "04/2016     532\n",
       "06/2018     532\n",
       "01/2018     511\n",
       "04/2019     506\n",
       "02/2016     472\n",
       "03/2017     471\n",
       "05/2016     459\n",
       "06/2016     452\n",
       "05/2019     440\n",
       "06/2017     409\n",
       "05/2017     404\n",
       "07/2018     396\n",
       "04/2017     380\n",
       "01/2016     376\n",
       "02/2017     368\n",
       "01/2017     306\n",
       "08/2018     285\n",
       "06/2019     224\n",
       "07/2017     215\n",
       "11/2017     180\n",
       "07/2016     176\n",
       "10/2016     160\n",
       "10/2017     154\n",
       "09/2017     149\n",
       "11/2016     142\n",
       "09/2018     141\n",
       "09/2016     141\n",
       "12/2016     134\n",
       "12/2017     123\n",
       "08/2017     114\n",
       "11/2018     110\n",
       "12/2018     103\n",
       "10/2018      97\n",
       "08/2016      94\n",
       "07/2019       6\n",
       "09/2019       5\n",
       "08/2019       1\n",
       "11/2019       1\n",
       "12/2019       1\n",
       "Name: registration, dtype: int64"
      ]
     },
     "execution_count": 42,
     "metadata": {},
     "output_type": "execute_result"
    }
   ],
   "source": [
    "df[\"registration\"].value_counts(dropna=False)"
   ]
  },
  {
   "cell_type": "code",
   "execution_count": 43,
   "id": "7b2482a2",
   "metadata": {},
   "outputs": [],
   "source": [
    "df.drop(labels=[\"registration\"], axis=1, inplace=True)"
   ]
  },
  {
   "cell_type": "markdown",
   "id": "02b018ee",
   "metadata": {},
   "source": [
    "## - prev_owner"
   ]
  },
  {
   "cell_type": "code",
   "execution_count": 44,
   "id": "5243ac33",
   "metadata": {},
   "outputs": [
    {
     "data": {
      "text/plain": [
       "0    2 previous owners\n",
       "1                 None\n",
       "2     1 previous owner\n",
       "3     1 previous owner\n",
       "4     1 previous owner\n",
       "5     1 previous owner\n",
       "6     1 previous owner\n",
       "7     1 previous owner\n",
       "8     1 previous owner\n",
       "9                 None\n",
       "Name: prev_owner, dtype: object"
      ]
     },
     "execution_count": 44,
     "metadata": {},
     "output_type": "execute_result"
    }
   ],
   "source": [
    "df[\"prev_owner\"].head(10)"
   ]
  },
  {
   "cell_type": "code",
   "execution_count": 45,
   "id": "3ade5f0e",
   "metadata": {},
   "outputs": [
    {
     "data": {
      "text/plain": [
       "1 previous owner     8294\n",
       "NaN                  6828\n",
       "2 previous owners     778\n",
       "3 previous owners      17\n",
       "4 previous owners       2\n",
       "Name: prev_owner, dtype: int64"
      ]
     },
     "execution_count": 45,
     "metadata": {},
     "output_type": "execute_result"
    }
   ],
   "source": [
    "df[\"prev_owner\"].value_counts(dropna=False)"
   ]
  },
  {
   "cell_type": "code",
   "execution_count": 46,
   "id": "978cdf80",
   "metadata": {},
   "outputs": [
    {
     "data": {
      "text/plain": [
       "42.89"
      ]
     },
     "execution_count": 46,
     "metadata": {},
     "output_type": "execute_result"
    }
   ],
   "source": [
    "round(df[\"prev_owner\"].isnull().sum()/df.shape[0] * 100, 2)"
   ]
  },
  {
   "cell_type": "code",
   "execution_count": 47,
   "id": "afa21a47",
   "metadata": {},
   "outputs": [],
   "source": [
    "df.drop('prev_owner', axis=1, inplace=True)"
   ]
  },
  {
   "cell_type": "markdown",
   "id": "4fdc2310",
   "metadata": {},
   "source": [
    "## - hp"
   ]
  },
  {
   "cell_type": "code",
   "execution_count": 48,
   "id": "d7449ed0",
   "metadata": {},
   "outputs": [
    {
     "data": {
      "text/plain": [
       "0     66 kW\n",
       "1    141 kW\n",
       "2     85 kW\n",
       "3     66 kW\n",
       "4     66 kW\n",
       "5     85 kW\n",
       "6     85 kW\n",
       "7     66 kW\n",
       "8     85 kW\n",
       "9     70 kW\n",
       "Name: hp, dtype: object"
      ]
     },
     "execution_count": 48,
     "metadata": {},
     "output_type": "execute_result"
    }
   ],
   "source": [
    "df['hp'].head(10)"
   ]
  },
  {
   "cell_type": "code",
   "execution_count": 49,
   "id": "f9da6ae0",
   "metadata": {},
   "outputs": [],
   "source": [
    "df['hp'] = df['hp'].str.split().str[0].str.replace('-', '0').astype('float')"
   ]
  },
  {
   "cell_type": "code",
   "execution_count": 50,
   "id": "6b2c9428",
   "metadata": {},
   "outputs": [],
   "source": [
    "df.rename(columns={\"hp\" : \"kW\"}, inplace=True)"
   ]
  },
  {
   "cell_type": "code",
   "execution_count": 51,
   "id": "5770e59c",
   "metadata": {},
   "outputs": [
    {
     "data": {
      "text/plain": [
       "85.000     2542\n",
       "66.000     2122\n",
       "81.000     1402\n",
       "100.000    1308\n",
       "110.000    1112\n",
       "           ... \n",
       "84.000        1\n",
       "195.000       1\n",
       "44.000        1\n",
       "239.000       1\n",
       "9.000         1\n",
       "Name: kW, Length: 81, dtype: int64"
      ]
     },
     "execution_count": 51,
     "metadata": {},
     "output_type": "execute_result"
    }
   ],
   "source": [
    "df['kW'].value_counts(dropna=False)"
   ]
  },
  {
   "cell_type": "code",
   "execution_count": 52,
   "id": "395ea33e",
   "metadata": {},
   "outputs": [
    {
     "data": {
      "text/plain": [
       "0.0"
      ]
     },
     "execution_count": 52,
     "metadata": {},
     "output_type": "execute_result"
    }
   ],
   "source": [
    "round(df['kW'].isnull().sum()/df.shape[0] * 100, 2)"
   ]
  },
  {
   "cell_type": "markdown",
   "id": "4e13abda",
   "metadata": {},
   "source": [
    "## - Type"
   ]
  },
  {
   "cell_type": "code",
   "execution_count": 53,
   "id": "917239ac",
   "metadata": {},
   "outputs": [
    {
     "data": {
      "text/plain": [
       "0    [, Used, , Diesel (Particulate Filter)]\n",
       "1                       [, Used, , Gasoline]\n",
       "2    [, Used, , Diesel (Particulate Filter)]\n",
       "3    [, Used, , Diesel (Particulate Filter)]\n",
       "4    [, Used, , Diesel (Particulate Filter)]\n",
       "5    [, Used, , Diesel (Particulate Filter)]\n",
       "6    [, Used, , Diesel (Particulate Filter)]\n",
       "7    [, Used, , Diesel (Particulate Filter)]\n",
       "8    [, Used, , Diesel (Particulate Filter)]\n",
       "9                       [, Used, , Gasoline]\n",
       "Name: Type, dtype: object"
      ]
     },
     "execution_count": 53,
     "metadata": {},
     "output_type": "execute_result"
    }
   ],
   "source": [
    "df[\"Type\"].head(10)"
   ]
  },
  {
   "cell_type": "code",
   "execution_count": 54,
   "id": "c2602444",
   "metadata": {},
   "outputs": [],
   "source": [
    "df[\"Type\"] = [i[1] if type(i) == list else i for i in df[\"Type\"]]"
   ]
  },
  {
   "cell_type": "code",
   "execution_count": 55,
   "id": "dd03ce0d",
   "metadata": {},
   "outputs": [
    {
     "data": {
      "text/plain": [
       "Used              11096\n",
       "New                1650\n",
       "Pre-registered     1364\n",
       "Employee's car     1011\n",
       "Demonstration       796\n",
       "NaN                   2\n",
       "Name: Type, dtype: int64"
      ]
     },
     "execution_count": 55,
     "metadata": {},
     "output_type": "execute_result"
    }
   ],
   "source": [
    "df[\"Type\"].value_counts(dropna=False)"
   ]
  },
  {
   "cell_type": "code",
   "execution_count": 56,
   "id": "612da9ae",
   "metadata": {},
   "outputs": [
    {
     "data": {
      "text/plain": [
       "0.01"
      ]
     },
     "execution_count": 56,
     "metadata": {},
     "output_type": "execute_result"
    }
   ],
   "source": [
    "round(df[\"Type\"].isna().sum() / df.shape[0] * 100, 2)"
   ]
  },
  {
   "cell_type": "markdown",
   "id": "b947585a",
   "metadata": {},
   "source": [
    "## - Previous Owners"
   ]
  },
  {
   "cell_type": "code",
   "execution_count": 57,
   "id": "432354f6",
   "metadata": {},
   "outputs": [
    {
     "data": {
      "text/plain": [
       "0    \\n2\\n\n",
       "1      NaN\n",
       "2    \\n1\\n\n",
       "3    \\n1\\n\n",
       "4    \\n1\\n\n",
       "5    \\n1\\n\n",
       "6    \\n1\\n\n",
       "7    \\n1\\n\n",
       "8    \\n1\\n\n",
       "9      NaN\n",
       "Name: Previous Owners, dtype: object"
      ]
     },
     "execution_count": 57,
     "metadata": {},
     "output_type": "execute_result"
    }
   ],
   "source": [
    "df[\"Previous Owners\"].head(10)"
   ]
  },
  {
   "cell_type": "code",
   "execution_count": 58,
   "id": "daef2b8d",
   "metadata": {},
   "outputs": [],
   "source": [
    "df['Previous Owners'] = [i[0] if type(i) == list else i for i in df[\"Previous Owners\"]]"
   ]
  },
  {
   "cell_type": "code",
   "execution_count": 59,
   "id": "d72c5f9f",
   "metadata": {},
   "outputs": [],
   "source": [
    "df[\"Previous Owners\"] = df[\"Previous Owners\"].str.strip(\"\\n\").astype('float')"
   ]
  },
  {
   "cell_type": "code",
   "execution_count": 60,
   "id": "f359e4fa",
   "metadata": {},
   "outputs": [
    {
     "data": {
      "text/plain": [
       "1.000    8294\n",
       "NaN      6640\n",
       "2.000     778\n",
       "0.000     188\n",
       "3.000      17\n",
       "4.000       2\n",
       "Name: Previous Owners, dtype: int64"
      ]
     },
     "execution_count": 60,
     "metadata": {},
     "output_type": "execute_result"
    }
   ],
   "source": [
    "df[\"Previous Owners\"].value_counts(dropna=False)"
   ]
  },
  {
   "cell_type": "code",
   "execution_count": 61,
   "id": "69d61543",
   "metadata": {},
   "outputs": [
    {
     "data": {
      "text/plain": [
       "41.71"
      ]
     },
     "execution_count": 61,
     "metadata": {},
     "output_type": "execute_result"
    }
   ],
   "source": [
    "round(df[\"Previous Owners\"].isnull().sum()/df.shape[0] * 100, 2)"
   ]
  },
  {
   "cell_type": "markdown",
   "id": "d014399f",
   "metadata": {},
   "source": [
    "## - Next Inspection"
   ]
  },
  {
   "cell_type": "code",
   "execution_count": 62,
   "id": "2c5777a0",
   "metadata": {},
   "outputs": [
    {
     "data": {
      "text/plain": [
       "0    [\\n06/2021\\n, \\n99 g CO2/km (comb)\\n]\n",
       "1                                      NaN\n",
       "2                                      NaN\n",
       "3                                      NaN\n",
       "4                                      NaN\n",
       "5                                      NaN\n",
       "6                                      NaN\n",
       "7                                      NaN\n",
       "8    [\\n02/2020\\n, \\n97 g CO2/km (comb)\\n]\n",
       "9                                      NaN\n",
       "Name: Next Inspection, dtype: object"
      ]
     },
     "execution_count": 62,
     "metadata": {},
     "output_type": "execute_result"
    }
   ],
   "source": [
    "df[\"Next Inspection\"].head(10)"
   ]
  },
  {
   "cell_type": "code",
   "execution_count": 63,
   "id": "ba40b6d6",
   "metadata": {},
   "outputs": [],
   "source": [
    "df['Next Inspection'] = [i[0] if type(i) == list else i for i in df[\"Next Inspection\"]]"
   ]
  },
  {
   "cell_type": "code",
   "execution_count": 64,
   "id": "1d668add",
   "metadata": {},
   "outputs": [],
   "source": [
    "df[\"Next Inspection\"] = df[\"Next Inspection\"].str.strip(\"\\n\").astype('object')"
   ]
  },
  {
   "cell_type": "code",
   "execution_count": 65,
   "id": "a73e5ae6",
   "metadata": {
    "scrolled": true
   },
   "outputs": [
    {
     "data": {
      "text/plain": [
       "NaN        12384\n",
       "06/2021      471\n",
       "03/2021      210\n",
       "05/2021      180\n",
       "04/2021      171\n",
       "           ...  \n",
       "05/2014        1\n",
       "04/2016        1\n",
       "01/1955        1\n",
       "01/2018        1\n",
       "11/2022        1\n",
       "Name: Next Inspection, Length: 78, dtype: int64"
      ]
     },
     "execution_count": 65,
     "metadata": {},
     "output_type": "execute_result"
    }
   ],
   "source": [
    "df[\"Next Inspection\"].value_counts(dropna=False)"
   ]
  },
  {
   "cell_type": "code",
   "execution_count": 66,
   "id": "14e74235",
   "metadata": {},
   "outputs": [
    {
     "data": {
      "text/plain": [
       "77.79"
      ]
     },
     "execution_count": 66,
     "metadata": {},
     "output_type": "execute_result"
    }
   ],
   "source": [
    "round(df[\"Next Inspection\"].isnull().sum()/df.shape[0] * 100, 2)"
   ]
  },
  {
   "cell_type": "markdown",
   "id": "f16b5f2d",
   "metadata": {},
   "source": [
    "We can use this column to fill other columns Null datas. This columns have Emission Label, Emission Class, CO2 emission and Consumptuion datas."
   ]
  },
  {
   "cell_type": "markdown",
   "id": "10b2241a",
   "metadata": {},
   "source": [
    "With the code below, we have confirmed that the 'Next Inspection' column cannot contribute any null values to the 'Consumption' column."
   ]
  },
  {
   "cell_type": "code",
   "execution_count": 67,
   "id": "c241cb6b",
   "metadata": {
    "scrolled": true
   },
   "outputs": [
    {
     "name": "stdout",
     "output_type": "stream",
     "text": [
      "Found: \n"
     ]
    }
   ],
   "source": [
    "L = df[(df[\"Consumption\"].isnull()) & (df[\"Next Inspection\"].notnull())][\"Next Inspection\"]\n",
    "\n",
    "for i in L:\n",
    "    if type(i) == list:\n",
    "        for j in i:\n",
    "            if \"l/100 km\" in j:\n",
    "                print(i)\n",
    "    else:\n",
    "        pass\n",
    "print(\"Found: \")"
   ]
  },
  {
   "cell_type": "markdown",
   "id": "225e4d2b",
   "metadata": {},
   "source": [
    "We checked the Null datas of Consumptions that corresponding to Next Inspection column. Results show us that there are no any consumption data Next Inspection have but Consumption column doesn't have."
   ]
  },
  {
   "cell_type": "markdown",
   "id": "27d5a4ea",
   "metadata": {},
   "source": [
    "With the code below, we have confirmed that the 'Next Inspection' column cannot contribute any null values to the 'CO2 Emission' column."
   ]
  },
  {
   "cell_type": "code",
   "execution_count": 68,
   "id": "ad3036af",
   "metadata": {},
   "outputs": [
    {
     "name": "stdout",
     "output_type": "stream",
     "text": [
      "Found: \n"
     ]
    }
   ],
   "source": [
    "M = df[(df[\"CO2 Emission\"].isnull()) & (df[\"Next Inspection\"].notnull())][\"Next Inspection\"]\n",
    "\n",
    "for i in M:\n",
    "    if type(i) == list:\n",
    "        for j in i:\n",
    "            if \"g CO2/km\" in j:\n",
    "                print(i)\n",
    "    else:\n",
    "        pass\n",
    "print(\"Found: \")"
   ]
  },
  {
   "cell_type": "markdown",
   "id": "007df0f0",
   "metadata": {},
   "source": [
    "We checked the Null datas of CO2 Emissions that corresponding to Next Inspection column. Results show us that there are no any CO2 Emissions data Next Inspection have but Consumption column doesn't have."
   ]
  },
  {
   "cell_type": "markdown",
   "id": "5679d528",
   "metadata": {},
   "source": [
    "With the code below, we have confirmed that the 'Next Inspection' column cannot contribute any null values to the 'Emission Class' column."
   ]
  },
  {
   "cell_type": "code",
   "execution_count": 69,
   "id": "a5ed26fe",
   "metadata": {},
   "outputs": [
    {
     "name": "stdout",
     "output_type": "stream",
     "text": [
      "Found: \n"
     ]
    }
   ],
   "source": [
    "N = df[(df[\"Emission Class\"].isnull()) & (df[\"Next Inspection\"].notnull())][\"Next Inspection\"]\n",
    "        \n",
    "for i in N:\n",
    "    if type(i) == list:\n",
    "        for j in i:\n",
    "            if \"Euro\" in j:\n",
    "                print(i)\n",
    "    else:\n",
    "        pass\n",
    "print(\"Found: \")"
   ]
  },
  {
   "cell_type": "markdown",
   "id": "fea7fb56",
   "metadata": {},
   "source": [
    "We checked the Null datas of Emission Class that corresponding to Next Inspection column. Results show us that there are no any Emission Class data Next Inspection have but Consumption column doesn't have."
   ]
  },
  {
   "cell_type": "markdown",
   "id": "666cdd5b",
   "metadata": {},
   "source": [
    "With the code below, we have confirmed that the 'Next Inspection' column cannot contribute any null values to the 'Emission Label' column."
   ]
  },
  {
   "cell_type": "code",
   "execution_count": 70,
   "id": "e818e4a6",
   "metadata": {},
   "outputs": [
    {
     "name": "stdout",
     "output_type": "stream",
     "text": [
      "Found: \n"
     ]
    }
   ],
   "source": [
    "P = df[(df[\"Emission Label\"].isnull()) & (df[\"Next Inspection\"].notnull())][\"Next Inspection\"]\n",
    "        \n",
    "for i in P:\n",
    "    if type(i) == list:\n",
    "        for j in i:\n",
    "            if (\"Green\" in j) or (\"Yellow\" in j) or (\"Red\" in j):\n",
    "                print(i)\n",
    "    else:\n",
    "        pass\n",
    "print(\"Found: \")"
   ]
  },
  {
   "cell_type": "markdown",
   "id": "b8136291",
   "metadata": {},
   "source": [
    "We checked the Null datas of Emission Label that corresponding to Next Inspection column. Results show us that there are no any Emission Label data Next Inspection have but Consumption column doesn't have."
   ]
  },
  {
   "cell_type": "code",
   "execution_count": 71,
   "id": "2d422d84",
   "metadata": {},
   "outputs": [],
   "source": [
    "df.drop('Next Inspection', axis=1, inplace=True)"
   ]
  },
  {
   "cell_type": "markdown",
   "id": "c2244079",
   "metadata": {},
   "source": [
    "## - Inspection new"
   ]
  },
  {
   "cell_type": "code",
   "execution_count": 72,
   "id": "76014287",
   "metadata": {},
   "outputs": [
    {
     "data": {
      "text/plain": [
       "0                 [\\nYes\\n, \\nEuro 6\\n]\n",
       "1                                   NaN\n",
       "2                                   NaN\n",
       "3                                   NaN\n",
       "4    [\\nYes\\n, \\n109 g CO2/km (comb)\\n]\n",
       "5                                   NaN\n",
       "6     [\\nYes\\n, \\n98 g CO2/km (comb)\\n]\n",
       "7     [\\nYes\\n, \\n97 g CO2/km (comb)\\n]\n",
       "8                                   NaN\n",
       "9                                   NaN\n",
       "Name: Inspection new, dtype: object"
      ]
     },
     "execution_count": 72,
     "metadata": {},
     "output_type": "execute_result"
    }
   ],
   "source": [
    "df[\"Inspection new\"].head(10)"
   ]
  },
  {
   "cell_type": "code",
   "execution_count": 73,
   "id": "e08a42c7",
   "metadata": {},
   "outputs": [],
   "source": [
    "df['Inspection_new'] = [i[0] if type(i) == list else i for i in df[\"Inspection new\"]]"
   ]
  },
  {
   "cell_type": "code",
   "execution_count": 74,
   "id": "5bf1288d",
   "metadata": {},
   "outputs": [],
   "source": [
    "df[\"Inspection_new\"] = df[\"Inspection_new\"].str.strip(\"\\n\")"
   ]
  },
  {
   "cell_type": "code",
   "execution_count": 75,
   "id": "9b405ba8",
   "metadata": {},
   "outputs": [
    {
     "data": {
      "text/plain": [
       "nan                                                                                                            11987\n",
       "['\\nYes\\n', '\\nEuro 6\\n']                                                                                        523\n",
       "\\nYes\\n                                                                                                          362\n",
       "['\\nYes\\n', '\\n102 g CO2/km (comb)\\n']                                                                           174\n",
       "['\\nYes\\n', '\\n4 (Green)\\n']                                                                                     166\n",
       "                                                                                                               ...  \n",
       "['\\nYes\\n', '\\n', '6 l/100 km (comb)', '\\n', '8 l/100 km (city)', '\\n', '4.9 l/100 km (country)', '\\n']            1\n",
       "['\\nYes\\n', '\\n', '6.8 l/100 km (comb)', '\\n', '8.5 l/100 km (city)', '\\n', '6.1 l/100 km (country)', '\\n']        1\n",
       "['\\nYes\\n', '\\n', '4.1 l/100 km (comb)', '\\n', '7.5 l/100 km (city)', '\\n', '5.2 l/100 km (country)', '\\n']        1\n",
       "['\\nYes\\n', '\\n', '5.2 l/100 km (comb)', '\\n', '6.8 l/100 km (city)', '\\n', '4.3 l/100 km (country)', '\\n']        1\n",
       "['\\nYes\\n', '\\n172 g CO2/km (comb)\\n']                                                                             1\n",
       "Name: Inspection new, Length: 203, dtype: int64"
      ]
     },
     "execution_count": 75,
     "metadata": {},
     "output_type": "execute_result"
    }
   ],
   "source": [
    "df[\"Inspection new\"].astype(\"str\").value_counts(dropna=False)"
   ]
  },
  {
   "cell_type": "code",
   "execution_count": 76,
   "id": "8d0fdddf",
   "metadata": {},
   "outputs": [
    {
     "data": {
      "text/plain": [
       "75.3"
      ]
     },
     "execution_count": 76,
     "metadata": {},
     "output_type": "execute_result"
    }
   ],
   "source": [
    "round(df[\"Inspection new\"].isnull().sum()/df.shape[0] * 100, 2)"
   ]
  },
  {
   "cell_type": "code",
   "execution_count": 77,
   "id": "99d7c205",
   "metadata": {},
   "outputs": [
    {
     "name": "stdout",
     "output_type": "stream",
     "text": [
      "Found: \n"
     ]
    }
   ],
   "source": [
    "R = df[(df[\"Consumption\"].isnull()) & (df[\"Inspection new\"].notnull())][\"Inspection new\"]\n",
    "\n",
    "for i in R:\n",
    "    if type(i) == list:\n",
    "        for j in i:\n",
    "            if \"l/100 km\" in j:\n",
    "                print(i)\n",
    "    else:\n",
    "        pass\n",
    "print(\"Found: \")"
   ]
  },
  {
   "cell_type": "code",
   "execution_count": 78,
   "id": "eabb3276",
   "metadata": {},
   "outputs": [
    {
     "name": "stdout",
     "output_type": "stream",
     "text": [
      "Found: \n"
     ]
    }
   ],
   "source": [
    "S = df[(df[\"CO2 Emission\"].isnull()) & (df[\"Inspection new\"].notnull())][\"Inspection new\"]\n",
    "\n",
    "for i in S:\n",
    "    if type(i) == list:\n",
    "        for j in i:\n",
    "            if \"g CO2/km\" in j:\n",
    "                print(i)\n",
    "    else:\n",
    "        pass\n",
    "print(\"Found: \")"
   ]
  },
  {
   "cell_type": "code",
   "execution_count": 79,
   "id": "365716c7",
   "metadata": {},
   "outputs": [
    {
     "name": "stdout",
     "output_type": "stream",
     "text": [
      "['\\nYes\\n', '\\nEuro 6d-TEMP\\n']\n",
      "['\\nYes\\n', '\\nEuro 6\\n']\n",
      "['\\nYes\\n', '\\nEuro 6d-TEMP\\n']\n",
      "['\\nYes\\n', '\\nEuro 6d-TEMP\\n']\n",
      "['\\nYes\\n', '\\nEuro 6d-TEMP\\n']\n",
      "['\\nYes\\n', '\\nEuro 6d-TEMP\\n']\n",
      "['\\nYes\\n', '\\nEuro 6d-TEMP\\n']\n",
      "['\\nYes\\n', '\\nEuro 6d-TEMP\\n']\n",
      "['\\nYes\\n', '\\nEuro 6\\n']\n",
      "['\\nYes\\n', '\\nEuro 6d-TEMP\\n']\n",
      "['\\nYes\\n', '\\nEuro 6d-TEMP\\n']\n",
      "['\\nYes\\n', '\\nEuro 6d-TEMP\\n']\n",
      "['\\nYes\\n', '\\nEuro 6d-TEMP\\n']\n",
      "['\\nYes\\n', '\\nEuro 6d-TEMP\\n']\n",
      "['\\nYes\\n', '\\nEuro 6d-TEMP\\n']\n",
      "['\\nYes\\n', '\\nEuro 6\\n']\n",
      "['\\nYes\\n', '\\nEuro 6\\n']\n",
      "['\\nYes\\n', '\\nEuro 6d-TEMP\\n']\n",
      "Found: \n"
     ]
    }
   ],
   "source": [
    "T = df[(df[\"Emission Class\"].isnull()) & (df[\"Inspection new\"].notnull())][\"Inspection new\"]\n",
    "        \n",
    "for i in T:\n",
    "    if type(i) == list:\n",
    "        for j in i:\n",
    "            if \"Euro\" in j:\n",
    "                print(i)\n",
    "    else:\n",
    "        pass\n",
    "print(\"Found: \")"
   ]
  },
  {
   "cell_type": "code",
   "execution_count": 80,
   "id": "a83574ef",
   "metadata": {},
   "outputs": [
    {
     "name": "stdout",
     "output_type": "stream",
     "text": [
      "['\\nYes\\n', '\\n4 (Green)\\n']\n",
      "['\\nYes\\n', '\\n4 (Green)\\n']\n",
      "['\\nYes\\n', '\\n4 (Green)\\n']\n",
      "['\\nYes\\n', '\\n4 (Green)\\n']\n",
      "['\\nYes\\n', '\\n4 (Green)\\n']\n",
      "['\\nYes\\n', '\\n4 (Green)\\n']\n",
      "['\\nYes\\n', '\\n4 (Green)\\n']\n",
      "['\\nYes\\n', '\\n4 (Green)\\n']\n",
      "['\\nYes\\n', '\\n4 (Green)\\n']\n",
      "['\\nYes\\n', '\\n4 (Green)\\n']\n",
      "['\\nYes\\n', '\\n4 (Green)\\n']\n",
      "['\\nYes\\n', '\\n4 (Green)\\n']\n",
      "['\\nYes\\n', '\\n4 (Green)\\n']\n",
      "['\\nYes\\n', '\\n4 (Green)\\n']\n",
      "['\\nYes\\n', '\\n4 (Green)\\n']\n",
      "['\\nYes\\n', '\\n4 (Green)\\n']\n",
      "['\\nYes\\n', '\\n4 (Green)\\n']\n",
      "['\\nYes\\n', '\\n4 (Green)\\n']\n",
      "['\\nYes\\n', '\\n4 (Green)\\n']\n",
      "['\\nYes\\n', '\\n4 (Green)\\n']\n",
      "['\\nYes\\n', '\\n4 (Green)\\n']\n",
      "['\\nYes\\n', '\\n4 (Green)\\n']\n",
      "['\\nYes\\n', '\\n4 (Green)\\n']\n",
      "['\\nYes\\n', '\\n4 (Green)\\n']\n",
      "['\\nYes\\n', '\\n4 (Green)\\n']\n",
      "Found: \n"
     ]
    }
   ],
   "source": [
    "U = df[(df[\"Emission Label\"].isnull()) & (df[\"Inspection new\"].notnull())][\"Inspection new\"]\n",
    "        \n",
    "for i in U:\n",
    "    if type(i) == list:\n",
    "        for j in i:\n",
    "            if (\"Green\" in j) or (\"Yellow\" in j) or (\"Red\" in j):\n",
    "                print(i)\n",
    "    else:\n",
    "        pass\n",
    "print(\"Found: \")"
   ]
  },
  {
   "cell_type": "code",
   "execution_count": 81,
   "id": "0335d1f4",
   "metadata": {},
   "outputs": [],
   "source": [
    "df.drop('Inspection new', axis=1, inplace=True)"
   ]
  },
  {
   "cell_type": "markdown",
   "id": "f3c95229",
   "metadata": {},
   "source": [
    "## - Warranty"
   ]
  },
  {
   "cell_type": "code",
   "execution_count": 82,
   "id": "2e17d422",
   "metadata": {
    "scrolled": true
   },
   "outputs": [
    {
     "data": {
      "text/plain": [
       "0             [\\n, \\n, \\n4 (Green)\\n]\n",
       "1                                 NaN\n",
       "2    [\\n, \\n, \\n99 g CO2/km (comb)\\n]\n",
       "3                                 NaN\n",
       "4                [\\n, \\n, \\nEuro 6\\n]\n",
       "5                                 NaN\n",
       "6                                 NaN\n",
       "7                [\\n, \\n, \\nEuro 6\\n]\n",
       "8         [\\n12 months\\n, \\nEuro 6\\n]\n",
       "9                        \\n3 months\\n\n",
       "Name: Warranty, dtype: object"
      ]
     },
     "execution_count": 82,
     "metadata": {},
     "output_type": "execute_result"
    }
   ],
   "source": [
    "df[\"Warranty\"].head(10)"
   ]
  },
  {
   "cell_type": "code",
   "execution_count": 83,
   "id": "e8799bb8",
   "metadata": {},
   "outputs": [],
   "source": [
    "df['Warranty'] = df.Warranty.apply(lambda x : x[0] if type(x)==list else x)"
   ]
  },
  {
   "cell_type": "code",
   "execution_count": 84,
   "id": "0541666d",
   "metadata": {},
   "outputs": [],
   "source": [
    "df['Warranty'] = df.Warranty.str.strip('\\n').str.extract('(\\d{1,2})').astype('float')"
   ]
  },
  {
   "cell_type": "code",
   "execution_count": 85,
   "id": "e12011a7",
   "metadata": {
    "scrolled": true
   },
   "outputs": [
    {
     "data": {
      "text/plain": [
       "NaN       11066\n",
       "12.000     2594\n",
       "24.000     1118\n",
       "60.000      401\n",
       "36.000      279\n",
       "48.000      149\n",
       "6.000       125\n",
       "72.000       59\n",
       "3.000        33\n",
       "23.000       11\n",
       "18.000       10\n",
       "20.000        7\n",
       "25.000        6\n",
       "2.000         5\n",
       "50.000        4\n",
       "26.000        4\n",
       "16.000        4\n",
       "4.000         3\n",
       "1.000         3\n",
       "19.000        3\n",
       "34.000        3\n",
       "13.000        3\n",
       "28.000        2\n",
       "22.000        2\n",
       "14.000        2\n",
       "11.000        2\n",
       "46.000        2\n",
       "21.000        2\n",
       "9.000         2\n",
       "17.000        2\n",
       "45.000        2\n",
       "33.000        1\n",
       "40.000        1\n",
       "65.000        1\n",
       "10.000        1\n",
       "15.000        1\n",
       "7.000         1\n",
       "8.000         1\n",
       "56.000        1\n",
       "49.000        1\n",
       "47.000        1\n",
       "30.000        1\n",
       "Name: Warranty, dtype: int64"
      ]
     },
     "execution_count": 85,
     "metadata": {},
     "output_type": "execute_result"
    }
   ],
   "source": [
    "df[\"Warranty\"].value_counts(dropna=False)"
   ]
  },
  {
   "cell_type": "code",
   "execution_count": 86,
   "id": "69495306",
   "metadata": {},
   "outputs": [
    {
     "data": {
      "text/plain": [
       "69.51"
      ]
     },
     "execution_count": 86,
     "metadata": {},
     "output_type": "execute_result"
    }
   ],
   "source": [
    "round(df[\"Warranty\"].isnull().sum()/df.shape[0] * 100, 2)"
   ]
  },
  {
   "cell_type": "code",
   "execution_count": 87,
   "id": "aec46f1e",
   "metadata": {},
   "outputs": [
    {
     "name": "stdout",
     "output_type": "stream",
     "text": [
      "Found: \n"
     ]
    }
   ],
   "source": [
    "A = df[(df[\"Consumption\"].isnull()) & (df[\"Warranty\"].notnull())][\"Warranty\"]\n",
    "\n",
    "for i in A:\n",
    "    if type(i) == list:\n",
    "        for j in i:\n",
    "            if \"l/100 km\" in j:\n",
    "                print(i)\n",
    "    else:\n",
    "        pass\n",
    "print(\"Found: \")"
   ]
  },
  {
   "cell_type": "code",
   "execution_count": 88,
   "id": "4e4bc7e3",
   "metadata": {},
   "outputs": [
    {
     "name": "stdout",
     "output_type": "stream",
     "text": [
      "Found: \n"
     ]
    }
   ],
   "source": [
    "B = df[(df[\"CO2 Emission\"].isnull()) & (df[\"Warranty\"].notnull())][\"Warranty\"]\n",
    "\n",
    "for i in B:\n",
    "    if type(i) == list:\n",
    "        for j in i:\n",
    "            if \"g CO2/km\" in j:\n",
    "                print(i)\n",
    "    else:\n",
    "        pass\n",
    "print(\"Found: \")"
   ]
  },
  {
   "cell_type": "code",
   "execution_count": 89,
   "id": "d91a429f",
   "metadata": {},
   "outputs": [
    {
     "name": "stdout",
     "output_type": "stream",
     "text": [
      "Found: \n"
     ]
    }
   ],
   "source": [
    "C = df[(df[\"Emission Class\"].isnull()) & (df[\"Warranty\"].notnull())][\"Warranty\"]\n",
    "        \n",
    "for i in C:\n",
    "    if type(i) == list:\n",
    "        for j in i:\n",
    "            if \"Euro\" in j:\n",
    "                print(i)\n",
    "    else:\n",
    "        pass\n",
    "print(\"Found: \")"
   ]
  },
  {
   "cell_type": "code",
   "execution_count": 90,
   "id": "ea95fa8a",
   "metadata": {},
   "outputs": [
    {
     "name": "stdout",
     "output_type": "stream",
     "text": [
      "Found: \n"
     ]
    }
   ],
   "source": [
    "D = df[(df[\"Emission Label\"].isnull()) & (df[\"Warranty\"].notnull())][\"Warranty\"]\n",
    "        \n",
    "for i in D:\n",
    "    if type(i) == list:\n",
    "        for j in i:\n",
    "            if (\"Green\" in j) or (\"Yellow\" in j) or (\"Red\" in j):\n",
    "                print(i)\n",
    "    else:\n",
    "        pass\n",
    "print(\"Found: \")"
   ]
  },
  {
   "cell_type": "markdown",
   "id": "f1021c88",
   "metadata": {},
   "source": [
    "## - Full Service"
   ]
  },
  {
   "cell_type": "code",
   "execution_count": 91,
   "id": "c2cd4961",
   "metadata": {},
   "outputs": [
    {
     "data": {
      "text/plain": [
       "0                            [\\n, \\n]\n",
       "1                                 NaN\n",
       "2                                 NaN\n",
       "3    [\\n, \\n, \\n99 g CO2/km (comb)\\n]\n",
       "4             [\\n, \\n, \\n4 (Green)\\n]\n",
       "5    [\\n, \\n, \\n92 g CO2/km (comb)\\n]\n",
       "6                [\\n, \\n, \\nEuro 6\\n]\n",
       "7             [\\n, \\n, \\n4 (Green)\\n]\n",
       "8                                 NaN\n",
       "9                                 NaN\n",
       "Name: Full Service, dtype: object"
      ]
     },
     "execution_count": 91,
     "metadata": {},
     "output_type": "execute_result"
    }
   ],
   "source": [
    "df[\"Full Service\"].head(10)"
   ]
  },
  {
   "cell_type": "code",
   "execution_count": 92,
   "id": "549aad5a",
   "metadata": {
    "scrolled": true
   },
   "outputs": [
    {
     "data": {
      "text/plain": [
       "nan                                                                                                             7704\n",
       "['\\n', '\\n', '\\n4 (Green)\\n']                                                                                   2235\n",
       "['\\n', '\\n', '\\nEuro 6\\n']                                                                                      2097\n",
       "['\\n', '\\n']                                                                                                    1702\n",
       "['\\n', '\\n', '\\nEuro 6d-TEMP\\n']                                                                                 399\n",
       "                                                                                                                ... \n",
       "['\\n', '\\n', '\\n80 g CO2/km (comb)\\n']                                                                             1\n",
       "['\\n', '\\n', '\\n84 g CO2/km (comb)\\n']                                                                             1\n",
       "['\\n', '\\n', '\\n', '6 l/100 km (comb)', '\\n', '8 l/100 km (city)', '\\n', '4.9 l/100 km (country)', '\\n']           1\n",
       "['\\n', '\\n', '\\n', '4.9 l/100 km (comb)', '\\n', '6.2 l/100 km (city)', '\\n', '4.1 l/100 km (country)', '\\n']       1\n",
       "['\\n', '\\n', '\\nEuro 4\\n']                                                                                         1\n",
       "Name: Full Service, Length: 123, dtype: int64"
      ]
     },
     "execution_count": 92,
     "metadata": {},
     "output_type": "execute_result"
    }
   ],
   "source": [
    "df[\"Full Service\"].astype('str').value_counts(dropna=False)"
   ]
  },
  {
   "cell_type": "code",
   "execution_count": 93,
   "id": "0d738c30",
   "metadata": {},
   "outputs": [
    {
     "data": {
      "text/plain": [
       "48.39"
      ]
     },
     "execution_count": 93,
     "metadata": {},
     "output_type": "execute_result"
    }
   ],
   "source": [
    "round(df[\"Full Service\"].isnull().sum()/df.shape[0] * 100, 2)"
   ]
  },
  {
   "cell_type": "code",
   "execution_count": 94,
   "id": "937bfdd5",
   "metadata": {
    "scrolled": true
   },
   "outputs": [
    {
     "data": {
      "text/plain": [
       "' Trying to auto fill a column\\'s Nan values from other column\\'s value\\n\\nAA = df[\"Emission Class\"]\\nBB = df[\"Full Service\"]\\ntext = \"Euro\"\\nLL = list(zip(AA, BB))\\n\\nAAL = df[\"New Full Service\"]\\n\\nidx = 0\\nk = 0\\n\\nfor idx < BB.shape[0]:\\n    for i,j in LL:\\n        if (i == np.nan) & (j != np.nan):\\n            if type(j) == list:\\n                for k in range(len(j)):\\n                    if text in j[k]:\\n                        AAL.iloc(idx) = j[k]\\n                    else:\\n                        pass\\n                    k += 1\\n            else:\\n                pass\\n        else:\\n            pass\\n            \\n    idx + = 1\\n    \\nAAL.head(10)\\n\\n# df[[\"Emission Class\", \"Full Service\"]].iloc[9779]\\n'"
      ]
     },
     "execution_count": 94,
     "metadata": {},
     "output_type": "execute_result"
    }
   ],
   "source": [
    "\"\"\" Trying to auto fill a column's Nan values from other column's value\n",
    "\n",
    "AA = df[\"Emission Class\"]\n",
    "BB = df[\"Full Service\"]\n",
    "text = \"Euro\"\n",
    "LL = list(zip(AA, BB))\n",
    "\n",
    "AAL = df[\"New Full Service\"]\n",
    "\n",
    "idx = 0\n",
    "k = 0\n",
    "\n",
    "for idx < BB.shape[0]:\n",
    "    for i,j in LL:\n",
    "        if (i == np.nan) & (j != np.nan):\n",
    "            if type(j) == list:\n",
    "                for k in range(len(j)):\n",
    "                    if text in j[k]:\n",
    "                        AAL.iloc(idx) = j[k]\n",
    "                    else:\n",
    "                        pass\n",
    "                    k += 1\n",
    "            else:\n",
    "                pass\n",
    "        else:\n",
    "            pass\n",
    "            \n",
    "    idx + = 1\n",
    "    \n",
    "AAL.head(10)\n",
    "\n",
    "# df[[\"Emission Class\", \"Full Service\"]].iloc[9779]\n",
    "\"\"\""
   ]
  },
  {
   "cell_type": "code",
   "execution_count": 95,
   "id": "737fc78d",
   "metadata": {
    "scrolled": true
   },
   "outputs": [
    {
     "name": "stdout",
     "output_type": "stream",
     "text": [
      "['\\n', '\\n', '\\nEuro 6\\n']\n",
      "['\\n', '\\n', '\\nEuro 6\\n']\n",
      "['\\n', '\\n', '\\nEuro 6\\n']\n",
      "['\\n', '\\n', '\\nEuro 6\\n']\n",
      "['\\n', '\\n', '\\nEuro 6\\n']\n",
      "['\\n', '\\n', '\\nEuro 6\\n']\n",
      "['\\n', '\\n', '\\nEuro 6\\n']\n",
      "['\\n', '\\n', '\\nEuro 6\\n']\n",
      "['\\n', '\\n', '\\nEuro 6\\n']\n",
      "['\\n', '\\n', '\\nEuro 6\\n']\n",
      "['\\n', '\\n', '\\nEuro 6\\n']\n",
      "['\\n', '\\n', '\\nEuro 6\\n']\n",
      "['\\n', '\\n', '\\nEuro 6\\n']\n",
      "['\\n', '\\n', '\\nEuro 6\\n']\n",
      "['\\n', '\\n', '\\nEuro 6\\n']\n",
      "['\\n', '\\n', '\\nEuro 6\\n']\n",
      "['\\n', '\\n', '\\nEuro 6\\n']\n",
      "['\\n', '\\n', '\\nEuro 6\\n']\n",
      "['\\n', '\\n', '\\nEuro 6\\n']\n",
      "['\\n', '\\n', '\\nEuro 6\\n']\n",
      "['\\n', '\\n', '\\nEuro 6\\n']\n",
      "['\\n', '\\n', '\\nEuro 6\\n']\n",
      "['\\n', '\\n', '\\nEuro 6\\n']\n",
      "['\\n', '\\n', '\\nEuro 6\\n']\n",
      "['\\n', '\\n', '\\nEuro 6\\n']\n",
      "['\\n', '\\n', '\\nEuro 6\\n']\n",
      "['\\n', '\\n', '\\nEuro 6\\n']\n",
      "['\\n', '\\n', '\\nEuro 6\\n']\n",
      "['\\n', '\\n', '\\nEuro 6\\n']\n",
      "['\\n', '\\n', '\\nEuro 6\\n']\n",
      "['\\n', '\\n', '\\nEuro 6\\n']\n",
      "['\\n', '\\n', '\\nEuro 6\\n']\n",
      "['\\n', '\\n', '\\nEuro 6\\n']\n",
      "['\\n', '\\n', '\\nEuro 6\\n']\n",
      "['\\n', '\\n', '\\nEuro 6\\n']\n",
      "['\\n', '\\n', '\\nEuro 6\\n']\n",
      "['\\n', '\\n', '\\nEuro 6\\n']\n",
      "['\\n', '\\n', '\\nEuro 6\\n']\n",
      "['\\n', '\\n', '\\nEuro 6\\n']\n",
      "['\\n', '\\n', '\\nEuro 6\\n']\n",
      "['\\n', '\\n', '\\nEuro 6\\n']\n",
      "['\\n', '\\n', '\\nEuro 6\\n']\n",
      "['\\n', '\\n', '\\nEuro 6\\n']\n",
      "['\\n', '\\n', '\\nEuro 6\\n']\n",
      "['\\n', '\\n', '\\nEuro 6\\n']\n",
      "['\\n', '\\n', '\\nEuro 6\\n']\n",
      "['\\n', '\\n', '\\nEuro 6\\n']\n",
      "['\\n', '\\n', '\\nEuro 6\\n']\n",
      "['\\n', '\\n', '\\nEuro 6\\n']\n",
      "['\\n', '\\n', '\\nEuro 6\\n']\n",
      "['\\n', '\\n', '\\nEuro 6\\n']\n",
      "['\\n', '\\n', '\\nEuro 6\\n']\n",
      "['\\n', '\\n', '\\nEuro 6\\n']\n",
      "['\\n', '\\n', '\\nEuro 6\\n']\n",
      "['\\n', '\\n', '\\nEuro 6\\n']\n",
      "['\\n', '\\n', '\\nEuro 6\\n']\n",
      "['\\n', '\\n', '\\nEuro 6\\n']\n",
      "['\\n', '\\n', '\\nEuro 6\\n']\n",
      "['\\n', '\\n', '\\nEuro 6\\n']\n",
      "['\\n', '\\n', '\\nEuro 6\\n']\n",
      "['\\n', '\\n', '\\nEuro 6\\n']\n",
      "['\\n', '\\n', '\\nEuro 6\\n']\n",
      "['\\n', '\\n', '\\nEuro 6\\n']\n",
      "['\\n', '\\n', '\\nEuro 6\\n']\n",
      "['\\n', '\\n', '\\nEuro 6\\n']\n",
      "['\\n', '\\n', '\\nEuro 6\\n']\n",
      "['\\n', '\\n', '\\nEuro 6\\n']\n",
      "['\\n', '\\n', '\\nEuro 6\\n']\n",
      "['\\n', '\\n', '\\nEuro 6\\n']\n",
      "['\\n', '\\n', '\\nEuro 6\\n']\n",
      "['\\n', '\\n', '\\nEuro 6\\n']\n",
      "['\\n', '\\n', '\\nEuro 6\\n']\n",
      "['\\n', '\\n', '\\nEuro 6\\n']\n",
      "['\\n', '\\n', '\\nEuro 6\\n']\n",
      "['\\n', '\\n', '\\nEuro 6\\n']\n",
      "['\\n', '\\n', '\\nEuro 6\\n']\n",
      "['\\n', '\\n', '\\nEuro 6\\n']\n",
      "['\\n', '\\n', '\\nEuro 6\\n']\n",
      "['\\n', '\\n', '\\nEuro 6d-TEMP\\n']\n",
      "['\\n', '\\n', '\\nEuro 6\\n']\n",
      "['\\n', '\\n', '\\nEuro 6d-TEMP\\n']\n",
      "['\\n', '\\n', '\\nEuro 6d-TEMP\\n']\n",
      "['\\n', '\\n', '\\nEuro 6\\n']\n",
      "['\\n', '\\n', '\\nEuro 6\\n']\n",
      "['\\n', '\\n', '\\nEuro 6\\n']\n",
      "['\\n', '\\n', '\\nEuro 6\\n']\n",
      "['\\n', '\\n', '\\nEuro 6\\n']\n",
      "['\\n', '\\n', '\\nEuro 6d-TEMP\\n']\n",
      "['\\n', '\\n', '\\nEuro 6d-TEMP\\n']\n",
      "['\\n', '\\n', '\\nEuro 6d-TEMP\\n']\n",
      "['\\n', '\\n', '\\nEuro 6d-TEMP\\n']\n",
      "['\\n', '\\n', '\\nEuro 6d-TEMP\\n']\n",
      "['\\n', '\\n', '\\nEuro 6d-TEMP\\n']\n",
      "['\\n', '\\n', '\\nEuro 6\\n']\n",
      "['\\n', '\\n', '\\nEuro 6\\n']\n",
      "['\\n', '\\n', '\\nEuro 6d-TEMP\\n']\n",
      "['\\n', '\\n', '\\nEuro 6d-TEMP\\n']\n",
      "['\\n', '\\n', '\\nEuro 6d-TEMP\\n']\n",
      "['\\n', '\\n', '\\nEuro 6d-TEMP\\n']\n",
      "['\\n', '\\n', '\\nEuro 6\\n']\n",
      "['\\n', '\\n', '\\nEuro 6\\n']\n",
      "['\\n', '\\n', '\\nEuro 6\\n']\n",
      "['\\n', '\\n', '\\nEuro 6\\n']\n",
      "['\\n', '\\n', '\\nEuro 6\\n']\n",
      "['\\n', '\\n', '\\nEuro 6\\n']\n",
      "['\\n', '\\n', '\\nEuro 6\\n']\n",
      "['\\n', '\\n', '\\nEuro 6\\n']\n",
      "['\\n', '\\n', '\\nEuro 6\\n']\n",
      "['\\n', '\\n', '\\nEuro 6\\n']\n",
      "['\\n', '\\n', '\\nEuro 6\\n']\n",
      "['\\n', '\\n', '\\nEuro 6\\n']\n",
      "['\\n', '\\n', '\\nEuro 6\\n']\n",
      "['\\n', '\\n', '\\nEuro 6\\n']\n",
      "['\\n', '\\n', '\\nEuro 6\\n']\n",
      "['\\n', '\\n', '\\nEuro 6\\n']\n",
      "['\\n', '\\n', '\\nEuro 6\\n']\n",
      "['\\n', '\\n', '\\nEuro 6c\\n']\n",
      "['\\n', '\\n', '\\nEuro 6\\n']\n",
      "['\\n', '\\n', '\\nEuro 6\\n']\n",
      "['\\n', '\\n', '\\nEuro 6\\n']\n",
      "['\\n', '\\n', '\\nEuro 6\\n']\n",
      "['\\n', '\\n', '\\nEuro 6\\n']\n",
      "['\\n', '\\n', '\\nEuro 6\\n']\n",
      "['\\n', '\\n', '\\nEuro 6d-TEMP\\n']\n",
      "['\\n', '\\n', '\\nEuro 6\\n']\n",
      "['\\n', '\\n', '\\nEuro 6\\n']\n",
      "['\\n', '\\n', '\\nEuro 6d-TEMP\\n']\n",
      "['\\n', '\\n', '\\nEuro 6\\n']\n",
      "['\\n', '\\n', '\\nEuro 6\\n']\n",
      "['\\n', '\\n', '\\nEuro 6\\n']\n",
      "['\\n', '\\n', '\\nEuro 6d-TEMP\\n']\n",
      "['\\n', '\\n', '\\nEuro 6\\n']\n",
      "['\\n', '\\n', '\\nEuro 6\\n']\n",
      "['\\n', '\\n', '\\nEuro 6\\n']\n",
      "['\\n', '\\n', '\\nEuro 6\\n']\n",
      "['\\n', '\\n', '\\nEuro 6\\n']\n",
      "['\\n', '\\n', '\\nEuro 6\\n']\n",
      "['\\n', '\\n', '\\nEuro 6\\n']\n",
      "['\\n', '\\n', '\\nEuro 6\\n']\n",
      "['\\n', '\\n', '\\nEuro 6\\n']\n",
      "['\\n', '\\n', '\\nEuro 6\\n']\n",
      "['\\n', '\\n', '\\nEuro 6\\n']\n",
      "['\\n', '\\n', '\\nEuro 6\\n']\n",
      "['\\n', '\\n', '\\nEuro 6\\n']\n",
      "['\\n', '\\n', '\\nEuro 6\\n']\n",
      "['\\n', '\\n', '\\nEuro 6\\n']\n",
      "['\\n', '\\n', '\\nEuro 6\\n']\n",
      "['\\n', '\\n', '\\nEuro 6\\n']\n",
      "['\\n', '\\n', '\\nEuro 6\\n']\n",
      "['\\n', '\\n', '\\nEuro 6\\n']\n",
      "['\\n', '\\n', '\\nEuro 6\\n']\n",
      "['\\n', '\\n', '\\nEuro 6\\n']\n",
      "['\\n', '\\n', '\\nEuro 6\\n']\n",
      "['\\n', '\\n', '\\nEuro 6\\n']\n",
      "['\\n', '\\n', '\\nEuro 6\\n']\n",
      "['\\n', '\\n', '\\nEuro 6\\n']\n",
      "['\\n', '\\n', '\\nEuro 6\\n']\n",
      "['\\n', '\\n', '\\nEuro 6\\n']\n",
      "['\\n', '\\n', '\\nEuro 6\\n']\n",
      "['\\n', '\\n', '\\nEuro 6\\n']\n",
      "['\\n', '\\n', '\\nEuro 6\\n']\n",
      "['\\n', '\\n', '\\nEuro 6\\n']\n",
      "['\\n', '\\n', '\\nEuro 6\\n']\n",
      "['\\n', '\\n', '\\nEuro 6\\n']\n",
      "['\\n', '\\n', '\\nEuro 6\\n']\n",
      "['\\n', '\\n', '\\nEuro 6\\n']\n",
      "['\\n', '\\n', '\\nEuro 6\\n']\n",
      "['\\n', '\\n', '\\nEuro 6\\n']\n",
      "['\\n', '\\n', '\\nEuro 6\\n']\n",
      "['\\n', '\\n', '\\nEuro 6\\n']\n",
      "['\\n', '\\n', '\\nEuro 6\\n']\n",
      "['\\n', '\\n', '\\nEuro 6\\n']\n",
      "['\\n', '\\n', '\\nEuro 6\\n']\n",
      "['\\n', '\\n', '\\nEuro 6\\n']\n",
      "['\\n', '\\n', '\\nEuro 6\\n']\n",
      "['\\n', '\\n', '\\nEuro 6\\n']\n",
      "['\\n', '\\n', '\\nEuro 6\\n']\n",
      "['\\n', '\\n', '\\nEuro 6d-TEMP\\n']\n",
      "['\\n', '\\n', '\\nEuro 6\\n']\n",
      "['\\n', '\\n', '\\nEuro 6\\n']\n",
      "['\\n', '\\n', '\\nEuro 6\\n']\n",
      "['\\n', '\\n', '\\nEuro 6\\n']\n",
      "['\\n', '\\n', '\\nEuro 6d-TEMP\\n']\n",
      "['\\n', '\\n', '\\nEuro 6d-TEMP\\n']\n",
      "['\\n', '\\n', '\\nEuro 6d-TEMP\\n']\n",
      "['\\n', '\\n', '\\nEuro 6d-TEMP\\n']\n",
      "['\\n', '\\n', '\\nEuro 6d-TEMP\\n']\n",
      "['\\n', '\\n', '\\nEuro 6\\n']\n",
      "['\\n', '\\n', '\\nEuro 6d-TEMP\\n']\n",
      "['\\n', '\\n', '\\nEuro 6d-TEMP\\n']\n",
      "['\\n', '\\n', '\\nEuro 6d-TEMP\\n']\n",
      "['\\n', '\\n', '\\nEuro 6d-TEMP\\n']\n",
      "['\\n', '\\n', '\\nEuro 6d-TEMP\\n']\n",
      "['\\n', '\\n', '\\nEuro 6d\\n']\n",
      "['\\n', '\\n', '\\nEuro 6d-TEMP\\n']\n",
      "['\\n', '\\n', '\\nEuro 6d-TEMP\\n']\n",
      "['\\n', '\\n', '\\nEuro 6d-TEMP\\n']\n",
      "['\\n', '\\n', '\\nEuro 6\\n']\n",
      "['\\n', '\\n', '\\nEuro 6\\n']\n",
      "['\\n', '\\n', '\\nEuro 6d-TEMP\\n']\n",
      "['\\n', '\\n', '\\nEuro 6d-TEMP\\n']\n",
      "['\\n', '\\n', '\\nEuro 6d-TEMP\\n']\n",
      "['\\n', '\\n', '\\nEuro 6d-TEMP\\n']\n",
      "['\\n', '\\n', '\\nEuro 6d-TEMP\\n']\n",
      "['\\n', '\\n', '\\nEuro 6\\n']\n",
      "['\\n', '\\n', '\\nEuro 6\\n']\n",
      "['\\n', '\\n', '\\nEuro 6d-TEMP\\n']\n",
      "['\\n', '\\n', '\\nEuro 6d-TEMP\\n']\n",
      "['\\n', '\\n', '\\nEuro 6\\n']\n",
      "['\\n', '\\n', '\\nEuro 6\\n']\n",
      "['\\n', '\\n', '\\nEuro 6d-TEMP\\n']\n",
      "['\\n', '\\n', '\\nEuro 6d-TEMP\\n']\n",
      "['\\n', '\\n', '\\nEuro 6d-TEMP\\n']\n",
      "['\\n', '\\n', '\\nEuro 6d-TEMP\\n']\n",
      "['\\n', '\\n', '\\nEuro 6d-TEMP\\n']\n",
      "['\\n', '\\n', '\\nEuro 6d-TEMP\\n']\n",
      "['\\n', '\\n', '\\nEuro 6\\n']\n",
      "['\\n', '\\n', '\\nEuro 6d-TEMP\\n']\n",
      "['\\n', '\\n', '\\nEuro 6d-TEMP\\n']\n",
      "['\\n', '\\n', '\\nEuro 6\\n']\n",
      "['\\n', '\\n', '\\nEuro 6d-TEMP\\n']\n",
      "['\\n', '\\n', '\\nEuro 6d-TEMP\\n']\n",
      "['\\n', '\\n', '\\nEuro 6d-TEMP\\n']\n",
      "['\\n', '\\n', '\\nEuro 6d-TEMP\\n']\n",
      "['\\n', '\\n', '\\nEuro 6d-TEMP\\n']\n",
      "['\\n', '\\n', '\\nEuro 6\\n']\n",
      "['\\n', '\\n', '\\nEuro 6\\n']\n",
      "['\\n', '\\n', '\\nEuro 6d-TEMP\\n']\n",
      "['\\n', '\\n', '\\nEuro 6d-TEMP\\n']\n",
      "['\\n', '\\n', '\\nEuro 6\\n']\n",
      "['\\n', '\\n', '\\nEuro 6\\n']\n",
      "['\\n', '\\n', '\\nEuro 6d-TEMP\\n']\n",
      "['\\n', '\\n', '\\nEuro 6d-TEMP\\n']\n",
      "['\\n', '\\n', '\\nEuro 6d-TEMP\\n']\n",
      "['\\n', '\\n', '\\nEuro 6\\n']\n",
      "['\\n', '\\n', '\\nEuro 6\\n']\n",
      "['\\n', '\\n', '\\nEuro 6\\n']\n",
      "['\\n', '\\n', '\\nEuro 6\\n']\n",
      "['\\n', '\\n', '\\nEuro 6d-TEMP\\n']\n",
      "['\\n', '\\n', '\\nEuro 6\\n']\n",
      "['\\n', '\\n', '\\nEuro 6d-TEMP\\n']\n",
      "['\\n', '\\n', '\\nEuro 6d-TEMP\\n']\n",
      "['\\n', '\\n', '\\nEuro 6\\n']\n",
      "['\\n', '\\n', '\\nEuro 6\\n']\n",
      "['\\n', '\\n', '\\nEuro 6d-TEMP\\n']\n",
      "['\\n', '\\n', '\\nEuro 6d-TEMP\\n']\n",
      "['\\n', '\\n', '\\nEuro 6\\n']\n",
      "['\\n', '\\n', '\\nEuro 6\\n']\n",
      "['\\n', '\\n', '\\nEuro 6\\n']\n",
      "['\\n', '\\n', '\\nEuro 6\\n']\n",
      "['\\n', '\\n', '\\nEuro 6\\n']\n",
      "['\\n', '\\n', '\\nEuro 6\\n']\n",
      "['\\n', '\\n', '\\nEuro 6\\n']\n",
      "['\\n', '\\n', '\\nEuro 6\\n']\n",
      "['\\n', '\\n', '\\nEuro 6\\n']\n",
      "['\\n', '\\n', '\\nEuro 6\\n']\n",
      "['\\n', '\\n', '\\nEuro 6\\n']\n",
      "['\\n', '\\n', '\\nEuro 6\\n']\n",
      "['\\n', '\\n', '\\nEuro 6\\n']\n",
      "['\\n', '\\n', '\\nEuro 6\\n']\n",
      "['\\n', '\\n', '\\nEuro 6\\n']\n",
      "['\\n', '\\n', '\\nEuro 6\\n']\n",
      "['\\n', '\\n', '\\nEuro 6\\n']\n",
      "['\\n', '\\n', '\\nEuro 6\\n']\n",
      "['\\n', '\\n', '\\nEuro 6\\n']\n",
      "['\\n', '\\n', '\\nEuro 6\\n']\n",
      "['\\n', '\\n', '\\nEuro 6\\n']\n",
      "['\\n', '\\n', '\\nEuro 6\\n']\n",
      "['\\n', '\\n', '\\nEuro 6\\n']\n",
      "['\\n', '\\n', '\\nEuro 6\\n']\n",
      "['\\n', '\\n', '\\nEuro 6\\n']\n",
      "['\\n', '\\n', '\\nEuro 6\\n']\n",
      "['\\n', '\\n', '\\nEuro 6d\\n']\n",
      "['\\n', '\\n', '\\nEuro 6\\n']\n",
      "['\\n', '\\n', '\\nEuro 6\\n']\n",
      "['\\n', '\\n', '\\nEuro 6\\n']\n",
      "['\\n', '\\n', '\\nEuro 6\\n']\n",
      "['\\n', '\\n', '\\nEuro 6\\n']\n",
      "['\\n', '\\n', '\\nEuro 6\\n']\n",
      "['\\n', '\\n', '\\nEuro 6\\n']\n",
      "['\\n', '\\n', '\\nEuro 6\\n']\n",
      "['\\n', '\\n', '\\nEuro 6\\n']\n",
      "['\\n', '\\n', '\\nEuro 6\\n']\n",
      "['\\n', '\\n', '\\nEuro 6\\n']\n",
      "['\\n', '\\n', '\\nEuro 6\\n']\n",
      "['\\n', '\\n', '\\nEuro 6\\n']\n",
      "['\\n', '\\n', '\\nEuro 6\\n']\n",
      "['\\n', '\\n', '\\nEuro 6\\n']\n",
      "['\\n', '\\n', '\\nEuro 6\\n']\n",
      "['\\n', '\\n', '\\nEuro 6\\n']\n",
      "['\\n', '\\n', '\\nEuro 6\\n']\n",
      "['\\n', '\\n', '\\nEuro 6\\n']\n",
      "['\\n', '\\n', '\\nEuro 6\\n']\n",
      "['\\n', '\\n', '\\nEuro 6\\n']\n",
      "['\\n', '\\n', '\\nEuro 6\\n']\n",
      "['\\n', '\\n', '\\nEuro 6\\n']\n",
      "['\\n', '\\n', '\\nEuro 6\\n']\n",
      "['\\n', '\\n', '\\nEuro 6\\n']\n",
      "['\\n', '\\n', '\\nEuro 6\\n']\n",
      "['\\n', '\\n', '\\nEuro 6\\n']\n",
      "['\\n', '\\n', '\\nEuro 6\\n']\n",
      "['\\n', '\\n', '\\nEuro 6\\n']\n",
      "['\\n', '\\n', '\\nEuro 6\\n']\n",
      "['\\n', '\\n', '\\nEuro 6\\n']\n",
      "['\\n', '\\n', '\\nEuro 6\\n']\n",
      "['\\n', '\\n', '\\nEuro 6\\n']\n",
      "['\\n', '\\n', '\\nEuro 6\\n']\n",
      "['\\n', '\\n', '\\nEuro 6d-TEMP\\n']\n",
      "['\\n', '\\n', '\\nEuro 6d-TEMP\\n']\n",
      "['\\n', '\\n', '\\nEuro 6d-TEMP\\n']\n",
      "['\\n', '\\n', '\\nEuro 6\\n']\n",
      "['\\n', '\\n', '\\nEuro 6\\n']\n",
      "['\\n', '\\n', '\\nEuro 6\\n']\n",
      "['\\n', '\\n', '\\nEuro 6\\n']\n",
      "['\\n', '\\n', '\\nEuro 6d-TEMP\\n']\n",
      "['\\n', '\\n', '\\nEuro 6\\n']\n",
      "['\\n', '\\n', '\\nEuro 6d-TEMP\\n']\n",
      "['\\n', '\\n', '\\nEuro 6d-TEMP\\n']\n",
      "['\\n', '\\n', '\\nEuro 6d-TEMP\\n']\n",
      "['\\n', '\\n', '\\nEuro 6d-TEMP\\n']\n",
      "['\\n', '\\n', '\\nEuro 6d-TEMP\\n']\n",
      "['\\n', '\\n', '\\nEuro 6d-TEMP\\n']\n",
      "['\\n', '\\n', '\\nEuro 6d-TEMP\\n']\n",
      "['\\n', '\\n', '\\nEuro 6\\n']\n",
      "['\\n', '\\n', '\\nEuro 6d-TEMP\\n']\n",
      "['\\n', '\\n', '\\nEuro 6d-TEMP\\n']\n",
      "['\\n', '\\n', '\\nEuro 6d-TEMP\\n']\n",
      "['\\n', '\\n', '\\nEuro 6\\n']\n",
      "['\\n', '\\n', '\\nEuro 6d-TEMP\\n']\n",
      "['\\n', '\\n', '\\nEuro 6d-TEMP\\n']\n",
      "['\\n', '\\n', '\\nEuro 6d-TEMP\\n']\n",
      "['\\n', '\\n', '\\nEuro 6\\n']\n",
      "['\\n', '\\n', '\\nEuro 6\\n']\n",
      "['\\n', '\\n', '\\nEuro 6\\n']\n",
      "['\\n', '\\n', '\\nEuro 6d-TEMP\\n']\n",
      "['\\n', '\\n', '\\nEuro 6d-TEMP\\n']\n",
      "['\\n', '\\n', '\\nEuro 6d-TEMP\\n']\n",
      "['\\n', '\\n', '\\nEuro 6d-TEMP\\n']\n",
      "['\\n', '\\n', '\\nEuro 6d-TEMP\\n']\n",
      "['\\n', '\\n', '\\nEuro 6d-TEMP\\n']\n",
      "['\\n', '\\n', '\\nEuro 6d-TEMP\\n']\n",
      "['\\n', '\\n', '\\nEuro 6d-TEMP\\n']\n",
      "['\\n', '\\n', '\\nEuro 6d-TEMP\\n']\n",
      "['\\n', '\\n', '\\nEuro 6d-TEMP\\n']\n",
      "['\\n', '\\n', '\\nEuro 6d-TEMP\\n']\n",
      "['\\n', '\\n', '\\nEuro 6d-TEMP\\n']\n",
      "['\\n', '\\n', '\\nEuro 6d-TEMP\\n']\n",
      "['\\n', '\\n', '\\nEuro 6d-TEMP\\n']\n",
      "['\\n', '\\n', '\\nEuro 6d-TEMP\\n']\n",
      "['\\n', '\\n', '\\nEuro 6\\n']\n",
      "['\\n', '\\n', '\\nEuro 6d-TEMP\\n']\n",
      "['\\n', '\\n', '\\nEuro 6\\n']\n",
      "['\\n', '\\n', '\\nEuro 6d-TEMP\\n']\n",
      "['\\n', '\\n', '\\nEuro 6d-TEMP\\n']\n",
      "['\\n', '\\n', '\\nEuro 6d-TEMP\\n']\n",
      "['\\n', '\\n', '\\nEuro 6d-TEMP\\n']\n",
      "['\\n', '\\n', '\\nEuro 6d-TEMP\\n']\n",
      "['\\n', '\\n', '\\nEuro 6d-TEMP\\n']\n",
      "['\\n', '\\n', '\\nEuro 6d-TEMP\\n']\n",
      "['\\n', '\\n', '\\nEuro 6d-TEMP\\n']\n",
      "['\\n', '\\n', '\\nEuro 6d-TEMP\\n']\n",
      "['\\n', '\\n', '\\nEuro 6d-TEMP\\n']\n",
      "['\\n', '\\n', '\\nEuro 6d-TEMP\\n']\n",
      "['\\n', '\\n', '\\nEuro 6\\n']\n",
      "['\\n', '\\n', '\\nEuro 6\\n']\n",
      "['\\n', '\\n', '\\nEuro 6\\n']\n",
      "['\\n', '\\n', '\\nEuro 6\\n']\n",
      "['\\n', '\\n', '\\nEuro 6\\n']\n",
      "['\\n', '\\n', '\\nEuro 6\\n']\n",
      "['\\n', '\\n', '\\nEuro 6\\n']\n",
      "['\\n', '\\n', '\\nEuro 6\\n']\n",
      "['\\n', '\\n', '\\nEuro 6\\n']\n",
      "['\\n', '\\n', '\\nEuro 6\\n']\n",
      "['\\n', '\\n', '\\nEuro 6\\n']\n",
      "['\\n', '\\n', '\\nEuro 6\\n']\n",
      "['\\n', '\\n', '\\nEuro 6\\n']\n",
      "['\\n', '\\n', '\\nEuro 6\\n']\n",
      "['\\n', '\\n', '\\nEuro 6\\n']\n",
      "['\\n', '\\n', '\\nEuro 6\\n']\n",
      "['\\n', '\\n', '\\nEuro 6\\n']\n",
      "['\\n', '\\n', '\\nEuro 6\\n']\n",
      "['\\n', '\\n', '\\nEuro 6\\n']\n",
      "['\\n', '\\n', '\\nEuro 6d-TEMP\\n']\n",
      "['\\n', '\\n', '\\nEuro 6d-TEMP\\n']\n",
      "['\\n', '\\n', '\\nEuro 6d-TEMP\\n']\n",
      "['\\n', '\\n', '\\nEuro 6\\n']\n",
      "['\\n', '\\n', '\\nEuro 6\\n']\n",
      "['\\n', '\\n', '\\nEuro 6\\n']\n",
      "['\\n', '\\n', '\\nEuro 6\\n']\n",
      "['\\n', '\\n', '\\nEuro 6\\n']\n",
      "['\\n', '\\n', '\\nEuro 6\\n']\n",
      "['\\n', '\\n', '\\nEuro 6\\n']\n",
      "['\\n', '\\n', '\\nEuro 6\\n']\n",
      "['\\n', '\\n', '\\nEuro 6c\\n']\n",
      "['\\n', '\\n', '\\nEuro 6\\n']\n",
      "['\\n', '\\n', '\\nEuro 6\\n']\n",
      "['\\n', '\\n', '\\nEuro 6\\n']\n",
      "['\\n', '\\n', '\\nEuro 6\\n']\n",
      "['\\n', '\\n', '\\nEuro 6\\n']\n",
      "['\\n', '\\n', '\\nEuro 6\\n']\n",
      "['\\n', '\\n', '\\nEuro 6\\n']\n",
      "['\\n', '\\n', '\\nEuro 6\\n']\n",
      "['\\n', '\\n', '\\nEuro 6\\n']\n",
      "['\\n', '\\n', '\\nEuro 6\\n']\n",
      "['\\n', '\\n', '\\nEuro 6d-TEMP\\n']\n",
      "['\\n', '\\n', '\\nEuro 6d-TEMP\\n']\n",
      "['\\n', '\\n', '\\nEuro 6\\n']\n",
      "['\\n', '\\n', '\\nEuro 6d-TEMP\\n']\n",
      "['\\n', '\\n', '\\nEuro 6d-TEMP\\n']\n",
      "['\\n', '\\n', '\\nEuro 6d-TEMP\\n']\n",
      "['\\n', '\\n', '\\nEuro 6d-TEMP\\n']\n",
      "['\\n', '\\n', '\\nEuro 6\\n']\n",
      "['\\n', '\\n', '\\nEuro 6\\n']\n",
      "['\\n', '\\n', '\\nEuro 6\\n']\n",
      "['\\n', '\\n', '\\nEuro 6d-TEMP\\n']\n",
      "['\\n', '\\n', '\\nEuro 6d-TEMP\\n']\n",
      "['\\n', '\\n', '\\nEuro 6d-TEMP\\n']\n",
      "['\\n', '\\n', '\\nEuro 6d-TEMP\\n']\n",
      "['\\n', '\\n', '\\nEuro 6d-TEMP\\n']\n",
      "['\\n', '\\n', '\\nEuro 6\\n']\n",
      "['\\n', '\\n', '\\nEuro 6\\n']\n",
      "['\\n', '\\n', '\\nEuro 6\\n']\n",
      "['\\n', '\\n', '\\nEuro 6\\n']\n",
      "['\\n', '\\n', '\\nEuro 6\\n']\n",
      "['\\n', '\\n', '\\nEuro 6\\n']\n",
      "['\\n', '\\n', '\\nEuro 6\\n']\n",
      "['\\n', '\\n', '\\nEuro 6\\n']\n",
      "['\\n', '\\n', '\\nEuro 6\\n']\n",
      "['\\n', '\\n', '\\nEuro 6\\n']\n",
      "['\\n', '\\n', '\\nEuro 6\\n']\n",
      "['\\n', '\\n', '\\nEuro 6\\n']\n",
      "['\\n', '\\n', '\\nEuro 6\\n']\n",
      "['\\n', '\\n', '\\nEuro 6d-TEMP\\n']\n",
      "Found: \n"
     ]
    }
   ],
   "source": [
    "E = df[(df[\"Emission Class\"].isnull()) & (df[\"Full Service\"].notnull())][\"Full Service\"]\n",
    "\n",
    "for i in E:\n",
    "    if type(i) == list:\n",
    "        for j in i:\n",
    "            if \"Euro\" in j:\n",
    "                print(i)\n",
    "    else:\n",
    "        pass\n",
    "print(\"Found: \")"
   ]
  },
  {
   "cell_type": "code",
   "execution_count": 96,
   "id": "8e106be9",
   "metadata": {},
   "outputs": [],
   "source": [
    "df.drop('Full Service', axis=1, inplace=True)"
   ]
  },
  {
   "cell_type": "markdown",
   "id": "9a8aab1e",
   "metadata": {},
   "source": [
    "## - Non-smoking Vehicle"
   ]
  },
  {
   "cell_type": "code",
   "execution_count": 97,
   "id": "15a4479f",
   "metadata": {},
   "outputs": [
    {
     "data": {
      "text/plain": [
       "0                   [\\n, \\n]\n",
       "1                        NaN\n",
       "2                        NaN\n",
       "3       [\\n, \\n, \\nEuro 6\\n]\n",
       "4                   [\\n, \\n]\n",
       "5       [\\n, \\n, \\nEuro 6\\n]\n",
       "6    [\\n, \\n, \\n4 (Green)\\n]\n",
       "7                        NaN\n",
       "8                        NaN\n",
       "9                        NaN\n",
       "Name: Non-smoking Vehicle, dtype: object"
      ]
     },
     "execution_count": 97,
     "metadata": {},
     "output_type": "execute_result"
    }
   ],
   "source": [
    "df[\"Non-smoking Vehicle\"].head(10)"
   ]
  },
  {
   "cell_type": "code",
   "execution_count": 98,
   "id": "18225c5f",
   "metadata": {
    "scrolled": true
   },
   "outputs": [
    {
     "data": {
      "text/plain": [
       "nan                                                                                                             8742\n",
       "['\\n', '\\n']                                                                                                    3647\n",
       "['\\n', '\\n', '\\n4 (Green)\\n']                                                                                   1240\n",
       "['\\n', '\\n', '\\nEuro 6\\n']                                                                                      1127\n",
       "['\\n', '\\n', '\\nEuro 6d-TEMP\\n']                                                                                 345\n",
       "                                                                                                                ... \n",
       "['\\n', '\\n', '\\n', '5.6 l/100 km (comb)', '\\n', '7.3 l/100 km (city)', '\\n', '4.7 l/100 km (country)', '\\n']       1\n",
       "['\\n', '\\n', '\\n122 g CO2/km (comb)\\n']                                                                            1\n",
       "['\\n', '\\n', '\\n158 g CO2/km (comb)\\n']                                                                            1\n",
       "['\\n', '\\n', '\\n150 g CO2/km (comb)\\n']                                                                            1\n",
       "['\\n', '\\n', '\\n175 g CO2/km (comb)\\n']                                                                            1\n",
       "Name: Non-smoking Vehicle, Length: 95, dtype: int64"
      ]
     },
     "execution_count": 98,
     "metadata": {},
     "output_type": "execute_result"
    }
   ],
   "source": [
    "df[\"Non-smoking Vehicle\"].astype('str').value_counts(dropna=False)"
   ]
  },
  {
   "cell_type": "code",
   "execution_count": 99,
   "id": "40b22152",
   "metadata": {},
   "outputs": [
    {
     "data": {
      "text/plain": [
       "54.92"
      ]
     },
     "execution_count": 99,
     "metadata": {},
     "output_type": "execute_result"
    }
   ],
   "source": [
    "round(df[\"Non-smoking Vehicle\"].isnull().sum()/df.shape[0] * 100, 2)"
   ]
  },
  {
   "cell_type": "code",
   "execution_count": 100,
   "id": "ad57b220",
   "metadata": {},
   "outputs": [],
   "source": [
    "df.drop('Non-smoking Vehicle', axis=1, inplace=True)"
   ]
  },
  {
   "cell_type": "markdown",
   "id": "28ccf7d0",
   "metadata": {},
   "source": [
    "## - null"
   ]
  },
  {
   "cell_type": "markdown",
   "id": "fdcadc8a",
   "metadata": {},
   "source": [
    "There are no data in this column so we will drop this column"
   ]
  },
  {
   "cell_type": "code",
   "execution_count": 101,
   "id": "353c9139",
   "metadata": {},
   "outputs": [
    {
     "data": {
      "text/plain": [
       "[]    15919\n",
       "Name: null, dtype: int64"
      ]
     },
     "execution_count": 101,
     "metadata": {},
     "output_type": "execute_result"
    }
   ],
   "source": [
    "df.null.astype('str').value_counts(dropna=False)"
   ]
  },
  {
   "cell_type": "code",
   "execution_count": 102,
   "id": "95f87029",
   "metadata": {},
   "outputs": [],
   "source": [
    "df.drop('null', axis=1, inplace=True)"
   ]
  },
  {
   "cell_type": "markdown",
   "id": "29121d3f",
   "metadata": {},
   "source": [
    "## - Make"
   ]
  },
  {
   "cell_type": "markdown",
   "id": "cb4e438f",
   "metadata": {},
   "source": [
    "Make_Model column have every data this column have so we will drop tihs column"
   ]
  },
  {
   "cell_type": "code",
   "execution_count": 103,
   "id": "23c99c59",
   "metadata": {},
   "outputs": [],
   "source": [
    "df.drop([\"Make\"], axis=1, inplace=True)"
   ]
  },
  {
   "cell_type": "markdown",
   "id": "640978d8",
   "metadata": {},
   "source": [
    "## - Model"
   ]
  },
  {
   "cell_type": "markdown",
   "id": "ff907aab",
   "metadata": {},
   "source": [
    "Make_Model column have every data this column have so we will drop tihs column"
   ]
  },
  {
   "cell_type": "code",
   "execution_count": 104,
   "id": "eef68ef7",
   "metadata": {},
   "outputs": [],
   "source": [
    "df.drop([\"Model\"], axis=1, inplace=True)"
   ]
  },
  {
   "cell_type": "markdown",
   "id": "fbbe1aed",
   "metadata": {},
   "source": [
    "## - Offer Number"
   ]
  },
  {
   "cell_type": "code",
   "execution_count": 105,
   "id": "bee182da",
   "metadata": {},
   "outputs": [
    {
     "data": {
      "text/plain": [
       "0    [\\nLR-062483\\n]\n",
       "1                NaN\n",
       "2     [\\nAM-95365\\n]\n",
       "3                NaN\n",
       "4        [\\nC1626\\n]\n",
       "5      [\\nJV03654\\n]\n",
       "6       [\\n200-19\\n]\n",
       "7    [\\n18381A-Q2\\n]\n",
       "8     [\\n11540324\\n]\n",
       "9                NaN\n",
       "Name: Offer Number, dtype: object"
      ]
     },
     "execution_count": 105,
     "metadata": {},
     "output_type": "execute_result"
    }
   ],
   "source": [
    "df[\"Offer Number\"].head(10)"
   ]
  },
  {
   "cell_type": "code",
   "execution_count": 106,
   "id": "19c71c83",
   "metadata": {},
   "outputs": [],
   "source": [
    "df.drop('Offer Number', axis=1, inplace=True)"
   ]
  },
  {
   "cell_type": "markdown",
   "id": "d09dcca6",
   "metadata": {},
   "source": [
    "## - First Registration"
   ]
  },
  {
   "cell_type": "code",
   "execution_count": 107,
   "id": "ec55e8a4",
   "metadata": {},
   "outputs": [
    {
     "data": {
      "text/plain": [
       "0    [\\n, 2016, \\n]\n",
       "1    [\\n, 2017, \\n]\n",
       "2    [\\n, 2016, \\n]\n",
       "3    [\\n, 2016, \\n]\n",
       "4    [\\n, 2016, \\n]\n",
       "5    [\\n, 2016, \\n]\n",
       "6    [\\n, 2016, \\n]\n",
       "7    [\\n, 2016, \\n]\n",
       "8    [\\n, 2016, \\n]\n",
       "9    [\\n, 2017, \\n]\n",
       "Name: First Registration, dtype: object"
      ]
     },
     "execution_count": 107,
     "metadata": {},
     "output_type": "execute_result"
    }
   ],
   "source": [
    "df[\"First Registration\"].head(10)"
   ]
  },
  {
   "cell_type": "code",
   "execution_count": 108,
   "id": "81b97a77",
   "metadata": {},
   "outputs": [],
   "source": [
    "df['First Registration'] = df['First Registration'].str[1].astype('float')"
   ]
  },
  {
   "cell_type": "code",
   "execution_count": 109,
   "id": "61a19371",
   "metadata": {},
   "outputs": [
    {
     "data": {
      "text/plain": [
       "2018.000    4522\n",
       "2016.000    3674\n",
       "2017.000    3273\n",
       "2019.000    2853\n",
       "NaN         1597\n",
       "Name: First Registration, dtype: int64"
      ]
     },
     "execution_count": 109,
     "metadata": {},
     "output_type": "execute_result"
    }
   ],
   "source": [
    "df[\"First Registration\"].value_counts(dropna=False)"
   ]
  },
  {
   "cell_type": "code",
   "execution_count": 110,
   "id": "832dc6d3",
   "metadata": {},
   "outputs": [
    {
     "data": {
      "text/plain": [
       "10.03"
      ]
     },
     "execution_count": 110,
     "metadata": {},
     "output_type": "execute_result"
    }
   ],
   "source": [
    "round(df[\"First Registration\"].isnull().sum()/df.shape[0] * 100, 2)"
   ]
  },
  {
   "cell_type": "code",
   "execution_count": 111,
   "id": "15c6467f",
   "metadata": {},
   "outputs": [],
   "source": [
    "df['age'] = 2019 - df['First Registration']"
   ]
  },
  {
   "cell_type": "code",
   "execution_count": 112,
   "id": "b43346cc",
   "metadata": {},
   "outputs": [],
   "source": [
    "df.drop(['First Registration'], axis=1, inplace=True)"
   ]
  },
  {
   "cell_type": "markdown",
   "id": "daf8aa1a",
   "metadata": {},
   "source": [
    "## - Body Color"
   ]
  },
  {
   "cell_type": "code",
   "execution_count": 113,
   "id": "755d08a1",
   "metadata": {},
   "outputs": [
    {
     "data": {
      "text/plain": [
       "0    [\\n, Black, \\n]\n",
       "1      [\\n, Red, \\n]\n",
       "2    [\\n, Black, \\n]\n",
       "3    [\\n, Brown, \\n]\n",
       "4    [\\n, Black, \\n]\n",
       "5    [\\n, White, \\n]\n",
       "6    [\\n, White, \\n]\n",
       "7      [\\n, Red, \\n]\n",
       "8     [\\n, Grey, \\n]\n",
       "9    [\\n, White, \\n]\n",
       "Name: Body Color, dtype: object"
      ]
     },
     "execution_count": 113,
     "metadata": {},
     "output_type": "execute_result"
    }
   ],
   "source": [
    "df[\"Body Color\"].head(10)"
   ]
  },
  {
   "cell_type": "code",
   "execution_count": 114,
   "id": "9a179258",
   "metadata": {},
   "outputs": [],
   "source": [
    "df[\"Body Color\"] = [i[1] if type(i) == list else i for i in df[\"Body Color\"]]"
   ]
  },
  {
   "cell_type": "code",
   "execution_count": 115,
   "id": "deb5866c",
   "metadata": {},
   "outputs": [
    {
     "data": {
      "text/plain": [
       "Black     3745\n",
       "Grey      3505\n",
       "White     3406\n",
       "Silver    1647\n",
       "Blue      1431\n",
       "Red        957\n",
       "NaN        597\n",
       "Brown      289\n",
       "Green      154\n",
       "Beige      108\n",
       "Yellow      51\n",
       "Violet      18\n",
       "Bronze       6\n",
       "Orange       3\n",
       "Gold         2\n",
       "Name: Body Color, dtype: int64"
      ]
     },
     "execution_count": 115,
     "metadata": {},
     "output_type": "execute_result"
    }
   ],
   "source": [
    "df['Body Color'].value_counts(dropna=False)"
   ]
  },
  {
   "cell_type": "code",
   "execution_count": 116,
   "id": "5aedddd4",
   "metadata": {},
   "outputs": [
    {
     "data": {
      "text/plain": [
       "3.75"
      ]
     },
     "execution_count": 116,
     "metadata": {},
     "output_type": "execute_result"
    }
   ],
   "source": [
    "round(df[\"Body Color\"].isnull().sum()/df.shape[0] * 100, 2)"
   ]
  },
  {
   "cell_type": "code",
   "execution_count": 117,
   "id": "799ba1f7",
   "metadata": {},
   "outputs": [],
   "source": [
    "df.drop([\"Body Color\"], axis=1, inplace=True)"
   ]
  },
  {
   "cell_type": "markdown",
   "id": "1ccbc0ac",
   "metadata": {},
   "source": [
    "This Column has no affects on the price column. Thats why we will drop it."
   ]
  },
  {
   "cell_type": "markdown",
   "id": "72d71099",
   "metadata": {},
   "source": [
    "## - Body Color Original"
   ]
  },
  {
   "cell_type": "code",
   "execution_count": 118,
   "id": "9c4fec83",
   "metadata": {},
   "outputs": [
    {
     "data": {
      "text/plain": [
       "0             [\\nMythosschwarz\\n]\n",
       "1                             NaN\n",
       "2    [\\nmythosschwarz metallic\\n]\n",
       "3                             NaN\n",
       "4    [\\nMythosschwarz Metallic\\n]\n",
       "5                             NaN\n",
       "6            [\\nGletscherweiss\\n]\n",
       "7      [\\nMisanorot Perleffekt\\n]\n",
       "8                    [\\nGrigio\\n]\n",
       "9                     [\\nBlanc\\n]\n",
       "Name: Body Color Original, dtype: object"
      ]
     },
     "execution_count": 118,
     "metadata": {},
     "output_type": "execute_result"
    }
   ],
   "source": [
    "df[\"Body Color Original\"].head(10)"
   ]
  },
  {
   "cell_type": "code",
   "execution_count": 119,
   "id": "077826e2",
   "metadata": {},
   "outputs": [],
   "source": [
    "df[\"Body Color Original\"] = [i[0] if type(i) == list else i for i in df[\"Body Color Original\"]]"
   ]
  },
  {
   "cell_type": "code",
   "execution_count": 120,
   "id": "edfcae5d",
   "metadata": {},
   "outputs": [
    {
     "data": {
      "text/plain": [
       "NaN                                  3759\n",
       "\\nOnyx Schwarz\\n                      338\n",
       "\\nBianco\\n                            282\n",
       "\\nMythosschwarz Metallic\\n            238\n",
       "\\nBrillantschwarz\\n                   216\n",
       "                                     ... \n",
       "\\nRouge-Braun (G0Y)\\n                   1\n",
       "\\nVARI COLRI DISPONIBILI\\n              1\n",
       "\\nKokosnussbraun Metallic\\n             1\n",
       "\\nFarbe frei wählbar\\n                  1\n",
       "\\nPerlmutt-Weiß Metallic (Weiß)\\n       1\n",
       "Name: Body Color Original, Length: 1928, dtype: int64"
      ]
     },
     "execution_count": 120,
     "metadata": {},
     "output_type": "execute_result"
    }
   ],
   "source": [
    "df['Body Color Original'].value_counts(dropna=False)"
   ]
  },
  {
   "cell_type": "code",
   "execution_count": 121,
   "id": "6967b807",
   "metadata": {},
   "outputs": [
    {
     "data": {
      "text/plain": [
       "23.61"
      ]
     },
     "execution_count": 121,
     "metadata": {},
     "output_type": "execute_result"
    }
   ],
   "source": [
    "round(df[\"Body Color Original\"].isnull().sum()/df.shape[0] * 100, 2) "
   ]
  },
  {
   "cell_type": "code",
   "execution_count": 122,
   "id": "7dcfde0b",
   "metadata": {},
   "outputs": [],
   "source": [
    "df.drop([\"Body Color Original\"], axis=1, inplace=True)"
   ]
  },
  {
   "cell_type": "markdown",
   "id": "c3e5056f",
   "metadata": {},
   "source": [
    "This Column has no affects on the price column. Thats why we will drop it."
   ]
  },
  {
   "cell_type": "markdown",
   "id": "77e3cdd0",
   "metadata": {},
   "source": [
    "## - Paint Type"
   ]
  },
  {
   "cell_type": "code",
   "execution_count": 123,
   "id": "64a0ef7c",
   "metadata": {},
   "outputs": [
    {
     "data": {
      "text/plain": [
       "0    [\\nMetallic\\n]\n",
       "1               NaN\n",
       "2    [\\nMetallic\\n]\n",
       "3    [\\nMetallic\\n]\n",
       "4    [\\nMetallic\\n]\n",
       "5    [\\nMetallic\\n]\n",
       "6    [\\nMetallic\\n]\n",
       "7    [\\nMetallic\\n]\n",
       "8    [\\nMetallic\\n]\n",
       "9               NaN\n",
       "Name: Paint Type, dtype: object"
      ]
     },
     "execution_count": 123,
     "metadata": {},
     "output_type": "execute_result"
    }
   ],
   "source": [
    "df[\"Paint Type\"].head(10)"
   ]
  },
  {
   "cell_type": "code",
   "execution_count": 124,
   "id": "6aa00a9a",
   "metadata": {},
   "outputs": [],
   "source": [
    "df[\"Paint Type\"] = [i[0] if type(i) == list else i for i in df[\"Paint Type\"]]"
   ]
  },
  {
   "cell_type": "code",
   "execution_count": 125,
   "id": "d959c17e",
   "metadata": {},
   "outputs": [
    {
     "data": {
      "text/plain": [
       "\\nMetallic\\n       9794\n",
       "NaN                5772\n",
       "\\nUni/basic\\n       347\n",
       "\\nPerl effect\\n       6\n",
       "Name: Paint Type, dtype: int64"
      ]
     },
     "execution_count": 125,
     "metadata": {},
     "output_type": "execute_result"
    }
   ],
   "source": [
    "df['Paint Type'].value_counts(dropna=False)"
   ]
  },
  {
   "cell_type": "code",
   "execution_count": 126,
   "id": "76cbe1e8",
   "metadata": {},
   "outputs": [
    {
     "data": {
      "text/plain": [
       "36.26"
      ]
     },
     "execution_count": 126,
     "metadata": {},
     "output_type": "execute_result"
    }
   ],
   "source": [
    "round(df[\"Paint Type\"].isnull().sum()/df.shape[0] * 100, 2) "
   ]
  },
  {
   "cell_type": "code",
   "execution_count": 127,
   "id": "a5550b15",
   "metadata": {},
   "outputs": [],
   "source": [
    "df.drop([\"Paint Type\"], axis=1, inplace=True)"
   ]
  },
  {
   "cell_type": "markdown",
   "id": "c53cfa3c",
   "metadata": {},
   "source": [
    "This Column has no affects on the price column. Thats why we will drop it. Also most of the Paint Types are metallic and there are lots of NaN values."
   ]
  },
  {
   "cell_type": "markdown",
   "id": "cd2fd2c5",
   "metadata": {},
   "source": [
    "## - Upholstery"
   ]
  },
  {
   "cell_type": "code",
   "execution_count": 128,
   "id": "af2cb8dc",
   "metadata": {},
   "outputs": [
    {
     "data": {
      "text/plain": [
       "0           [\\nCloth, Black\\n]\n",
       "1            [\\nCloth, Grey\\n]\n",
       "2           [\\nCloth, Black\\n]\n",
       "3                          NaN\n",
       "4           [\\nCloth, Black\\n]\n",
       "5    [\\nPart leather, Black\\n]\n",
       "6    [\\nPart leather, Black\\n]\n",
       "7           [\\nCloth, Black\\n]\n",
       "8            [\\nCloth, Grey\\n]\n",
       "9                          NaN\n",
       "Name: Upholstery, dtype: object"
      ]
     },
     "execution_count": 128,
     "metadata": {},
     "output_type": "execute_result"
    }
   ],
   "source": [
    "df[\"Upholstery\"].head(10)"
   ]
  },
  {
   "cell_type": "code",
   "execution_count": 129,
   "id": "58544cae",
   "metadata": {},
   "outputs": [],
   "source": [
    "df['Upholstery'] = [i[0] if type(i) == list else i for i in df[\"Upholstery\"]]"
   ]
  },
  {
   "cell_type": "code",
   "execution_count": 130,
   "id": "116ab380",
   "metadata": {},
   "outputs": [],
   "source": [
    "df['Upholstery'] = df.Upholstery.str.strip(\"\\n\").str.split(\", \")"
   ]
  },
  {
   "cell_type": "code",
   "execution_count": 131,
   "id": "96f5358e",
   "metadata": {
    "scrolled": true
   },
   "outputs": [
    {
     "data": {
      "text/plain": [
       "['Cloth', 'Black']           5821\n",
       "nan                          3720\n",
       "['Part leather', 'Black']    1121\n",
       "['Cloth']                    1005\n",
       "['Cloth', 'Grey']             891\n",
       "['Cloth', 'Other']            639\n",
       "['Full leather', 'Black']     575\n",
       "['Black']                     491\n",
       "['Grey']                      273\n",
       "['Other', 'Other']            182\n",
       "['Part leather']              140\n",
       "['Full leather']              139\n",
       "['Full leather', 'Brown']     116\n",
       "['Part leather', 'Grey']      116\n",
       "['Other', 'Black']            110\n",
       "['Full leather', 'Other']      72\n",
       "['Full leather', 'Grey']       67\n",
       "['Part leather', 'Other']      65\n",
       "['Other']                      56\n",
       "['Part leather', 'Brown']      50\n",
       "['alcantara', 'Black']         47\n",
       "['Velour', 'Black']            36\n",
       "['Full leather', 'Beige']      36\n",
       "['Cloth', 'Brown']             28\n",
       "['Velour']                     16\n",
       "['Other', 'Grey']              15\n",
       "['Cloth', 'Beige']             13\n",
       "['Brown']                      12\n",
       "['Cloth', 'Blue']              12\n",
       "['Velour', 'Grey']              8\n",
       "['Cloth', 'White']              8\n",
       "['alcantara', 'Grey']           6\n",
       "['Cloth', 'Red']                5\n",
       "['Other', 'Yellow']             4\n",
       "['Part leather', 'Red']         3\n",
       "['Beige']                       3\n",
       "['Part leather', 'White']       2\n",
       "['Full leather', 'Blue']        2\n",
       "['alcantara', 'Other']          2\n",
       "['alcantara']                   2\n",
       "['White']                       2\n",
       "['Part leather', 'Beige']       2\n",
       "['Blue']                        2\n",
       "['Cloth', 'Orange']             1\n",
       "['Full leather', 'Red']         1\n",
       "['Other', 'Brown']              1\n",
       "['Full leather', 'White']       1\n",
       "Name: Upholstery, dtype: int64"
      ]
     },
     "execution_count": 131,
     "metadata": {},
     "output_type": "execute_result"
    }
   ],
   "source": [
    "df['Upholstery'].astype(\"str\").value_counts(dropna=False)"
   ]
  },
  {
   "cell_type": "code",
   "execution_count": 132,
   "id": "c8e5665e",
   "metadata": {},
   "outputs": [
    {
     "data": {
      "text/plain": [
       "23.37"
      ]
     },
     "execution_count": 132,
     "metadata": {},
     "output_type": "execute_result"
    }
   ],
   "source": [
    "round(df[\"Upholstery\"].isnull().sum()/df.shape[0] * 100, 2) "
   ]
  },
  {
   "cell_type": "code",
   "execution_count": 133,
   "id": "72a614ac",
   "metadata": {},
   "outputs": [],
   "source": [
    "u_type = ['Part leather', 'Full leather', 'Cloth', 'alcantara', 'Velour']"
   ]
  },
  {
   "cell_type": "code",
   "execution_count": 134,
   "id": "fd53fa3e",
   "metadata": {},
   "outputs": [],
   "source": [
    "df['Upholstery_type'] = df.Upholstery.apply(lambda x : x[0] if type(x) == list and x[0] in u_type else np.nan)"
   ]
  },
  {
   "cell_type": "code",
   "execution_count": 135,
   "id": "81336c70",
   "metadata": {},
   "outputs": [
    {
     "data": {
      "text/plain": [
       "Cloth           8423\n",
       "NaN             4871\n",
       "Part leather    1499\n",
       "Full leather    1009\n",
       "Velour            60\n",
       "alcantara         57\n",
       "Name: Upholstery_type, dtype: int64"
      ]
     },
     "execution_count": 135,
     "metadata": {},
     "output_type": "execute_result"
    }
   ],
   "source": [
    "df['Upholstery_type'].value_counts(dropna=False)"
   ]
  },
  {
   "cell_type": "code",
   "execution_count": 136,
   "id": "a72aa75e",
   "metadata": {},
   "outputs": [
    {
     "data": {
      "text/plain": [
       "30.6"
      ]
     },
     "execution_count": 136,
     "metadata": {},
     "output_type": "execute_result"
    }
   ],
   "source": [
    "round(df[\"Upholstery_type\"].isnull().sum()/df.shape[0] * 100, 2) "
   ]
  },
  {
   "cell_type": "code",
   "execution_count": 137,
   "id": "2f50b43f",
   "metadata": {},
   "outputs": [],
   "source": [
    "df.drop('Upholstery', axis=1, inplace=True)"
   ]
  },
  {
   "cell_type": "markdown",
   "id": "bb861b80",
   "metadata": {},
   "source": [
    "## - Body"
   ]
  },
  {
   "cell_type": "code",
   "execution_count": 138,
   "id": "af10d31e",
   "metadata": {},
   "outputs": [
    {
     "data": {
      "text/plain": [
       "0           [\\n, Sedans, \\n]\n",
       "1           [\\n, Sedans, \\n]\n",
       "2           [\\n, Sedans, \\n]\n",
       "3           [\\n, Sedans, \\n]\n",
       "4           [\\n, Sedans, \\n]\n",
       "5           [\\n, Sedans, \\n]\n",
       "6    [\\n, Station wagon, \\n]\n",
       "7          [\\n, Compact, \\n]\n",
       "8           [\\n, Sedans, \\n]\n",
       "9           [\\n, Sedans, \\n]\n",
       "Name: Body, dtype: object"
      ]
     },
     "execution_count": 138,
     "metadata": {},
     "output_type": "execute_result"
    }
   ],
   "source": [
    "df[\"Body\"].head(10)"
   ]
  },
  {
   "cell_type": "code",
   "execution_count": 139,
   "id": "f5fda689",
   "metadata": {},
   "outputs": [],
   "source": [
    "df['Body'] = [i[1] if type(i) == list else i for i in df[\"Body\"]]"
   ]
  },
  {
   "cell_type": "code",
   "execution_count": 140,
   "id": "21536018",
   "metadata": {},
   "outputs": [
    {
     "data": {
      "text/plain": [
       "Sedans           7903\n",
       "Station wagon    3553\n",
       "Compact          3153\n",
       "Van               783\n",
       "Other             290\n",
       "Transporter        88\n",
       "NaN                60\n",
       "Off-Road           56\n",
       "Coupe              25\n",
       "Convertible         8\n",
       "Name: Body, dtype: int64"
      ]
     },
     "execution_count": 140,
     "metadata": {},
     "output_type": "execute_result"
    }
   ],
   "source": [
    "df['Body'].value_counts(dropna=False)"
   ]
  },
  {
   "cell_type": "code",
   "execution_count": 141,
   "id": "99a5cf81",
   "metadata": {},
   "outputs": [
    {
     "data": {
      "text/plain": [
       "0.38"
      ]
     },
     "execution_count": 141,
     "metadata": {},
     "output_type": "execute_result"
    }
   ],
   "source": [
    "round(df[\"Body\"].isnull().sum()/df.shape[0] * 100, 2) "
   ]
  },
  {
   "cell_type": "code",
   "execution_count": 142,
   "id": "de033784",
   "metadata": {},
   "outputs": [],
   "source": [
    "df.drop('Body', axis=1, inplace=True)"
   ]
  },
  {
   "cell_type": "markdown",
   "id": "961722c3",
   "metadata": {},
   "source": [
    "This column has the same values as the column 'Body_type'. That's why we decided to drop it."
   ]
  },
  {
   "cell_type": "markdown",
   "id": "16ebf20a",
   "metadata": {},
   "source": [
    "## - Nr. of Doors"
   ]
  },
  {
   "cell_type": "code",
   "execution_count": 143,
   "id": "e16805c1",
   "metadata": {},
   "outputs": [
    {
     "data": {
      "text/plain": [
       "0    [\\n5\\n]\n",
       "1    [\\n3\\n]\n",
       "2    [\\n4\\n]\n",
       "3    [\\n3\\n]\n",
       "4    [\\n5\\n]\n",
       "5    [\\n4\\n]\n",
       "6    [\\n4\\n]\n",
       "7    [\\n5\\n]\n",
       "8    [\\n5\\n]\n",
       "9    [\\n5\\n]\n",
       "Name: Nr. of Doors, dtype: object"
      ]
     },
     "execution_count": 143,
     "metadata": {},
     "output_type": "execute_result"
    }
   ],
   "source": [
    "df[\"Nr. of Doors\"].head(10)"
   ]
  },
  {
   "cell_type": "code",
   "execution_count": 144,
   "id": "ed163f44",
   "metadata": {},
   "outputs": [],
   "source": [
    "df['Nr. of Doors'] = df['Nr. of Doors'].str[0].str.strip('\\n').astype('float')"
   ]
  },
  {
   "cell_type": "code",
   "execution_count": 145,
   "id": "9378994f",
   "metadata": {},
   "outputs": [
    {
     "data": {
      "text/plain": [
       "5.000    11575\n",
       "4.000     3079\n",
       "3.000      832\n",
       "2.000      219\n",
       "NaN        212\n",
       "1.000        1\n",
       "7.000        1\n",
       "Name: Nr. of Doors, dtype: int64"
      ]
     },
     "execution_count": 145,
     "metadata": {},
     "output_type": "execute_result"
    }
   ],
   "source": [
    "df[\"Nr. of Doors\"].value_counts(dropna=False)"
   ]
  },
  {
   "cell_type": "code",
   "execution_count": 146,
   "id": "a8ce108e",
   "metadata": {},
   "outputs": [
    {
     "data": {
      "text/plain": [
       "1.33"
      ]
     },
     "execution_count": 146,
     "metadata": {},
     "output_type": "execute_result"
    }
   ],
   "source": [
    "round(df[\"Nr. of Doors\"].isnull().sum()/df.shape[0] * 100, 2) "
   ]
  },
  {
   "cell_type": "markdown",
   "id": "cca3be1d",
   "metadata": {},
   "source": [
    "## - Nr. of Seats"
   ]
  },
  {
   "cell_type": "code",
   "execution_count": 147,
   "id": "088089e2",
   "metadata": {},
   "outputs": [
    {
     "data": {
      "text/plain": [
       "0    [\\n5\\n]\n",
       "1    [\\n4\\n]\n",
       "2    [\\n4\\n]\n",
       "3    [\\n4\\n]\n",
       "4    [\\n5\\n]\n",
       "5    [\\n5\\n]\n",
       "6    [\\n5\\n]\n",
       "7    [\\n5\\n]\n",
       "8    [\\n4\\n]\n",
       "9    [\\n4\\n]\n",
       "Name: Nr. of Seats, dtype: object"
      ]
     },
     "execution_count": 147,
     "metadata": {},
     "output_type": "execute_result"
    }
   ],
   "source": [
    "df[\"Nr. of Seats\"].head(10)"
   ]
  },
  {
   "cell_type": "code",
   "execution_count": 148,
   "id": "55c143de",
   "metadata": {},
   "outputs": [],
   "source": [
    "df['Nr. of Seats'] = df['Nr. of Seats'].str[0].str.strip('\\n').astype('float')"
   ]
  },
  {
   "cell_type": "code",
   "execution_count": 149,
   "id": "7b8303d4",
   "metadata": {},
   "outputs": [
    {
     "data": {
      "text/plain": [
       "5.000    13336\n",
       "4.000     1125\n",
       "NaN        977\n",
       "7.000      362\n",
       "2.000      116\n",
       "6.000        2\n",
       "3.000        1\n",
       "Name: Nr. of Seats, dtype: int64"
      ]
     },
     "execution_count": 149,
     "metadata": {},
     "output_type": "execute_result"
    }
   ],
   "source": [
    "df[\"Nr. of Seats\"].value_counts(dropna=False)"
   ]
  },
  {
   "cell_type": "code",
   "execution_count": 150,
   "id": "326dd003",
   "metadata": {},
   "outputs": [
    {
     "data": {
      "text/plain": [
       "6.14"
      ]
     },
     "execution_count": 150,
     "metadata": {},
     "output_type": "execute_result"
    }
   ],
   "source": [
    "round(df[\"Nr. of Seats\"].isnull().sum()/df.shape[0] * 100, 2) "
   ]
  },
  {
   "cell_type": "markdown",
   "id": "fa8fc933",
   "metadata": {},
   "source": [
    "## - Model Code"
   ]
  },
  {
   "cell_type": "code",
   "execution_count": 151,
   "id": "cc997480",
   "metadata": {},
   "outputs": [
    {
     "data": {
      "text/plain": [
       "0    [\\n0588/BDF\\n]\n",
       "1    [\\n0588/BCY\\n]\n",
       "2               NaN\n",
       "3               NaN\n",
       "4    [\\n0588/BDF\\n]\n",
       "5               NaN\n",
       "6               NaN\n",
       "7    [\\n0588/BDF\\n]\n",
       "8               NaN\n",
       "9               NaN\n",
       "Name: Model Code, dtype: object"
      ]
     },
     "execution_count": 151,
     "metadata": {},
     "output_type": "execute_result"
    }
   ],
   "source": [
    "df[\"Model Code\"].head(10)"
   ]
  },
  {
   "cell_type": "code",
   "execution_count": 152,
   "id": "12a30c59",
   "metadata": {},
   "outputs": [],
   "source": [
    "df['Model Code'] = df['Model Code'].str[0].str.strip('\\n')"
   ]
  },
  {
   "cell_type": "code",
   "execution_count": 153,
   "id": "a03013f7",
   "metadata": {},
   "outputs": [
    {
     "data": {
      "text/plain": [
       "NaN         10941\n",
       "0035/BCB      268\n",
       "0588/BNO      245\n",
       "0588/BDB      206\n",
       "0588/BHX      188\n",
       "            ...  \n",
       "0035/AVN        1\n",
       "0035/BEM        1\n",
       "0035/BAG        1\n",
       "0035/BAA        1\n",
       "3333/BKG        1\n",
       "Name: Model Code, Length: 233, dtype: int64"
      ]
     },
     "execution_count": 153,
     "metadata": {},
     "output_type": "execute_result"
    }
   ],
   "source": [
    "df[\"Model Code\"].value_counts(dropna=False)"
   ]
  },
  {
   "cell_type": "code",
   "execution_count": 154,
   "id": "7a1b88bc",
   "metadata": {},
   "outputs": [
    {
     "data": {
      "text/plain": [
       "68.73"
      ]
     },
     "execution_count": 154,
     "metadata": {},
     "output_type": "execute_result"
    }
   ],
   "source": [
    "round(df[\"Model Code\"].isnull().sum()/df.shape[0] * 100, 2) "
   ]
  },
  {
   "cell_type": "code",
   "execution_count": 155,
   "id": "31da5165",
   "metadata": {},
   "outputs": [],
   "source": [
    "df.drop([\"Model Code\"], axis=1, inplace=True)"
   ]
  },
  {
   "cell_type": "markdown",
   "id": "d769fd16",
   "metadata": {},
   "source": [
    "We dropped it because this column has complicated values which are useless for price column."
   ]
  },
  {
   "cell_type": "markdown",
   "id": "bff1c02f",
   "metadata": {},
   "source": [
    "## - Gearing Type"
   ]
  },
  {
   "cell_type": "code",
   "execution_count": 156,
   "id": "3334e62d",
   "metadata": {},
   "outputs": [
    {
     "data": {
      "text/plain": [
       "0    [\\n, Automatic, \\n]\n",
       "1    [\\n, Automatic, \\n]\n",
       "2    [\\n, Automatic, \\n]\n",
       "3    [\\n, Automatic, \\n]\n",
       "4    [\\n, Automatic, \\n]\n",
       "5    [\\n, Automatic, \\n]\n",
       "6    [\\n, Automatic, \\n]\n",
       "7    [\\n, Automatic, \\n]\n",
       "8    [\\n, Automatic, \\n]\n",
       "9    [\\n, Automatic, \\n]\n",
       "Name: Gearing Type, dtype: object"
      ]
     },
     "execution_count": 156,
     "metadata": {},
     "output_type": "execute_result"
    }
   ],
   "source": [
    "df[\"Gearing Type\"].head(10)"
   ]
  },
  {
   "cell_type": "code",
   "execution_count": 157,
   "id": "b23b72e4",
   "metadata": {},
   "outputs": [],
   "source": [
    "df['Gearing Type'] = [i[1] if type(i) == list else i for i in df[\"Gearing Type\"]]"
   ]
  },
  {
   "cell_type": "code",
   "execution_count": 158,
   "id": "b166d4dd",
   "metadata": {},
   "outputs": [
    {
     "data": {
      "text/plain": [
       "Manual            8153\n",
       "Automatic         7297\n",
       "Semi-automatic     469\n",
       "Name: Gearing Type, dtype: int64"
      ]
     },
     "execution_count": 158,
     "metadata": {},
     "output_type": "execute_result"
    }
   ],
   "source": [
    "df[\"Gearing Type\"].value_counts(dropna=False)"
   ]
  },
  {
   "cell_type": "code",
   "execution_count": 159,
   "id": "191af621",
   "metadata": {},
   "outputs": [
    {
     "data": {
      "text/plain": [
       "0.0"
      ]
     },
     "execution_count": 159,
     "metadata": {},
     "output_type": "execute_result"
    }
   ],
   "source": [
    "round(df[\"Gearing Type\"].isnull().sum()/df.shape[0] * 100, 2) "
   ]
  },
  {
   "cell_type": "markdown",
   "id": "e21cf91d",
   "metadata": {},
   "source": [
    "## - Displacement"
   ]
  },
  {
   "cell_type": "code",
   "execution_count": 160,
   "id": "c708cbb1",
   "metadata": {},
   "outputs": [
    {
     "data": {
      "text/plain": [
       "0    [\\n1,422 cc\\n]\n",
       "1    [\\n1,798 cc\\n]\n",
       "2    [\\n1,598 cc\\n]\n",
       "3    [\\n1,422 cc\\n]\n",
       "4    [\\n1,422 cc\\n]\n",
       "5    [\\n1,598 cc\\n]\n",
       "6    [\\n1,598 cc\\n]\n",
       "7    [\\n1,422 cc\\n]\n",
       "8    [\\n1,598 cc\\n]\n",
       "9      [\\n999 cc\\n]\n",
       "Name: Displacement, dtype: object"
      ]
     },
     "execution_count": 160,
     "metadata": {},
     "output_type": "execute_result"
    }
   ],
   "source": [
    "df[\"Displacement\"].head(10)"
   ]
  },
  {
   "cell_type": "code",
   "execution_count": 161,
   "id": "2767dea6",
   "metadata": {},
   "outputs": [],
   "source": [
    "df[\"Displacement_cc\"] = df.Displacement.str[0].str.strip('\\n')"
   ]
  },
  {
   "cell_type": "code",
   "execution_count": 162,
   "id": "97aad027",
   "metadata": {},
   "outputs": [],
   "source": [
    "df[\"Displacement_cc\"] = df[\"Displacement_cc\"].str.strip('cc').str.replace(',','', regex=True).astype('float')"
   ]
  },
  {
   "cell_type": "code",
   "execution_count": 163,
   "id": "91dcfa9a",
   "metadata": {},
   "outputs": [
    {
     "data": {
      "text/plain": [
       "1598.000    4761\n",
       "999.000     2438\n",
       "1398.000    1314\n",
       "1399.000     749\n",
       "1229.000     677\n",
       "            ... \n",
       "122.000        1\n",
       "1198.000       1\n",
       "1195.000       1\n",
       "2967.000       1\n",
       "1800.000       1\n",
       "Name: Displacement_cc, Length: 78, dtype: int64"
      ]
     },
     "execution_count": 163,
     "metadata": {},
     "output_type": "execute_result"
    }
   ],
   "source": [
    "df[\"Displacement_cc\"].value_counts(dropna=False)"
   ]
  },
  {
   "cell_type": "code",
   "execution_count": 164,
   "id": "a2ee7128",
   "metadata": {},
   "outputs": [
    {
     "data": {
      "text/plain": [
       "3.12"
      ]
     },
     "execution_count": 164,
     "metadata": {},
     "output_type": "execute_result"
    }
   ],
   "source": [
    "round(df[\"Displacement_cc\"].isnull().sum()/df.shape[0] * 100, 2) "
   ]
  },
  {
   "cell_type": "code",
   "execution_count": 165,
   "id": "9a9fca88",
   "metadata": {},
   "outputs": [],
   "source": [
    "df.drop([\"Displacement\"], axis=1, inplace=True)"
   ]
  },
  {
   "cell_type": "markdown",
   "id": "d2989602",
   "metadata": {},
   "source": [
    "We have transported the values of 'Displacement' to the new column named 'Displacement_cc'. That's why we will drop it."
   ]
  },
  {
   "cell_type": "markdown",
   "id": "297e0062",
   "metadata": {},
   "source": [
    "## - Cylinders"
   ]
  },
  {
   "cell_type": "code",
   "execution_count": 166,
   "id": "89c77bbe",
   "metadata": {},
   "outputs": [
    {
     "data": {
      "text/plain": [
       "0    [\\n3\\n]\n",
       "1    [\\n4\\n]\n",
       "2        NaN\n",
       "3    [\\n3\\n]\n",
       "4    [\\n3\\n]\n",
       "5        NaN\n",
       "6    [\\n4\\n]\n",
       "7        NaN\n",
       "8    [\\n4\\n]\n",
       "9        NaN\n",
       "Name: Cylinders, dtype: object"
      ]
     },
     "execution_count": 166,
     "metadata": {},
     "output_type": "execute_result"
    }
   ],
   "source": [
    "df[\"Cylinders\"].head(10)"
   ]
  },
  {
   "cell_type": "code",
   "execution_count": 167,
   "id": "83d3b403",
   "metadata": {},
   "outputs": [],
   "source": [
    "df.Cylinders = df.Cylinders.str[0].str.strip('\\n').astype('float')"
   ]
  },
  {
   "cell_type": "code",
   "execution_count": 168,
   "id": "bf0126ba",
   "metadata": {},
   "outputs": [
    {
     "data": {
      "text/plain": [
       "4.000    8105\n",
       "NaN      5680\n",
       "3.000    2104\n",
       "5.000      22\n",
       "6.000       3\n",
       "8.000       2\n",
       "2.000       2\n",
       "1.000       1\n",
       "Name: Cylinders, dtype: int64"
      ]
     },
     "execution_count": 168,
     "metadata": {},
     "output_type": "execute_result"
    }
   ],
   "source": [
    "df[\"Cylinders\"].value_counts(dropna=False)"
   ]
  },
  {
   "cell_type": "code",
   "execution_count": 169,
   "id": "cff9ef15",
   "metadata": {},
   "outputs": [
    {
     "data": {
      "text/plain": [
       "35.68"
      ]
     },
     "execution_count": 169,
     "metadata": {},
     "output_type": "execute_result"
    }
   ],
   "source": [
    "round(df[\"Cylinders\"].isnull().sum()/df.shape[0] * 100, 2) "
   ]
  },
  {
   "cell_type": "markdown",
   "id": "95c5f087",
   "metadata": {},
   "source": [
    "## - Weight"
   ]
  },
  {
   "cell_type": "code",
   "execution_count": 170,
   "id": "0524123e",
   "metadata": {},
   "outputs": [
    {
     "data": {
      "text/plain": [
       "0    [\\n1,220 kg\\n]\n",
       "1    [\\n1,255 kg\\n]\n",
       "2               NaN\n",
       "3    [\\n1,195 kg\\n]\n",
       "4               NaN\n",
       "5               NaN\n",
       "6               NaN\n",
       "7               NaN\n",
       "8    [\\n1,275 kg\\n]\n",
       "9               NaN\n",
       "Name: Weight, dtype: object"
      ]
     },
     "execution_count": 170,
     "metadata": {},
     "output_type": "execute_result"
    }
   ],
   "source": [
    "df[\"Weight\"].head(10)"
   ]
  },
  {
   "cell_type": "code",
   "execution_count": 171,
   "id": "f2ae958f",
   "metadata": {},
   "outputs": [],
   "source": [
    "df['Weight_kg'] = df.Weight.str[0].str.strip('\\n').str.strip('kg').str.replace(',','').astype('float')"
   ]
  },
  {
   "cell_type": "code",
   "execution_count": 172,
   "id": "56965513",
   "metadata": {},
   "outputs": [
    {
     "data": {
      "text/plain": [
       "NaN         6974\n",
       "1163.000     574\n",
       "1360.000     356\n",
       "1165.000     301\n",
       "1335.000     242\n",
       "            ... \n",
       "1960.000       1\n",
       "1258.000       1\n",
       "1167.000       1\n",
       "1331.000       1\n",
       "2037.000       1\n",
       "Name: Weight_kg, Length: 435, dtype: int64"
      ]
     },
     "execution_count": 172,
     "metadata": {},
     "output_type": "execute_result"
    }
   ],
   "source": [
    "df[\"Weight_kg\"].value_counts(dropna=False)"
   ]
  },
  {
   "cell_type": "code",
   "execution_count": 173,
   "id": "14ed07f8",
   "metadata": {},
   "outputs": [
    {
     "data": {
      "text/plain": [
       "43.81"
      ]
     },
     "execution_count": 173,
     "metadata": {},
     "output_type": "execute_result"
    }
   ],
   "source": [
    "round(df[\"Weight\"].isnull().sum()/df.shape[0] * 100, 2) "
   ]
  },
  {
   "cell_type": "code",
   "execution_count": 174,
   "id": "027d903e",
   "metadata": {},
   "outputs": [],
   "source": [
    "df.drop([\"Weight\"], axis=1, inplace=True)"
   ]
  },
  {
   "cell_type": "markdown",
   "id": "4f8a7d71",
   "metadata": {},
   "source": [
    "We have transported the values of 'Weight' to the new column named 'Weight_kg'. That's why we will drop it."
   ]
  },
  {
   "cell_type": "markdown",
   "id": "dae0a0fd",
   "metadata": {},
   "source": [
    "## - Drive chain"
   ]
  },
  {
   "cell_type": "code",
   "execution_count": 175,
   "id": "bab6e748",
   "metadata": {},
   "outputs": [
    {
     "data": {
      "text/plain": [
       "0    [\\nfront\\n]\n",
       "1    [\\nfront\\n]\n",
       "2    [\\nfront\\n]\n",
       "3            NaN\n",
       "4    [\\nfront\\n]\n",
       "5            NaN\n",
       "6    [\\nfront\\n]\n",
       "7    [\\nfront\\n]\n",
       "8    [\\nfront\\n]\n",
       "9            NaN\n",
       "Name: Drive chain, dtype: object"
      ]
     },
     "execution_count": 175,
     "metadata": {},
     "output_type": "execute_result"
    }
   ],
   "source": [
    "df[\"Drive chain\"].head(10)"
   ]
  },
  {
   "cell_type": "code",
   "execution_count": 176,
   "id": "dc96ac95",
   "metadata": {},
   "outputs": [],
   "source": [
    "df['Drive chain'] = df['Drive chain'].str[0].str.strip('\\n')"
   ]
  },
  {
   "cell_type": "code",
   "execution_count": 177,
   "id": "15439f4b",
   "metadata": {},
   "outputs": [
    {
     "data": {
      "text/plain": [
       "front    8886\n",
       "NaN      6858\n",
       "4WD       171\n",
       "rear        4\n",
       "Name: Drive chain, dtype: int64"
      ]
     },
     "execution_count": 177,
     "metadata": {},
     "output_type": "execute_result"
    }
   ],
   "source": [
    "df[\"Drive chain\"].value_counts(dropna=False)"
   ]
  },
  {
   "cell_type": "code",
   "execution_count": 178,
   "id": "43c919df",
   "metadata": {},
   "outputs": [
    {
     "data": {
      "text/plain": [
       "43.08"
      ]
     },
     "execution_count": 178,
     "metadata": {},
     "output_type": "execute_result"
    }
   ],
   "source": [
    "round(df[\"Drive chain\"].isnull().sum()/df.shape[0] * 100, 2) "
   ]
  },
  {
   "cell_type": "markdown",
   "id": "a21f5e1b",
   "metadata": {},
   "source": [
    "## - Fuel"
   ]
  },
  {
   "cell_type": "code",
   "execution_count": 179,
   "id": "97b6cc78",
   "metadata": {},
   "outputs": [
    {
     "data": {
      "text/plain": [
       "0    [\\n, Diesel (Particulate Filter), \\n]\n",
       "1                       [\\n, Gasoline, \\n]\n",
       "2    [\\n, Diesel (Particulate Filter), \\n]\n",
       "3    [\\n, Diesel (Particulate Filter), \\n]\n",
       "4    [\\n, Diesel (Particulate Filter), \\n]\n",
       "5    [\\n, Diesel (Particulate Filter), \\n]\n",
       "6    [\\n, Diesel (Particulate Filter), \\n]\n",
       "7    [\\n, Diesel (Particulate Filter), \\n]\n",
       "8    [\\n, Diesel (Particulate Filter), \\n]\n",
       "9                       [\\n, Gasoline, \\n]\n",
       "Name: Fuel, dtype: object"
      ]
     },
     "execution_count": 179,
     "metadata": {},
     "output_type": "execute_result"
    }
   ],
   "source": [
    "df[\"Fuel\"].head(10)"
   ]
  },
  {
   "cell_type": "code",
   "execution_count": 180,
   "id": "e6d9efa0",
   "metadata": {},
   "outputs": [],
   "source": [
    "df[\"Fuel\"] = df.Fuel.str[1]\n",
    "df[\"Fuel\"] = df.Fuel.str.split(\"/\").str[0].str.strip()\n",
    "df[\"Fuel\"] = df.Fuel.str.split(\"(\").str[0].str.strip()"
   ]
  },
  {
   "cell_type": "code",
   "execution_count": 181,
   "id": "e7a23be7",
   "metadata": {},
   "outputs": [
    {
     "data": {
      "text/plain": [
       "Diesel                  7299\n",
       "Super 95                4368\n",
       "Gasoline                3252\n",
       "Regular                  503\n",
       "Super E10 95             409\n",
       "CNG                       36\n",
       "LPG                       16\n",
       "Super Plus 98             11\n",
       "Liquid petroleum gas      10\n",
       "Others                     6\n",
       "Electric                   5\n",
       "Super Plus E10 98          2\n",
       "Biogas                     1\n",
       "Domestic gas H             1\n",
       "Name: Fuel, dtype: int64"
      ]
     },
     "execution_count": 181,
     "metadata": {},
     "output_type": "execute_result"
    }
   ],
   "source": [
    "df[\"Fuel\"].value_counts(dropna=False)"
   ]
  },
  {
   "cell_type": "code",
   "execution_count": 182,
   "id": "c2bab0ea",
   "metadata": {},
   "outputs": [
    {
     "data": {
      "text/plain": [
       "0.0"
      ]
     },
     "execution_count": 182,
     "metadata": {},
     "output_type": "execute_result"
    }
   ],
   "source": [
    "round(df[\"Fuel\"].isnull().sum()/df.shape[0] * 100, 2) "
   ]
  },
  {
   "cell_type": "code",
   "execution_count": 183,
   "id": "62201537",
   "metadata": {},
   "outputs": [],
   "source": [
    "benzine = [\n",
    "    \"Gasoline\", \"Super 95\", \"Regular\", \"Super E10 95\", \"Super Plus 98\",\n",
    "    \"Super Plus E10 98\", \"Others\"\n",
    "]\n",
    "lpg = [\"LPG\", \"Liquid petroleum gas\", \"CNG\", \"Biogas\", \"Domestic gas H\"]\n",
    "electric = [\"Electric\"]\n",
    "\n",
    "\n",
    "def fueltype(x):\n",
    "    if x in benzine:\n",
    "        return \"Benzine\"\n",
    "    elif x in electric:\n",
    "        return \"Electric\"\n",
    "    elif x in lpg:\n",
    "        return \"LPG/CNG\"\n",
    "    else:\n",
    "        return x\n",
    "\n",
    "\n",
    "df[\"Fuel\"] = df.Fuel.apply(fueltype)"
   ]
  },
  {
   "cell_type": "code",
   "execution_count": 184,
   "id": "bbe4c1ab",
   "metadata": {},
   "outputs": [
    {
     "data": {
      "text/plain": [
       "Benzine     8551\n",
       "Diesel      7299\n",
       "LPG/CNG       64\n",
       "Electric       5\n",
       "Name: Fuel, dtype: int64"
      ]
     },
     "execution_count": 184,
     "metadata": {},
     "output_type": "execute_result"
    }
   ],
   "source": [
    "df[\"Fuel\"].value_counts(dropna=False)"
   ]
  },
  {
   "cell_type": "markdown",
   "id": "21c696e2",
   "metadata": {},
   "source": [
    "## - Consumption"
   ]
  },
  {
   "cell_type": "code",
   "execution_count": 185,
   "id": "20daacad",
   "metadata": {},
   "outputs": [
    {
     "data": {
      "text/plain": [
       "0    [[3.8 l/100 km (comb)], [4.3 l/100 km (city)],...\n",
       "1    [[5.6 l/100 km (comb)], [7.1 l/100 km (city)],...\n",
       "2    [[3.8 l/100 km (comb)], [4.4 l/100 km (city)],...\n",
       "3    [[3.8 l/100 km (comb)], [4.3 l/100 km (city)],...\n",
       "4    [[4.1 l/100 km (comb)], [4.6 l/100 km (city)],...\n",
       "5    [[3.5 l/100 km (comb)], [4.3 l/100 km (city)],...\n",
       "6    [[3.7 l/100 km (comb)], [4.3 l/100 km (city)],...\n",
       "7    [[3.7 l/100 km (comb)], [4.2 l/100 km (city)],...\n",
       "8    [[3.7 l/100 km (comb)], [4.3 l/100 km (city)],...\n",
       "9                                                  NaN\n",
       "Name: Consumption, dtype: object"
      ]
     },
     "execution_count": 185,
     "metadata": {},
     "output_type": "execute_result"
    }
   ],
   "source": [
    "df[\"Consumption\"].head(10)"
   ]
  },
  {
   "cell_type": "code",
   "execution_count": 186,
   "id": "d14e175d",
   "metadata": {},
   "outputs": [],
   "source": [
    "def parser1(x):\n",
    "    if type(x) == float:\n",
    "        return np.nan\n",
    "    elif type(x[0]) == list:\n",
    "        if x[0] != []:\n",
    "            return x[0][0]\n",
    "        else:\n",
    "            return np.nan\n",
    "    else:\n",
    "        return x[1]\n",
    "\n",
    "\n",
    "def parser2(x):\n",
    "    if type(x) == float:\n",
    "        return np.nan\n",
    "    elif type(x[0]) == list:\n",
    "        if x[1] != []:\n",
    "            return x[1][0]\n",
    "        else:\n",
    "            return np.nan\n",
    "    elif x[3].endswith(')'):\n",
    "        return x[3]\n",
    "    else:\n",
    "        return np.nan\n",
    "\n",
    "\n",
    "def parser3(x):\n",
    "    if type(x) == float:\n",
    "        return np.nan\n",
    "    elif type(x[0]) == list:\n",
    "        if x[2] != []:\n",
    "            return x[2][0]\n",
    "        else:\n",
    "            return np.nan\n",
    "    elif type(x[0]) != list and x[3].endswith(')'):\n",
    "        return x[5]\n",
    "    else:\n",
    "        return np.nan"
   ]
  },
  {
   "cell_type": "code",
   "execution_count": 187,
   "id": "25473dcb",
   "metadata": {},
   "outputs": [],
   "source": [
    "df['cons_comb'] = df.Consumption.apply(parser1).str.extract(\n",
    "    '(\\d{1,2}.\\d|\\d{1,3})')[0].astype(\"float\")\n",
    "df['cons_city'] = df.Consumption.apply(parser2).str.extract(\n",
    "    '(\\d{1,2}.\\d|\\d{1,3})')[0].astype(\"float\")\n",
    "df['cons_country'] = df.Consumption.apply(parser3).str.extract(\n",
    "    '(\\d{1,2}.\\d|\\d{1,3})')[0].astype(\"float\")"
   ]
  },
  {
   "cell_type": "code",
   "execution_count": 188,
   "id": "7a647c92",
   "metadata": {},
   "outputs": [
    {
     "data": {
      "text/plain": [
       "13631   3.300\n",
       "1534    3.900\n",
       "8226      NaN\n",
       "3230    4.000\n",
       "15114     NaN\n",
       "Name: cons_comb, dtype: float64"
      ]
     },
     "execution_count": 188,
     "metadata": {},
     "output_type": "execute_result"
    }
   ],
   "source": [
    "df[\"cons_comb\"].sample(5)"
   ]
  },
  {
   "cell_type": "code",
   "execution_count": 189,
   "id": "c8433b27",
   "metadata": {},
   "outputs": [
    {
     "data": {
      "text/plain": [
       "2878   4.400\n",
       "4014   4.300\n",
       "6861   4.200\n",
       "5723   7.100\n",
       "9789   6.700\n",
       "Name: cons_city, dtype: float64"
      ]
     },
     "execution_count": 189,
     "metadata": {},
     "output_type": "execute_result"
    }
   ],
   "source": [
    "df['cons_city'].sample(5)"
   ]
  },
  {
   "cell_type": "code",
   "execution_count": 190,
   "id": "33593796",
   "metadata": {},
   "outputs": [
    {
     "data": {
      "text/plain": [
       "1138    3.800\n",
       "7391    3.300\n",
       "6198    4.300\n",
       "12564   5.800\n",
       "12876   4.000\n",
       "Name: cons_country, dtype: float64"
      ]
     },
     "execution_count": 190,
     "metadata": {},
     "output_type": "execute_result"
    }
   ],
   "source": [
    "df['cons_country'].sample(5)"
   ]
  },
  {
   "cell_type": "code",
   "execution_count": 191,
   "id": "c0c3b596",
   "metadata": {},
   "outputs": [
    {
     "data": {
      "text/plain": [
       "NaN      2033\n",
       "5.400     770\n",
       "3.900     733\n",
       "4.000     713\n",
       "5.100     657\n",
       "Name: cons_comb, dtype: int64"
      ]
     },
     "execution_count": 191,
     "metadata": {},
     "output_type": "execute_result"
    }
   ],
   "source": [
    "df[\"cons_comb\"].value_counts(dropna=False).head()"
   ]
  },
  {
   "cell_type": "code",
   "execution_count": 192,
   "id": "da41be16",
   "metadata": {},
   "outputs": [
    {
     "data": {
      "text/plain": [
       "12.77"
      ]
     },
     "execution_count": 192,
     "metadata": {},
     "output_type": "execute_result"
    }
   ],
   "source": [
    "round(df[\"cons_comb\"].isnull().sum() / df.shape[0] * 100, 2)"
   ]
  },
  {
   "cell_type": "code",
   "execution_count": 193,
   "id": "b4b7fdbf",
   "metadata": {},
   "outputs": [],
   "source": [
    "df.drop('Consumption', axis=1, inplace=True)"
   ]
  },
  {
   "cell_type": "markdown",
   "id": "4957ad60",
   "metadata": {},
   "source": [
    "## - CO2 Emission"
   ]
  },
  {
   "cell_type": "code",
   "execution_count": 194,
   "id": "1eaa36fa",
   "metadata": {},
   "outputs": [
    {
     "data": {
      "text/plain": [
       "0     [\\n99 g CO2/km (comb)\\n]\n",
       "1    [\\n129 g CO2/km (comb)\\n]\n",
       "2     [\\n99 g CO2/km (comb)\\n]\n",
       "3     [\\n99 g CO2/km (comb)\\n]\n",
       "4    [\\n109 g CO2/km (comb)\\n]\n",
       "5     [\\n92 g CO2/km (comb)\\n]\n",
       "6     [\\n98 g CO2/km (comb)\\n]\n",
       "7     [\\n97 g CO2/km (comb)\\n]\n",
       "8     [\\n97 g CO2/km (comb)\\n]\n",
       "9                          NaN\n",
       "Name: CO2 Emission, dtype: object"
      ]
     },
     "execution_count": 194,
     "metadata": {},
     "output_type": "execute_result"
    }
   ],
   "source": [
    "df[\"CO2 Emission\"].head(10)"
   ]
  },
  {
   "cell_type": "code",
   "execution_count": 195,
   "id": "e97c8537",
   "metadata": {},
   "outputs": [],
   "source": [
    "df[\"CO2 Emission\"] = [\n",
    "    item[0] if type(item) == list else item for item in df[\"CO2 Emission\"]\n",
    "]\n",
    "df[\"CO2 Emission\"] = df[\"CO2 Emission\"].str.strip(\"\\n\").str.rstrip(\n",
    "    \" g CO2/km (comb)\").str.replace(\",\", \".\").astype(\"float\")"
   ]
  },
  {
   "cell_type": "code",
   "execution_count": 196,
   "id": "8d876ba1",
   "metadata": {},
   "outputs": [
    {
     "data": {
      "text/plain": [
       "NaN        2436\n",
       "120.000     740\n",
       "99.000      545\n",
       "97.000      537\n",
       "104.000     501\n",
       "           ... \n",
       "990.000       1\n",
       "12.324        1\n",
       "1.060         1\n",
       "51.000        1\n",
       "193.000       1\n",
       "Name: CO2 Emission, Length: 121, dtype: int64"
      ]
     },
     "execution_count": 196,
     "metadata": {},
     "output_type": "execute_result"
    }
   ],
   "source": [
    "df[\"CO2 Emission\"].value_counts(dropna=False)"
   ]
  },
  {
   "cell_type": "code",
   "execution_count": 197,
   "id": "d930075d",
   "metadata": {},
   "outputs": [
    {
     "data": {
      "text/plain": [
       "15.3"
      ]
     },
     "execution_count": 197,
     "metadata": {},
     "output_type": "execute_result"
    }
   ],
   "source": [
    "round(df[\"CO2 Emission\"].isnull().sum()/df.shape[0] * 100, 2) "
   ]
  },
  {
   "cell_type": "markdown",
   "id": "fcab4158",
   "metadata": {},
   "source": [
    "## - Emission Class"
   ]
  },
  {
   "cell_type": "code",
   "execution_count": 198,
   "id": "8ef55d98",
   "metadata": {},
   "outputs": [
    {
     "data": {
      "text/plain": [
       "0    [\\nEuro 6\\n]\n",
       "1    [\\nEuro 6\\n]\n",
       "2    [\\nEuro 6\\n]\n",
       "3    [\\nEuro 6\\n]\n",
       "4    [\\nEuro 6\\n]\n",
       "5    [\\nEuro 6\\n]\n",
       "6    [\\nEuro 6\\n]\n",
       "7    [\\nEuro 6\\n]\n",
       "8    [\\nEuro 6\\n]\n",
       "9             NaN\n",
       "Name: Emission Class, dtype: object"
      ]
     },
     "execution_count": 198,
     "metadata": {},
     "output_type": "execute_result"
    }
   ],
   "source": [
    "df[\"Emission Class\"].head(10)"
   ]
  },
  {
   "cell_type": "code",
   "execution_count": 199,
   "id": "9fdf46ef",
   "metadata": {},
   "outputs": [],
   "source": [
    "df[\"Emission Class\"] = df[\"Emission Class\"].apply(\n",
    "    lambda item: item[0] if type(item) == list else item)\n",
    "\n",
    "df[\"Emission Class\"] = df[\"Emission Class\"].str.strip('\\n').str.replace(\n",
    "    ' ', '', regex=True)"
   ]
  },
  {
   "cell_type": "code",
   "execution_count": 200,
   "id": "4bee47cc",
   "metadata": {},
   "outputs": [
    {
     "data": {
      "text/plain": [
       "Euro6          10139\n",
       "NaN             3628\n",
       "Euro6d-TEMP     1845\n",
       "Euro6c           127\n",
       "Euro5             78\n",
       "Euro6d            62\n",
       "Euro4             40\n",
       "Name: Emission Class, dtype: int64"
      ]
     },
     "execution_count": 200,
     "metadata": {},
     "output_type": "execute_result"
    }
   ],
   "source": [
    "df[\"Emission Class\"].value_counts(dropna=False)"
   ]
  },
  {
   "cell_type": "code",
   "execution_count": 201,
   "id": "4c076062",
   "metadata": {},
   "outputs": [
    {
     "data": {
      "text/plain": [
       "22.79"
      ]
     },
     "execution_count": 201,
     "metadata": {},
     "output_type": "execute_result"
    }
   ],
   "source": [
    "round(df[\"Emission Class\"].isnull().sum()/df.shape[0] * 100, 2) "
   ]
  },
  {
   "cell_type": "markdown",
   "id": "1a358f5b",
   "metadata": {},
   "source": [
    "## - comfort_convenience"
   ]
  },
  {
   "cell_type": "code",
   "execution_count": 202,
   "id": "2e6b0fcc",
   "metadata": {},
   "outputs": [
    {
     "data": {
      "text/plain": [
       "0    [Air conditioning, Armrest, Automatic climate ...\n",
       "1    [Air conditioning, Automatic climate control, ...\n",
       "2    [Air conditioning, Cruise control, Electrical ...\n",
       "3    [Air suspension, Armrest, Auxiliary heating, E...\n",
       "4    [Air conditioning, Armrest, Automatic climate ...\n",
       "5    [Air conditioning, Armrest, Automatic climate ...\n",
       "6    [Air conditioning, Armrest, Automatic climate ...\n",
       "7    [Air conditioning, Armrest, Electrical side mi...\n",
       "8                    [Air conditioning, Power windows]\n",
       "9                                                  NaN\n",
       "Name: comfort_convenience, dtype: object"
      ]
     },
     "execution_count": 202,
     "metadata": {},
     "output_type": "execute_result"
    }
   ],
   "source": [
    "df[\"comfort_convenience\"].head(10)"
   ]
  },
  {
   "cell_type": "code",
   "execution_count": 203,
   "id": "0a5f4a6f",
   "metadata": {},
   "outputs": [],
   "source": [
    "df[\"comfort_convenience\"] = [\n",
    "    \",\".join(item) if type(item) == list else item\n",
    "    for item in df[\"comfort_convenience\"]\n",
    "]"
   ]
  },
  {
   "cell_type": "code",
   "execution_count": 204,
   "id": "69d91cb7",
   "metadata": {
    "scrolled": true
   },
   "outputs": [
    {
     "data": {
      "text/plain": [
       "NaN                                                                                                                                                                                                                                                                                                                                                                                                                                                                                                  920\n",
       "Air conditioning,Electrical side mirrors,Hill Holder,Power windows                                                                                                                                                                                                                                                                                                                                                                                                                                   216\n",
       "Air conditioning,Electrical side mirrors,Power windows                                                                                                                                                                                                                                                                                                                                                                                                                                               134\n",
       "Air conditioning,Power windows                                                                                                                                                                                                                                                                                                                                                                                                                                                                       130\n",
       "Air conditioning,Armrest,Automatic climate control,Cruise control,Electrical side mirrors,Leather steering wheel,Light sensor,Lumbar support,Multi-function steering wheel,Navigation system,Park Distance Control,Parking assist system sensors front,Parking assist system sensors rear,Power windows,Rain sensor,Seat heating,Start-stop system                                                                                                                                                   105\n",
       "                                                                                                                                                                                                                                                                                                                                                                                                                                                                                                    ... \n",
       "Air conditioning,Cruise control,Electrical side mirrors,Hill Holder,Leather steering wheel,Light sensor,Multi-function steering wheel,Navigation system,Park Distance Control,Parking assist system sensors rear,Power windows,Rain sensor,Split rear seats,Start-stop system,Tinted windows                                                                                                                                                                                                           1\n",
       "Air conditioning,Armrest,Automatic climate control,Cruise control,Electrical side mirrors,Heated steering wheel,Hill Holder,Leather steering wheel,Light sensor,Lumbar support,Multi-function steering wheel,Navigation system,Park Distance Control,Parking assist system camera,Parking assist system sensors front,Parking assist system sensors rear,Power windows,Rain sensor,Seat heating,Sunroof                                                                                                1\n",
       "Air conditioning,Armrest,Cruise control,Electrical side mirrors,Heated steering wheel,Hill Holder,Leather steering wheel,Light sensor,Multi-function steering wheel,Park Distance Control,Parking assist system camera,Parking assist system sensors front,Parking assist system sensors rear,Power windows,Rain sensor,Seat heating,Split rear seats,Start-stop system,Tinted windows                                                                                                                 1\n",
       "Air conditioning,Automatic climate control,Cruise control,Electrical side mirrors,Leather steering wheel,Light sensor,Multi-function steering wheel,Park Distance Control,Parking assist system sensors front,Parking assist system sensors rear,Power windows,Rain sensor,Seat heating                                                                                                                                                                                                                1\n",
       "Air conditioning,Automatic climate control,Cruise control,Electrically heated windshield,Electrical side mirrors,Electric tailgate,Heads-up display,Heated steering wheel,Hill Holder,Keyless central door lock,Leather steering wheel,Light sensor,Lumbar support,Navigation system,Park Distance Control,Parking assist system camera,Parking assist system self-steering,Parking assist system sensors front,Parking assist system sensors rear,Power windows,Rain sensor,Seat heating,Sunroof      1\n",
       "Name: comfort_convenience, Length: 6199, dtype: int64"
      ]
     },
     "execution_count": 204,
     "metadata": {},
     "output_type": "execute_result"
    }
   ],
   "source": [
    "df[\"comfort_convenience\"].value_counts(dropna=False)"
   ]
  },
  {
   "cell_type": "code",
   "execution_count": 205,
   "id": "c0bf2865",
   "metadata": {},
   "outputs": [
    {
     "data": {
      "text/plain": [
       "5.78"
      ]
     },
     "execution_count": 205,
     "metadata": {},
     "output_type": "execute_result"
    }
   ],
   "source": [
    "round(df[\"comfort_convenience\"].isnull().sum()/df.shape[0] * 100, 2) "
   ]
  },
  {
   "cell_type": "markdown",
   "id": "3e6092a8",
   "metadata": {},
   "source": [
    "## - entertainment_media"
   ]
  },
  {
   "cell_type": "code",
   "execution_count": 206,
   "id": "a9f89f38",
   "metadata": {},
   "outputs": [
    {
     "data": {
      "text/plain": [
       "0    [Bluetooth, Hands-free equipment, On-board com...\n",
       "1    [Bluetooth, Hands-free equipment, On-board com...\n",
       "2                             [MP3, On-board computer]\n",
       "3    [Bluetooth, CD player, Hands-free equipment, M...\n",
       "4    [Bluetooth, CD player, Hands-free equipment, M...\n",
       "5    [Bluetooth, Hands-free equipment, On-board com...\n",
       "6    [Bluetooth, CD player, Hands-free equipment, O...\n",
       "7                              [CD player, MP3, Radio]\n",
       "8                                              [Radio]\n",
       "9                                                  NaN\n",
       "Name: entertainment_media, dtype: object"
      ]
     },
     "execution_count": 206,
     "metadata": {},
     "output_type": "execute_result"
    }
   ],
   "source": [
    "df[\"entertainment_media\"].head(10)"
   ]
  },
  {
   "cell_type": "code",
   "execution_count": 207,
   "id": "0da09bc0",
   "metadata": {},
   "outputs": [],
   "source": [
    "df[\"entertainment_media\"] = [\n",
    "    \",\".join(item) if type(item) == list else item\n",
    "    for item in df[\"entertainment_media\"]\n",
    "]"
   ]
  },
  {
   "cell_type": "code",
   "execution_count": 208,
   "id": "17c0199a",
   "metadata": {
    "scrolled": true
   },
   "outputs": [
    {
     "data": {
      "text/plain": [
       "NaN                                                                                                 1374\n",
       "Bluetooth,Hands-free equipment,On-board computer,Radio,USB                                          1282\n",
       "Bluetooth,Hands-free equipment,MP3,On-board computer,Radio,USB                                       982\n",
       "Bluetooth,CD player,Hands-free equipment,MP3,On-board computer,Radio,USB                             783\n",
       "On-board computer,Radio                                                                              487\n",
       "                                                                                                    ... \n",
       "Bluetooth,CD player,Digital radio,Hands-free equipment,Radio                                           1\n",
       "CD player,Hands-free equipment,MP3,Radio,USB                                                           1\n",
       "MP3,Radio,Sound system,USB                                                                             1\n",
       "Bluetooth,MP3,On-board computer,Radio,Television,USB                                                   1\n",
       "Bluetooth,CD player,Hands-free equipment,MP3,On-board computer,Radio,Sound system,Television,USB       1\n",
       "Name: entertainment_media, Length: 347, dtype: int64"
      ]
     },
     "execution_count": 208,
     "metadata": {},
     "output_type": "execute_result"
    }
   ],
   "source": [
    "df[\"entertainment_media\"].value_counts(dropna=False)"
   ]
  },
  {
   "cell_type": "code",
   "execution_count": 209,
   "id": "faa36408",
   "metadata": {},
   "outputs": [
    {
     "data": {
      "text/plain": [
       "8.63"
      ]
     },
     "execution_count": 209,
     "metadata": {},
     "output_type": "execute_result"
    }
   ],
   "source": [
    "round(df[\"entertainment_media\"].isnull().sum()/df.shape[0] * 100, 2) "
   ]
  },
  {
   "cell_type": "markdown",
   "id": "cbac9123",
   "metadata": {},
   "source": [
    "## - Extras"
   ]
  },
  {
   "cell_type": "code",
   "execution_count": 210,
   "id": "b244324b",
   "metadata": {},
   "outputs": [
    {
     "data": {
      "text/plain": [
       "0    [Alloy wheels, Catalytic Converter, Voice Cont...\n",
       "1    [Alloy wheels, Sport seats, Sport suspension, ...\n",
       "2                        [Alloy wheels, Voice Control]\n",
       "3           [Alloy wheels, Sport seats, Voice Control]\n",
       "4    [Alloy wheels, Sport package, Sport suspension...\n",
       "5    [Alloy wheels, Sport package, Sport seats, Spo...\n",
       "6    [Alloy wheels, Sport package, Sport seats, Spo...\n",
       "7                                       [Alloy wheels]\n",
       "8                                       [Alloy wheels]\n",
       "9                                                  NaN\n",
       "Name: Extras, dtype: object"
      ]
     },
     "execution_count": 210,
     "metadata": {},
     "output_type": "execute_result"
    }
   ],
   "source": [
    "df[\"Extras\"].head(10)"
   ]
  },
  {
   "cell_type": "code",
   "execution_count": 211,
   "id": "9005519d",
   "metadata": {},
   "outputs": [],
   "source": [
    "df['Extras'] = [\n",
    "    \",\".join(item) if type(item) == list else item for item in df['Extras']\n",
    "]"
   ]
  },
  {
   "cell_type": "code",
   "execution_count": 212,
   "id": "007b975c",
   "metadata": {
    "scrolled": true
   },
   "outputs": [
    {
     "data": {
      "text/plain": [
       "Alloy wheels                                                                                               3245\n",
       "NaN                                                                                                        2962\n",
       "Alloy wheels,Touch screen                                                                                   697\n",
       "Alloy wheels,Voice Control                                                                                  577\n",
       "Alloy wheels,Touch screen,Voice Control                                                                     541\n",
       "                                                                                                           ... \n",
       "Alloy wheels,Catalytic Converter,Shift paddles,Sport package,Sport seats,Sport suspension,Voice Control       1\n",
       "Alloy wheels,Catalytic Converter,Roof rack,Sport package,Sport seats,Trailer hitch                            1\n",
       "Alloy wheels,Catalytic Converter,Ski bag,Sport package,Voice Control                                          1\n",
       "Catalytic Converter,Roof rack,Sport seats,Sport suspension                                                    1\n",
       "Alloy wheels,Shift paddles,Ski bag,Sport seats,Sport suspension,Touch screen,Voice Control                    1\n",
       "Name: Extras, Length: 660, dtype: int64"
      ]
     },
     "execution_count": 212,
     "metadata": {},
     "output_type": "execute_result"
    }
   ],
   "source": [
    "df['Extras'].value_counts(dropna=False)"
   ]
  },
  {
   "cell_type": "code",
   "execution_count": 213,
   "id": "05f95d14",
   "metadata": {},
   "outputs": [
    {
     "data": {
      "text/plain": [
       "18.61"
      ]
     },
     "execution_count": 213,
     "metadata": {},
     "output_type": "execute_result"
    }
   ],
   "source": [
    "round(df[\"Extras\"].isnull().sum()/df.shape[0] * 100, 2) "
   ]
  },
  {
   "cell_type": "markdown",
   "id": "f0a60672",
   "metadata": {},
   "source": [
    "## - safety_security"
   ]
  },
  {
   "cell_type": "code",
   "execution_count": 214,
   "id": "49789f53",
   "metadata": {},
   "outputs": [
    {
     "data": {
      "text/plain": [
       "0    [ABS, Central door lock, Daytime running light...\n",
       "1    [ABS, Central door lock, Central door lock wit...\n",
       "2    [ABS, Central door lock, Daytime running light...\n",
       "3    [ABS, Alarm system, Central door lock with rem...\n",
       "4    [ABS, Central door lock, Driver-side airbag, E...\n",
       "5    [ABS, Central door lock, Daytime running light...\n",
       "6    [ABS, Central door lock, Daytime running light...\n",
       "7    [ABS, Central door lock, Daytime running light...\n",
       "8    [ABS, Central door lock, Driver-side airbag, E...\n",
       "9                                                  NaN\n",
       "Name: safety_security, dtype: object"
      ]
     },
     "execution_count": 214,
     "metadata": {},
     "output_type": "execute_result"
    }
   ],
   "source": [
    "df[\"safety_security\"].head(10)"
   ]
  },
  {
   "cell_type": "code",
   "execution_count": 215,
   "id": "8145eadf",
   "metadata": {},
   "outputs": [],
   "source": [
    "df['safety_security'] = [\n",
    "    \",\".join(item) if type(item) == list else item\n",
    "    for item in df['safety_security']\n",
    "]"
   ]
  },
  {
   "cell_type": "code",
   "execution_count": 216,
   "id": "c18a56e0",
   "metadata": {
    "scrolled": true
   },
   "outputs": [
    {
     "data": {
      "text/plain": [
       "NaN                                                                                                                                                                                                                                                                                                                                                               982\n",
       "ABS,Central door lock,Daytime running lights,Driver-side airbag,Electronic stability control,Fog lights,Immobilizer,Isofix,Passenger-side airbag,Power steering,Side airbag,Tire pressure monitoring system,Traction control                                                                                                                                      538\n",
       "ABS,Central door lock,Daytime running lights,Driver-side airbag,Electronic stability control,Immobilizer,Isofix,Passenger-side airbag,Power steering,Side airbag,Tire pressure monitoring system,Traction control                                                                                                                                                 480\n",
       "ABS,Central door lock,Daytime running lights,Driver-side airbag,Electronic stability control,Immobilizer,Isofix,Passenger-side airbag,Power steering,Side airbag,Tire pressure monitoring system,Traction control,Xenon headlights                                                                                                                                275\n",
       "ABS,Central door lock,Daytime running lights,Driver-side airbag,Electronic stability control,Fog lights,Immobilizer,Isofix,LED Daytime Running Lights,Passenger-side airbag,Power steering,Side airbag,Tire pressure monitoring system,Traction control                                                                                                           272\n",
       "                                                                                                                                                                                                                                                                                                                                                                 ... \n",
       "ABS,Central door lock,Electronic stability control,Immobilizer,Isofix,Passenger-side airbag,Power steering,Side airbag                                                                                                                                                                                                                                              1\n",
       "ABS,Adaptive Cruise Control,Central door lock,Daytime running lights,Driver-side airbag,Electronic stability control,Emergency brake assistant,Immobilizer,Isofix,Passenger-side airbag,Power steering,Side airbag,Tire pressure monitoring system,Traction control                                                                                                 1\n",
       "ABS,Adaptive Cruise Control,Alarm system,Central door lock,Driver-side airbag,Electronic stability control,Fog lights,Immobilizer,Isofix,Lane departure warning system,LED Daytime Running Lights,Passenger-side airbag,Power steering,Side airbag,Tire pressure monitoring system,Traction control,Xenon headlights                                                1\n",
       "ABS,Adaptive Cruise Control,Central door lock,Daytime running lights,Driver-side airbag,Electronic stability control,Fog lights,Immobilizer,Isofix,Power steering,Tire pressure monitoring system,Traction control                                                                                                                                                  1\n",
       "ABS,Adaptive Cruise Control,Central door lock,Daytime running lights,Driver-side airbag,Electronic stability control,Emergency brake assistant,Fog lights,Immobilizer,Isofix,Lane departure warning system,LED Daytime Running Lights,LED Headlights,Passenger-side airbag,Power steering,Side airbag,Tire pressure monitoring system,Traffic sign recognition      1\n",
       "Name: safety_security, Length: 4444, dtype: int64"
      ]
     },
     "execution_count": 216,
     "metadata": {},
     "output_type": "execute_result"
    }
   ],
   "source": [
    "df[\"safety_security\"].value_counts(dropna=False)"
   ]
  },
  {
   "cell_type": "code",
   "execution_count": 217,
   "id": "79079fac",
   "metadata": {},
   "outputs": [
    {
     "data": {
      "text/plain": [
       "6.17"
      ]
     },
     "execution_count": 217,
     "metadata": {},
     "output_type": "execute_result"
    }
   ],
   "source": [
    "round(df[\"safety_security\"].isnull().sum()/df.shape[0] * 100, 2) "
   ]
  },
  {
   "cell_type": "markdown",
   "id": "490fe8dd",
   "metadata": {},
   "source": [
    "## - description"
   ]
  },
  {
   "cell_type": "code",
   "execution_count": 218,
   "id": "4f8f1512",
   "metadata": {},
   "outputs": [
    {
     "data": {
      "text/plain": [
       "0    [\\n, Sicherheit:,  , Deaktivierung für Beifahr...\n",
       "1    [\\nLangstreckenfahrzeug daher die hohe Kilomet...\n",
       "2    [\\n, Fahrzeug-Nummer: AM-95365,  , Ehem. UPE 2...\n",
       "3    [\\nAudi A1: , - 1e eigenaar , - Perfecte staat...\n",
       "4    [\\n, Technik & Sicherheit:, Xenon plus, Klimaa...\n",
       "5    [\\nSichern Sie sich diesen Audi A1 1.6 TDI Spo...\n",
       "6    [\\nREDUZIERT !!!, MwSt. ausweisbar, Nettopreis...\n",
       "7    [\\n, Ausstattungspakete:,  Ausstattungspaket: ...\n",
       "8    [\\nAuto in ottime condizioni. Unico proprietar...\n",
       "9    [\\nClim automatique,Ecran multifonction couleu...\n",
       "Name: description, dtype: object"
      ]
     },
     "execution_count": 218,
     "metadata": {},
     "output_type": "execute_result"
    }
   ],
   "source": [
    "df[\"description\"].head(10)"
   ]
  },
  {
   "cell_type": "code",
   "execution_count": 219,
   "id": "9b67faef",
   "metadata": {},
   "outputs": [],
   "source": [
    "df.drop('description', axis=1, inplace=True)"
   ]
  },
  {
   "cell_type": "markdown",
   "id": "9bcf9cf1",
   "metadata": {},
   "source": [
    "## - Emission Label"
   ]
  },
  {
   "cell_type": "code",
   "execution_count": 220,
   "id": "8f81dbfe",
   "metadata": {},
   "outputs": [
    {
     "data": {
      "text/plain": [
       "0                NaN\n",
       "1    [\\n4 (Green)\\n]\n",
       "2    [\\n4 (Green)\\n]\n",
       "3                NaN\n",
       "4                NaN\n",
       "5    [\\n4 (Green)\\n]\n",
       "6                NaN\n",
       "7                NaN\n",
       "8                NaN\n",
       "9                NaN\n",
       "Name: Emission Label, dtype: object"
      ]
     },
     "execution_count": 220,
     "metadata": {},
     "output_type": "execute_result"
    }
   ],
   "source": [
    "df[\"Emission Label\"].head(10)"
   ]
  },
  {
   "cell_type": "code",
   "execution_count": 221,
   "id": "cdd3f222",
   "metadata": {},
   "outputs": [],
   "source": [
    "df.drop('Emission Label', axis=1, inplace=True)"
   ]
  },
  {
   "cell_type": "markdown",
   "id": "b10690fc",
   "metadata": {},
   "source": [
    "## - Gears"
   ]
  },
  {
   "cell_type": "code",
   "execution_count": 222,
   "id": "9529bf89",
   "metadata": {},
   "outputs": [
    {
     "data": {
      "text/plain": [
       "0        NaN\n",
       "1    [\\n7\\n]\n",
       "2        NaN\n",
       "3    [\\n6\\n]\n",
       "4        NaN\n",
       "5        NaN\n",
       "6        NaN\n",
       "7    [\\n7\\n]\n",
       "8    [\\n7\\n]\n",
       "9    [\\n7\\n]\n",
       "Name: Gears, dtype: object"
      ]
     },
     "execution_count": 222,
     "metadata": {},
     "output_type": "execute_result"
    }
   ],
   "source": [
    "df[\"Gears\"].head(10)"
   ]
  },
  {
   "cell_type": "code",
   "execution_count": 223,
   "id": "2cc4eb81",
   "metadata": {},
   "outputs": [],
   "source": [
    "df[\"Gears\"] = df.Gears.str[0].str.strip('\\n')"
   ]
  },
  {
   "cell_type": "code",
   "execution_count": 224,
   "id": "bf7b0ba4",
   "metadata": {},
   "outputs": [
    {
     "data": {
      "text/plain": [
       "6      5822\n",
       "NaN    4712\n",
       "5      3239\n",
       "7      1908\n",
       "8       224\n",
       "9         6\n",
       "1         2\n",
       "3         2\n",
       "4         2\n",
       "2         1\n",
       "50        1\n",
       "Name: Gears, dtype: int64"
      ]
     },
     "execution_count": 224,
     "metadata": {},
     "output_type": "execute_result"
    }
   ],
   "source": [
    "df[\"Gears\"].value_counts(dropna=False)"
   ]
  },
  {
   "cell_type": "code",
   "execution_count": 225,
   "id": "2a08c83c",
   "metadata": {},
   "outputs": [
    {
     "data": {
      "text/plain": [
       "29.6"
      ]
     },
     "execution_count": 225,
     "metadata": {},
     "output_type": "execute_result"
    }
   ],
   "source": [
    "round(df[\"Gears\"].isnull().sum()/df.shape[0] * 100, 2) "
   ]
  },
  {
   "cell_type": "markdown",
   "id": "48911be8",
   "metadata": {},
   "source": [
    "## - Country version"
   ]
  },
  {
   "cell_type": "code",
   "execution_count": 226,
   "id": "94f2926b",
   "metadata": {},
   "outputs": [
    {
     "data": {
      "text/plain": [
       "0              NaN\n",
       "1              NaN\n",
       "2              NaN\n",
       "3              NaN\n",
       "4    [\\nGermany\\n]\n",
       "5    [\\nGermany\\n]\n",
       "6    [\\nGermany\\n]\n",
       "7              NaN\n",
       "8              NaN\n",
       "9              NaN\n",
       "Name: Country version, dtype: object"
      ]
     },
     "execution_count": 226,
     "metadata": {},
     "output_type": "execute_result"
    }
   ],
   "source": [
    "df[\"Country version\"].head(10)"
   ]
  },
  {
   "cell_type": "code",
   "execution_count": 227,
   "id": "c1a18ce0",
   "metadata": {},
   "outputs": [],
   "source": [
    "df[\"Country version\"] = df['Country version'].str[0].str.strip('\\n')"
   ]
  },
  {
   "cell_type": "code",
   "execution_count": 228,
   "id": "da0d0be0",
   "metadata": {},
   "outputs": [
    {
     "data": {
      "text/plain": [
       "NaN               8333\n",
       "Germany           4502\n",
       "Italy             1038\n",
       "European Union     507\n",
       "Netherlands        464\n",
       "Spain              325\n",
       "Belgium            314\n",
       "Austria            208\n",
       "Czech Republic      52\n",
       "Poland              49\n",
       "France              38\n",
       "Denmark             33\n",
       "Hungary             28\n",
       "Japan                8\n",
       "Slovakia             4\n",
       "Croatia              4\n",
       "Sweden               3\n",
       "Romania              2\n",
       "Bulgaria             2\n",
       "Luxembourg           1\n",
       "Switzerland          1\n",
       "Slovenia             1\n",
       "Egypt                1\n",
       "Serbia               1\n",
       "Name: Country version, dtype: int64"
      ]
     },
     "execution_count": 228,
     "metadata": {},
     "output_type": "execute_result"
    }
   ],
   "source": [
    "df['Country version'].value_counts(dropna=False)"
   ]
  },
  {
   "cell_type": "code",
   "execution_count": 229,
   "id": "bd847a76",
   "metadata": {},
   "outputs": [],
   "source": [
    "df.drop('Country version', axis=1, inplace=True)"
   ]
  },
  {
   "cell_type": "code",
   "execution_count": 230,
   "id": "7a9ff20c",
   "metadata": {},
   "outputs": [
    {
     "data": {
      "text/plain": [
       "Index(['make_model', 'body_type', 'price', 'vat', 'km', 'kW', 'Type',\n",
       "       'Previous Owners', 'Warranty', 'Nr. of Doors', 'Nr. of Seats',\n",
       "       'Gearing Type', 'Cylinders', 'Drive chain', 'Fuel', 'CO2 Emission',\n",
       "       'Emission Class', 'comfort_convenience', 'entertainment_media',\n",
       "       'Extras', 'safety_security', 'Gears', 'Inspection_new', 'age',\n",
       "       'Upholstery_type', 'Displacement_cc', 'Weight_kg', 'cons_comb',\n",
       "       'cons_city', 'cons_country'],\n",
       "      dtype='object')"
      ]
     },
     "execution_count": 230,
     "metadata": {},
     "output_type": "execute_result"
    }
   ],
   "source": [
    "df.columns"
   ]
  },
  {
   "cell_type": "code",
   "execution_count": 231,
   "id": "6e0b58fe",
   "metadata": {},
   "outputs": [
    {
     "data": {
      "text/plain": [
       "(15919, 30)"
      ]
     },
     "execution_count": 231,
     "metadata": {},
     "output_type": "execute_result"
    }
   ],
   "source": [
    "df.shape"
   ]
  },
  {
   "cell_type": "code",
   "execution_count": 232,
   "id": "d6a5f97b",
   "metadata": {},
   "outputs": [
    {
     "name": "stdout",
     "output_type": "stream",
     "text": [
      "<class 'pandas.core.frame.DataFrame'>\n",
      "RangeIndex: 15919 entries, 0 to 15918\n",
      "Data columns (total 30 columns):\n",
      " #   Column               Non-Null Count  Dtype  \n",
      "---  ------               --------------  -----  \n",
      " 0   make_model           15919 non-null  object \n",
      " 1   body_type            15859 non-null  object \n",
      " 2   price                15919 non-null  int64  \n",
      " 3   vat                  11406 non-null  object \n",
      " 4   km                   14895 non-null  float64\n",
      " 5   kW                   15919 non-null  float64\n",
      " 6   Type                 15917 non-null  object \n",
      " 7   Previous Owners      9279 non-null   float64\n",
      " 8   Warranty             4853 non-null   float64\n",
      " 9   Nr. of Doors         15707 non-null  float64\n",
      " 10  Nr. of Seats         14942 non-null  float64\n",
      " 11  Gearing Type         15919 non-null  object \n",
      " 12  Cylinders            10239 non-null  float64\n",
      " 13  Drive chain          9061 non-null   object \n",
      " 14  Fuel                 15919 non-null  object \n",
      " 15  CO2 Emission         13483 non-null  float64\n",
      " 16  Emission Class       12291 non-null  object \n",
      " 17  comfort_convenience  14999 non-null  object \n",
      " 18  entertainment_media  14545 non-null  object \n",
      " 19  Extras               12957 non-null  object \n",
      " 20  safety_security      14937 non-null  object \n",
      " 21  Gears                11207 non-null  object \n",
      " 22  Inspection_new       3932 non-null   object \n",
      " 23  age                  14322 non-null  float64\n",
      " 24  Upholstery_type      11048 non-null  object \n",
      " 25  Displacement_cc      15423 non-null  float64\n",
      " 26  Weight_kg            8945 non-null   float64\n",
      " 27  cons_comb            13886 non-null  float64\n",
      " 28  cons_city            13483 non-null  float64\n",
      " 29  cons_country         13543 non-null  float64\n",
      "dtypes: float64(14), int64(1), object(15)\n",
      "memory usage: 3.6+ MB\n"
     ]
    }
   ],
   "source": [
    "df.info()"
   ]
  },
  {
   "cell_type": "code",
   "execution_count": 233,
   "id": "f39d5f61",
   "metadata": {
    "scrolled": false
   },
   "outputs": [
    {
     "data": {
      "text/html": [
       "<div>\n",
       "<style scoped>\n",
       "    .dataframe tbody tr th:only-of-type {\n",
       "        vertical-align: middle;\n",
       "    }\n",
       "\n",
       "    .dataframe tbody tr th {\n",
       "        vertical-align: top;\n",
       "    }\n",
       "\n",
       "    .dataframe thead th {\n",
       "        text-align: right;\n",
       "    }\n",
       "</style>\n",
       "<table border=\"1\" class=\"dataframe\">\n",
       "  <thead>\n",
       "    <tr style=\"text-align: right;\">\n",
       "      <th></th>\n",
       "      <th>make_model</th>\n",
       "      <th>body_type</th>\n",
       "      <th>price</th>\n",
       "      <th>vat</th>\n",
       "      <th>km</th>\n",
       "      <th>kW</th>\n",
       "      <th>Type</th>\n",
       "      <th>Previous Owners</th>\n",
       "      <th>Warranty</th>\n",
       "      <th>Nr. of Doors</th>\n",
       "      <th>Nr. of Seats</th>\n",
       "      <th>Gearing Type</th>\n",
       "      <th>Cylinders</th>\n",
       "      <th>Drive chain</th>\n",
       "      <th>Fuel</th>\n",
       "      <th>CO2 Emission</th>\n",
       "      <th>Emission Class</th>\n",
       "      <th>comfort_convenience</th>\n",
       "      <th>entertainment_media</th>\n",
       "      <th>Extras</th>\n",
       "      <th>safety_security</th>\n",
       "      <th>Gears</th>\n",
       "      <th>Inspection_new</th>\n",
       "      <th>age</th>\n",
       "      <th>Upholstery_type</th>\n",
       "      <th>Displacement_cc</th>\n",
       "      <th>Weight_kg</th>\n",
       "      <th>cons_comb</th>\n",
       "      <th>cons_city</th>\n",
       "      <th>cons_country</th>\n",
       "    </tr>\n",
       "  </thead>\n",
       "  <tbody>\n",
       "    <tr>\n",
       "      <th>0</th>\n",
       "      <td>Audi A1</td>\n",
       "      <td>Sedans</td>\n",
       "      <td>15770</td>\n",
       "      <td>VAT deductible</td>\n",
       "      <td>56013.000</td>\n",
       "      <td>66.000</td>\n",
       "      <td>Used</td>\n",
       "      <td>2.000</td>\n",
       "      <td>NaN</td>\n",
       "      <td>5.000</td>\n",
       "      <td>5.000</td>\n",
       "      <td>Automatic</td>\n",
       "      <td>3.000</td>\n",
       "      <td>front</td>\n",
       "      <td>Diesel</td>\n",
       "      <td>99.000</td>\n",
       "      <td>Euro6</td>\n",
       "      <td>Air conditioning,Armrest,Automatic climate con...</td>\n",
       "      <td>Bluetooth,Hands-free equipment,On-board comput...</td>\n",
       "      <td>Alloy wheels,Catalytic Converter,Voice Control</td>\n",
       "      <td>ABS,Central door lock,Daytime running lights,D...</td>\n",
       "      <td>NaN</td>\n",
       "      <td>Yes</td>\n",
       "      <td>3.000</td>\n",
       "      <td>Cloth</td>\n",
       "      <td>1422.000</td>\n",
       "      <td>1220.000</td>\n",
       "      <td>3.800</td>\n",
       "      <td>4.300</td>\n",
       "      <td>3.500</td>\n",
       "    </tr>\n",
       "    <tr>\n",
       "      <th>1</th>\n",
       "      <td>Audi A1</td>\n",
       "      <td>Sedans</td>\n",
       "      <td>14500</td>\n",
       "      <td>Price negotiable</td>\n",
       "      <td>80000.000</td>\n",
       "      <td>141.000</td>\n",
       "      <td>Used</td>\n",
       "      <td>NaN</td>\n",
       "      <td>NaN</td>\n",
       "      <td>3.000</td>\n",
       "      <td>4.000</td>\n",
       "      <td>Automatic</td>\n",
       "      <td>4.000</td>\n",
       "      <td>front</td>\n",
       "      <td>Benzine</td>\n",
       "      <td>129.000</td>\n",
       "      <td>Euro6</td>\n",
       "      <td>Air conditioning,Automatic climate control,Hil...</td>\n",
       "      <td>Bluetooth,Hands-free equipment,On-board comput...</td>\n",
       "      <td>Alloy wheels,Sport seats,Sport suspension,Voic...</td>\n",
       "      <td>ABS,Central door lock,Central door lock with r...</td>\n",
       "      <td>7</td>\n",
       "      <td>NaN</td>\n",
       "      <td>2.000</td>\n",
       "      <td>Cloth</td>\n",
       "      <td>1798.000</td>\n",
       "      <td>1255.000</td>\n",
       "      <td>5.600</td>\n",
       "      <td>7.100</td>\n",
       "      <td>4.700</td>\n",
       "    </tr>\n",
       "    <tr>\n",
       "      <th>2</th>\n",
       "      <td>Audi A1</td>\n",
       "      <td>Sedans</td>\n",
       "      <td>14640</td>\n",
       "      <td>VAT deductible</td>\n",
       "      <td>83450.000</td>\n",
       "      <td>85.000</td>\n",
       "      <td>Used</td>\n",
       "      <td>1.000</td>\n",
       "      <td>NaN</td>\n",
       "      <td>4.000</td>\n",
       "      <td>4.000</td>\n",
       "      <td>Automatic</td>\n",
       "      <td>NaN</td>\n",
       "      <td>front</td>\n",
       "      <td>Diesel</td>\n",
       "      <td>99.000</td>\n",
       "      <td>Euro6</td>\n",
       "      <td>Air conditioning,Cruise control,Electrical sid...</td>\n",
       "      <td>MP3,On-board computer</td>\n",
       "      <td>Alloy wheels,Voice Control</td>\n",
       "      <td>ABS,Central door lock,Daytime running lights,D...</td>\n",
       "      <td>NaN</td>\n",
       "      <td>NaN</td>\n",
       "      <td>3.000</td>\n",
       "      <td>Cloth</td>\n",
       "      <td>1598.000</td>\n",
       "      <td>NaN</td>\n",
       "      <td>3.800</td>\n",
       "      <td>4.400</td>\n",
       "      <td>3.400</td>\n",
       "    </tr>\n",
       "    <tr>\n",
       "      <th>3</th>\n",
       "      <td>Audi A1</td>\n",
       "      <td>Sedans</td>\n",
       "      <td>14500</td>\n",
       "      <td>None</td>\n",
       "      <td>73000.000</td>\n",
       "      <td>66.000</td>\n",
       "      <td>Used</td>\n",
       "      <td>1.000</td>\n",
       "      <td>NaN</td>\n",
       "      <td>3.000</td>\n",
       "      <td>4.000</td>\n",
       "      <td>Automatic</td>\n",
       "      <td>3.000</td>\n",
       "      <td>NaN</td>\n",
       "      <td>Diesel</td>\n",
       "      <td>99.000</td>\n",
       "      <td>Euro6</td>\n",
       "      <td>Air suspension,Armrest,Auxiliary heating,Elect...</td>\n",
       "      <td>Bluetooth,CD player,Hands-free equipment,MP3,O...</td>\n",
       "      <td>Alloy wheels,Sport seats,Voice Control</td>\n",
       "      <td>ABS,Alarm system,Central door lock with remote...</td>\n",
       "      <td>6</td>\n",
       "      <td>NaN</td>\n",
       "      <td>3.000</td>\n",
       "      <td>NaN</td>\n",
       "      <td>1422.000</td>\n",
       "      <td>1195.000</td>\n",
       "      <td>3.800</td>\n",
       "      <td>4.300</td>\n",
       "      <td>3.500</td>\n",
       "    </tr>\n",
       "    <tr>\n",
       "      <th>4</th>\n",
       "      <td>Audi A1</td>\n",
       "      <td>Sedans</td>\n",
       "      <td>16790</td>\n",
       "      <td>None</td>\n",
       "      <td>16200.000</td>\n",
       "      <td>66.000</td>\n",
       "      <td>Used</td>\n",
       "      <td>1.000</td>\n",
       "      <td>NaN</td>\n",
       "      <td>5.000</td>\n",
       "      <td>5.000</td>\n",
       "      <td>Automatic</td>\n",
       "      <td>3.000</td>\n",
       "      <td>front</td>\n",
       "      <td>Diesel</td>\n",
       "      <td>109.000</td>\n",
       "      <td>Euro6</td>\n",
       "      <td>Air conditioning,Armrest,Automatic climate con...</td>\n",
       "      <td>Bluetooth,CD player,Hands-free equipment,MP3,O...</td>\n",
       "      <td>Alloy wheels,Sport package,Sport suspension,Vo...</td>\n",
       "      <td>ABS,Central door lock,Driver-side airbag,Elect...</td>\n",
       "      <td>NaN</td>\n",
       "      <td>Yes</td>\n",
       "      <td>3.000</td>\n",
       "      <td>Cloth</td>\n",
       "      <td>1422.000</td>\n",
       "      <td>NaN</td>\n",
       "      <td>4.100</td>\n",
       "      <td>4.600</td>\n",
       "      <td>3.800</td>\n",
       "    </tr>\n",
       "    <tr>\n",
       "      <th>5</th>\n",
       "      <td>Audi A1</td>\n",
       "      <td>Sedans</td>\n",
       "      <td>15090</td>\n",
       "      <td>None</td>\n",
       "      <td>63668.000</td>\n",
       "      <td>85.000</td>\n",
       "      <td>Used</td>\n",
       "      <td>1.000</td>\n",
       "      <td>NaN</td>\n",
       "      <td>4.000</td>\n",
       "      <td>5.000</td>\n",
       "      <td>Automatic</td>\n",
       "      <td>NaN</td>\n",
       "      <td>NaN</td>\n",
       "      <td>Diesel</td>\n",
       "      <td>9.000</td>\n",
       "      <td>Euro6</td>\n",
       "      <td>Air conditioning,Armrest,Automatic climate con...</td>\n",
       "      <td>Bluetooth,Hands-free equipment,On-board comput...</td>\n",
       "      <td>Alloy wheels,Sport package,Sport seats,Sport s...</td>\n",
       "      <td>ABS,Central door lock,Daytime running lights,D...</td>\n",
       "      <td>NaN</td>\n",
       "      <td>NaN</td>\n",
       "      <td>3.000</td>\n",
       "      <td>Part leather</td>\n",
       "      <td>1598.000</td>\n",
       "      <td>NaN</td>\n",
       "      <td>3.500</td>\n",
       "      <td>4.300</td>\n",
       "      <td>3.100</td>\n",
       "    </tr>\n",
       "    <tr>\n",
       "      <th>6</th>\n",
       "      <td>Audi A1</td>\n",
       "      <td>Station wagon</td>\n",
       "      <td>16422</td>\n",
       "      <td>VAT deductible</td>\n",
       "      <td>62111.000</td>\n",
       "      <td>85.000</td>\n",
       "      <td>Used</td>\n",
       "      <td>1.000</td>\n",
       "      <td>NaN</td>\n",
       "      <td>4.000</td>\n",
       "      <td>5.000</td>\n",
       "      <td>Automatic</td>\n",
       "      <td>4.000</td>\n",
       "      <td>front</td>\n",
       "      <td>Diesel</td>\n",
       "      <td>98.000</td>\n",
       "      <td>Euro6</td>\n",
       "      <td>Air conditioning,Armrest,Automatic climate con...</td>\n",
       "      <td>Bluetooth,CD player,Hands-free equipment,On-bo...</td>\n",
       "      <td>Alloy wheels,Sport package,Sport seats,Sport s...</td>\n",
       "      <td>ABS,Central door lock,Daytime running lights,D...</td>\n",
       "      <td>NaN</td>\n",
       "      <td>Yes</td>\n",
       "      <td>3.000</td>\n",
       "      <td>Part leather</td>\n",
       "      <td>1598.000</td>\n",
       "      <td>NaN</td>\n",
       "      <td>3.700</td>\n",
       "      <td>4.300</td>\n",
       "      <td>3.400</td>\n",
       "    </tr>\n",
       "    <tr>\n",
       "      <th>7</th>\n",
       "      <td>Audi A1</td>\n",
       "      <td>Compact</td>\n",
       "      <td>14480</td>\n",
       "      <td>VAT deductible</td>\n",
       "      <td>14986.000</td>\n",
       "      <td>66.000</td>\n",
       "      <td>Used</td>\n",
       "      <td>1.000</td>\n",
       "      <td>NaN</td>\n",
       "      <td>5.000</td>\n",
       "      <td>5.000</td>\n",
       "      <td>Automatic</td>\n",
       "      <td>NaN</td>\n",
       "      <td>front</td>\n",
       "      <td>Diesel</td>\n",
       "      <td>97.000</td>\n",
       "      <td>Euro6</td>\n",
       "      <td>Air conditioning,Armrest,Electrical side mirro...</td>\n",
       "      <td>CD player,MP3,Radio</td>\n",
       "      <td>Alloy wheels</td>\n",
       "      <td>ABS,Central door lock,Daytime running lights,D...</td>\n",
       "      <td>7</td>\n",
       "      <td>Yes</td>\n",
       "      <td>3.000</td>\n",
       "      <td>Cloth</td>\n",
       "      <td>1422.000</td>\n",
       "      <td>NaN</td>\n",
       "      <td>3.700</td>\n",
       "      <td>4.200</td>\n",
       "      <td>3.400</td>\n",
       "    </tr>\n",
       "    <tr>\n",
       "      <th>8</th>\n",
       "      <td>Audi A1</td>\n",
       "      <td>Sedans</td>\n",
       "      <td>16700</td>\n",
       "      <td>None</td>\n",
       "      <td>57000.000</td>\n",
       "      <td>85.000</td>\n",
       "      <td>Used</td>\n",
       "      <td>1.000</td>\n",
       "      <td>12.000</td>\n",
       "      <td>5.000</td>\n",
       "      <td>4.000</td>\n",
       "      <td>Automatic</td>\n",
       "      <td>4.000</td>\n",
       "      <td>front</td>\n",
       "      <td>Diesel</td>\n",
       "      <td>97.000</td>\n",
       "      <td>Euro6</td>\n",
       "      <td>Air conditioning,Power windows</td>\n",
       "      <td>Radio</td>\n",
       "      <td>Alloy wheels</td>\n",
       "      <td>ABS,Central door lock,Driver-side airbag,Elect...</td>\n",
       "      <td>7</td>\n",
       "      <td>NaN</td>\n",
       "      <td>3.000</td>\n",
       "      <td>Cloth</td>\n",
       "      <td>1598.000</td>\n",
       "      <td>1275.000</td>\n",
       "      <td>3.700</td>\n",
       "      <td>4.300</td>\n",
       "      <td>3.400</td>\n",
       "    </tr>\n",
       "    <tr>\n",
       "      <th>9</th>\n",
       "      <td>Audi A1</td>\n",
       "      <td>Sedans</td>\n",
       "      <td>17990</td>\n",
       "      <td>None</td>\n",
       "      <td>16103.000</td>\n",
       "      <td>70.000</td>\n",
       "      <td>Used</td>\n",
       "      <td>NaN</td>\n",
       "      <td>3.000</td>\n",
       "      <td>5.000</td>\n",
       "      <td>4.000</td>\n",
       "      <td>Automatic</td>\n",
       "      <td>NaN</td>\n",
       "      <td>NaN</td>\n",
       "      <td>Benzine</td>\n",
       "      <td>NaN</td>\n",
       "      <td>NaN</td>\n",
       "      <td>NaN</td>\n",
       "      <td>NaN</td>\n",
       "      <td>NaN</td>\n",
       "      <td>NaN</td>\n",
       "      <td>7</td>\n",
       "      <td>NaN</td>\n",
       "      <td>2.000</td>\n",
       "      <td>NaN</td>\n",
       "      <td>999.000</td>\n",
       "      <td>NaN</td>\n",
       "      <td>NaN</td>\n",
       "      <td>NaN</td>\n",
       "      <td>NaN</td>\n",
       "    </tr>\n",
       "  </tbody>\n",
       "</table>\n",
       "</div>"
      ],
      "text/plain": [
       "  make_model      body_type  price               vat        km      kW  Type  \\\n",
       "0    Audi A1         Sedans  15770    VAT deductible 56013.000  66.000  Used   \n",
       "1    Audi A1         Sedans  14500  Price negotiable 80000.000 141.000  Used   \n",
       "2    Audi A1         Sedans  14640    VAT deductible 83450.000  85.000  Used   \n",
       "3    Audi A1         Sedans  14500              None 73000.000  66.000  Used   \n",
       "4    Audi A1         Sedans  16790              None 16200.000  66.000  Used   \n",
       "5    Audi A1         Sedans  15090              None 63668.000  85.000  Used   \n",
       "6    Audi A1  Station wagon  16422    VAT deductible 62111.000  85.000  Used   \n",
       "7    Audi A1        Compact  14480    VAT deductible 14986.000  66.000  Used   \n",
       "8    Audi A1         Sedans  16700              None 57000.000  85.000  Used   \n",
       "9    Audi A1         Sedans  17990              None 16103.000  70.000  Used   \n",
       "\n",
       "   Previous Owners  Warranty  Nr. of Doors  Nr. of Seats Gearing Type  \\\n",
       "0            2.000       NaN         5.000         5.000    Automatic   \n",
       "1              NaN       NaN         3.000         4.000    Automatic   \n",
       "2            1.000       NaN         4.000         4.000    Automatic   \n",
       "3            1.000       NaN         3.000         4.000    Automatic   \n",
       "4            1.000       NaN         5.000         5.000    Automatic   \n",
       "5            1.000       NaN         4.000         5.000    Automatic   \n",
       "6            1.000       NaN         4.000         5.000    Automatic   \n",
       "7            1.000       NaN         5.000         5.000    Automatic   \n",
       "8            1.000    12.000         5.000         4.000    Automatic   \n",
       "9              NaN     3.000         5.000         4.000    Automatic   \n",
       "\n",
       "   Cylinders Drive chain     Fuel  CO2 Emission Emission Class  \\\n",
       "0      3.000       front   Diesel        99.000          Euro6   \n",
       "1      4.000       front  Benzine       129.000          Euro6   \n",
       "2        NaN       front   Diesel        99.000          Euro6   \n",
       "3      3.000         NaN   Diesel        99.000          Euro6   \n",
       "4      3.000       front   Diesel       109.000          Euro6   \n",
       "5        NaN         NaN   Diesel         9.000          Euro6   \n",
       "6      4.000       front   Diesel        98.000          Euro6   \n",
       "7        NaN       front   Diesel        97.000          Euro6   \n",
       "8      4.000       front   Diesel        97.000          Euro6   \n",
       "9        NaN         NaN  Benzine           NaN            NaN   \n",
       "\n",
       "                                 comfort_convenience  \\\n",
       "0  Air conditioning,Armrest,Automatic climate con...   \n",
       "1  Air conditioning,Automatic climate control,Hil...   \n",
       "2  Air conditioning,Cruise control,Electrical sid...   \n",
       "3  Air suspension,Armrest,Auxiliary heating,Elect...   \n",
       "4  Air conditioning,Armrest,Automatic climate con...   \n",
       "5  Air conditioning,Armrest,Automatic climate con...   \n",
       "6  Air conditioning,Armrest,Automatic climate con...   \n",
       "7  Air conditioning,Armrest,Electrical side mirro...   \n",
       "8                     Air conditioning,Power windows   \n",
       "9                                                NaN   \n",
       "\n",
       "                                 entertainment_media  \\\n",
       "0  Bluetooth,Hands-free equipment,On-board comput...   \n",
       "1  Bluetooth,Hands-free equipment,On-board comput...   \n",
       "2                              MP3,On-board computer   \n",
       "3  Bluetooth,CD player,Hands-free equipment,MP3,O...   \n",
       "4  Bluetooth,CD player,Hands-free equipment,MP3,O...   \n",
       "5  Bluetooth,Hands-free equipment,On-board comput...   \n",
       "6  Bluetooth,CD player,Hands-free equipment,On-bo...   \n",
       "7                                CD player,MP3,Radio   \n",
       "8                                              Radio   \n",
       "9                                                NaN   \n",
       "\n",
       "                                              Extras  \\\n",
       "0     Alloy wheels,Catalytic Converter,Voice Control   \n",
       "1  Alloy wheels,Sport seats,Sport suspension,Voic...   \n",
       "2                         Alloy wheels,Voice Control   \n",
       "3             Alloy wheels,Sport seats,Voice Control   \n",
       "4  Alloy wheels,Sport package,Sport suspension,Vo...   \n",
       "5  Alloy wheels,Sport package,Sport seats,Sport s...   \n",
       "6  Alloy wheels,Sport package,Sport seats,Sport s...   \n",
       "7                                       Alloy wheels   \n",
       "8                                       Alloy wheels   \n",
       "9                                                NaN   \n",
       "\n",
       "                                     safety_security Gears Inspection_new  \\\n",
       "0  ABS,Central door lock,Daytime running lights,D...   NaN            Yes   \n",
       "1  ABS,Central door lock,Central door lock with r...     7            NaN   \n",
       "2  ABS,Central door lock,Daytime running lights,D...   NaN            NaN   \n",
       "3  ABS,Alarm system,Central door lock with remote...     6            NaN   \n",
       "4  ABS,Central door lock,Driver-side airbag,Elect...   NaN            Yes   \n",
       "5  ABS,Central door lock,Daytime running lights,D...   NaN            NaN   \n",
       "6  ABS,Central door lock,Daytime running lights,D...   NaN            Yes   \n",
       "7  ABS,Central door lock,Daytime running lights,D...     7            Yes   \n",
       "8  ABS,Central door lock,Driver-side airbag,Elect...     7            NaN   \n",
       "9                                                NaN     7            NaN   \n",
       "\n",
       "    age Upholstery_type  Displacement_cc  Weight_kg  cons_comb  cons_city  \\\n",
       "0 3.000           Cloth         1422.000   1220.000      3.800      4.300   \n",
       "1 2.000           Cloth         1798.000   1255.000      5.600      7.100   \n",
       "2 3.000           Cloth         1598.000        NaN      3.800      4.400   \n",
       "3 3.000             NaN         1422.000   1195.000      3.800      4.300   \n",
       "4 3.000           Cloth         1422.000        NaN      4.100      4.600   \n",
       "5 3.000    Part leather         1598.000        NaN      3.500      4.300   \n",
       "6 3.000    Part leather         1598.000        NaN      3.700      4.300   \n",
       "7 3.000           Cloth         1422.000        NaN      3.700      4.200   \n",
       "8 3.000           Cloth         1598.000   1275.000      3.700      4.300   \n",
       "9 2.000             NaN          999.000        NaN        NaN        NaN   \n",
       "\n",
       "   cons_country  \n",
       "0         3.500  \n",
       "1         4.700  \n",
       "2         3.400  \n",
       "3         3.500  \n",
       "4         3.800  \n",
       "5         3.100  \n",
       "6         3.400  \n",
       "7         3.400  \n",
       "8         3.400  \n",
       "9           NaN  "
      ]
     },
     "execution_count": 233,
     "metadata": {},
     "output_type": "execute_result"
    }
   ],
   "source": [
    "df.head(10)"
   ]
  },
  {
   "cell_type": "code",
   "execution_count": 234,
   "id": "c35d419d",
   "metadata": {},
   "outputs": [
    {
     "data": {
      "text/html": [
       "<div>\n",
       "<style scoped>\n",
       "    .dataframe tbody tr th:only-of-type {\n",
       "        vertical-align: middle;\n",
       "    }\n",
       "\n",
       "    .dataframe tbody tr th {\n",
       "        vertical-align: top;\n",
       "    }\n",
       "\n",
       "    .dataframe thead th {\n",
       "        text-align: right;\n",
       "    }\n",
       "</style>\n",
       "<table border=\"1\" class=\"dataframe\">\n",
       "  <thead>\n",
       "    <tr style=\"text-align: right;\">\n",
       "      <th></th>\n",
       "      <th>make_model</th>\n",
       "      <th>body_type</th>\n",
       "      <th>price</th>\n",
       "      <th>vat</th>\n",
       "      <th>km</th>\n",
       "      <th>kW</th>\n",
       "      <th>Type</th>\n",
       "      <th>Previous Owners</th>\n",
       "      <th>Warranty</th>\n",
       "      <th>Nr. of Doors</th>\n",
       "      <th>Nr. of Seats</th>\n",
       "      <th>Gearing Type</th>\n",
       "      <th>Cylinders</th>\n",
       "      <th>Drive chain</th>\n",
       "      <th>Fuel</th>\n",
       "      <th>CO2 Emission</th>\n",
       "      <th>Emission Class</th>\n",
       "      <th>comfort_convenience</th>\n",
       "      <th>entertainment_media</th>\n",
       "      <th>Extras</th>\n",
       "      <th>safety_security</th>\n",
       "      <th>Gears</th>\n",
       "      <th>Inspection_new</th>\n",
       "      <th>age</th>\n",
       "      <th>Upholstery_type</th>\n",
       "      <th>Displacement_cc</th>\n",
       "      <th>Weight_kg</th>\n",
       "      <th>cons_comb</th>\n",
       "      <th>cons_city</th>\n",
       "      <th>cons_country</th>\n",
       "    </tr>\n",
       "  </thead>\n",
       "  <tbody>\n",
       "    <tr>\n",
       "      <th>15909</th>\n",
       "      <td>Renault Espace</td>\n",
       "      <td>Van</td>\n",
       "      <td>39990</td>\n",
       "      <td>VAT deductible</td>\n",
       "      <td>3500.000</td>\n",
       "      <td>147.000</td>\n",
       "      <td>Demonstration</td>\n",
       "      <td>NaN</td>\n",
       "      <td>48.000</td>\n",
       "      <td>5.000</td>\n",
       "      <td>5.000</td>\n",
       "      <td>Automatic</td>\n",
       "      <td>NaN</td>\n",
       "      <td>NaN</td>\n",
       "      <td>Diesel</td>\n",
       "      <td>NaN</td>\n",
       "      <td>NaN</td>\n",
       "      <td>Air conditioning,Automatic climate control,Cru...</td>\n",
       "      <td>Bluetooth,Hands-free equipment,On-board comput...</td>\n",
       "      <td>Alloy wheels,Touch screen</td>\n",
       "      <td>ABS,Blind spot monitor,Central door lock,Dayti...</td>\n",
       "      <td>7</td>\n",
       "      <td>NaN</td>\n",
       "      <td>0.000</td>\n",
       "      <td>NaN</td>\n",
       "      <td>1997.000</td>\n",
       "      <td>1779.000</td>\n",
       "      <td>NaN</td>\n",
       "      <td>NaN</td>\n",
       "      <td>NaN</td>\n",
       "    </tr>\n",
       "    <tr>\n",
       "      <th>15910</th>\n",
       "      <td>Renault Espace</td>\n",
       "      <td>Van</td>\n",
       "      <td>39980</td>\n",
       "      <td>VAT deductible</td>\n",
       "      <td>8500.000</td>\n",
       "      <td>165.000</td>\n",
       "      <td>Demonstration</td>\n",
       "      <td>1.000</td>\n",
       "      <td>NaN</td>\n",
       "      <td>5.000</td>\n",
       "      <td>5.000</td>\n",
       "      <td>Automatic</td>\n",
       "      <td>4.000</td>\n",
       "      <td>front</td>\n",
       "      <td>Benzine</td>\n",
       "      <td>153.000</td>\n",
       "      <td>Euro6</td>\n",
       "      <td>Air conditioning,Automatic climate control,Cru...</td>\n",
       "      <td>Bluetooth,Hands-free equipment,On-board comput...</td>\n",
       "      <td>Alloy wheels</td>\n",
       "      <td>ABS,Adaptive headlights,Central door lock,Dayt...</td>\n",
       "      <td>7</td>\n",
       "      <td>NaN</td>\n",
       "      <td>0.000</td>\n",
       "      <td>Full leather</td>\n",
       "      <td>1798.000</td>\n",
       "      <td>NaN</td>\n",
       "      <td>6.000</td>\n",
       "      <td>8.000</td>\n",
       "      <td>5.000</td>\n",
       "    </tr>\n",
       "    <tr>\n",
       "      <th>15911</th>\n",
       "      <td>Renault Espace</td>\n",
       "      <td>Van</td>\n",
       "      <td>39980</td>\n",
       "      <td>VAT deductible</td>\n",
       "      <td>100.000</td>\n",
       "      <td>118.000</td>\n",
       "      <td>Pre-registered</td>\n",
       "      <td>1.000</td>\n",
       "      <td>NaN</td>\n",
       "      <td>5.000</td>\n",
       "      <td>7.000</td>\n",
       "      <td>Automatic</td>\n",
       "      <td>4.000</td>\n",
       "      <td>NaN</td>\n",
       "      <td>Diesel</td>\n",
       "      <td>123.000</td>\n",
       "      <td>Euro6</td>\n",
       "      <td>Air conditioning,Armrest,Automatic climate con...</td>\n",
       "      <td>Bluetooth,Digital radio,Hands-free equipment,O...</td>\n",
       "      <td>Alloy wheels,Touch screen,Voice Control</td>\n",
       "      <td>ABS,Adaptive Cruise Control,Central door lock,...</td>\n",
       "      <td>NaN</td>\n",
       "      <td>NaN</td>\n",
       "      <td>0.000</td>\n",
       "      <td>Full leather</td>\n",
       "      <td>1598.000</td>\n",
       "      <td>1734.000</td>\n",
       "      <td>4.700</td>\n",
       "      <td>5.100</td>\n",
       "      <td>4.400</td>\n",
       "    </tr>\n",
       "    <tr>\n",
       "      <th>15912</th>\n",
       "      <td>Renault Espace</td>\n",
       "      <td>Van</td>\n",
       "      <td>39950</td>\n",
       "      <td>VAT deductible</td>\n",
       "      <td>NaN</td>\n",
       "      <td>147.000</td>\n",
       "      <td>New</td>\n",
       "      <td>NaN</td>\n",
       "      <td>24.000</td>\n",
       "      <td>5.000</td>\n",
       "      <td>5.000</td>\n",
       "      <td>Automatic</td>\n",
       "      <td>4.000</td>\n",
       "      <td>front</td>\n",
       "      <td>Diesel</td>\n",
       "      <td>139.000</td>\n",
       "      <td>NaN</td>\n",
       "      <td>Air conditioning,Automatic climate control,Cru...</td>\n",
       "      <td>Bluetooth,Digital radio,Hands-free equipment,O...</td>\n",
       "      <td>Alloy wheels,Touch screen</td>\n",
       "      <td>ABS,Central door lock,Central door lock with r...</td>\n",
       "      <td>6</td>\n",
       "      <td>NaN</td>\n",
       "      <td>NaN</td>\n",
       "      <td>NaN</td>\n",
       "      <td>1997.000</td>\n",
       "      <td>1758.000</td>\n",
       "      <td>5.300</td>\n",
       "      <td>6.200</td>\n",
       "      <td>4.700</td>\n",
       "    </tr>\n",
       "    <tr>\n",
       "      <th>15913</th>\n",
       "      <td>Renault Espace</td>\n",
       "      <td>Van</td>\n",
       "      <td>39950</td>\n",
       "      <td>VAT deductible</td>\n",
       "      <td>1000.000</td>\n",
       "      <td>165.000</td>\n",
       "      <td>Demonstration</td>\n",
       "      <td>NaN</td>\n",
       "      <td>NaN</td>\n",
       "      <td>5.000</td>\n",
       "      <td>7.000</td>\n",
       "      <td>Automatic</td>\n",
       "      <td>4.000</td>\n",
       "      <td>front</td>\n",
       "      <td>Benzine</td>\n",
       "      <td>153.000</td>\n",
       "      <td>Euro6</td>\n",
       "      <td>Air conditioning,Armrest,Automatic climate con...</td>\n",
       "      <td>Bluetooth,Digital radio,Hands-free equipment,M...</td>\n",
       "      <td>Alloy wheels,Catalytic Converter,Sport suspens...</td>\n",
       "      <td>ABS,Adaptive Cruise Control,Blind spot monitor...</td>\n",
       "      <td>NaN</td>\n",
       "      <td>NaN</td>\n",
       "      <td>0.000</td>\n",
       "      <td>Full leather</td>\n",
       "      <td>1798.000</td>\n",
       "      <td>NaN</td>\n",
       "      <td>6.800</td>\n",
       "      <td>8.700</td>\n",
       "      <td>5.700</td>\n",
       "    </tr>\n",
       "    <tr>\n",
       "      <th>15914</th>\n",
       "      <td>Renault Espace</td>\n",
       "      <td>Van</td>\n",
       "      <td>39950</td>\n",
       "      <td>VAT deductible</td>\n",
       "      <td>NaN</td>\n",
       "      <td>147.000</td>\n",
       "      <td>New</td>\n",
       "      <td>NaN</td>\n",
       "      <td>24.000</td>\n",
       "      <td>5.000</td>\n",
       "      <td>5.000</td>\n",
       "      <td>Automatic</td>\n",
       "      <td>4.000</td>\n",
       "      <td>front</td>\n",
       "      <td>Diesel</td>\n",
       "      <td>139.000</td>\n",
       "      <td>NaN</td>\n",
       "      <td>Air conditioning,Automatic climate control,Cru...</td>\n",
       "      <td>Bluetooth,Digital radio,Hands-free equipment,O...</td>\n",
       "      <td>Alloy wheels,Touch screen</td>\n",
       "      <td>ABS,Central door lock,Central door lock with r...</td>\n",
       "      <td>6</td>\n",
       "      <td>NaN</td>\n",
       "      <td>NaN</td>\n",
       "      <td>NaN</td>\n",
       "      <td>1997.000</td>\n",
       "      <td>1758.000</td>\n",
       "      <td>5.300</td>\n",
       "      <td>6.200</td>\n",
       "      <td>4.700</td>\n",
       "    </tr>\n",
       "    <tr>\n",
       "      <th>15915</th>\n",
       "      <td>Renault Espace</td>\n",
       "      <td>Van</td>\n",
       "      <td>39885</td>\n",
       "      <td>VAT deductible</td>\n",
       "      <td>9900.000</td>\n",
       "      <td>165.000</td>\n",
       "      <td>Used</td>\n",
       "      <td>1.000</td>\n",
       "      <td>NaN</td>\n",
       "      <td>5.000</td>\n",
       "      <td>5.000</td>\n",
       "      <td>Automatic</td>\n",
       "      <td>4.000</td>\n",
       "      <td>front</td>\n",
       "      <td>Benzine</td>\n",
       "      <td>168.000</td>\n",
       "      <td>NaN</td>\n",
       "      <td>Air conditioning,Automatic climate control,Cru...</td>\n",
       "      <td>Bluetooth,Digital radio,Hands-free equipment,R...</td>\n",
       "      <td>Alloy wheels,Touch screen,Voice Control</td>\n",
       "      <td>ABS,Adaptive Cruise Control,Blind spot monitor...</td>\n",
       "      <td>7</td>\n",
       "      <td>NaN</td>\n",
       "      <td>0.000</td>\n",
       "      <td>Cloth</td>\n",
       "      <td>1798.000</td>\n",
       "      <td>1708.000</td>\n",
       "      <td>7.400</td>\n",
       "      <td>9.200</td>\n",
       "      <td>6.300</td>\n",
       "    </tr>\n",
       "    <tr>\n",
       "      <th>15916</th>\n",
       "      <td>Renault Espace</td>\n",
       "      <td>Van</td>\n",
       "      <td>39875</td>\n",
       "      <td>VAT deductible</td>\n",
       "      <td>15.000</td>\n",
       "      <td>146.000</td>\n",
       "      <td>Pre-registered</td>\n",
       "      <td>1.000</td>\n",
       "      <td>NaN</td>\n",
       "      <td>5.000</td>\n",
       "      <td>7.000</td>\n",
       "      <td>Automatic</td>\n",
       "      <td>4.000</td>\n",
       "      <td>front</td>\n",
       "      <td>Diesel</td>\n",
       "      <td>139.000</td>\n",
       "      <td>Euro6d-TEMP</td>\n",
       "      <td>Air conditioning,Armrest,Automatic climate con...</td>\n",
       "      <td>Bluetooth,Hands-free equipment,On-board comput...</td>\n",
       "      <td>Alloy wheels</td>\n",
       "      <td>ABS,Adaptive Cruise Control,Blind spot monitor...</td>\n",
       "      <td>6</td>\n",
       "      <td>Yes</td>\n",
       "      <td>0.000</td>\n",
       "      <td>Full leather</td>\n",
       "      <td>1997.000</td>\n",
       "      <td>NaN</td>\n",
       "      <td>5.300</td>\n",
       "      <td>6.200</td>\n",
       "      <td>4.700</td>\n",
       "    </tr>\n",
       "    <tr>\n",
       "      <th>15917</th>\n",
       "      <td>Renault Espace</td>\n",
       "      <td>Van</td>\n",
       "      <td>39700</td>\n",
       "      <td>VAT deductible</td>\n",
       "      <td>10.000</td>\n",
       "      <td>147.000</td>\n",
       "      <td>Pre-registered</td>\n",
       "      <td>NaN</td>\n",
       "      <td>NaN</td>\n",
       "      <td>5.000</td>\n",
       "      <td>7.000</td>\n",
       "      <td>Automatic</td>\n",
       "      <td>4.000</td>\n",
       "      <td>front</td>\n",
       "      <td>Diesel</td>\n",
       "      <td>139.000</td>\n",
       "      <td>Euro6</td>\n",
       "      <td>Air conditioning,Automatic climate control,Cru...</td>\n",
       "      <td>Bluetooth,Digital radio,Radio,USB</td>\n",
       "      <td>Alloy wheels,Touch screen</td>\n",
       "      <td>ABS,Blind spot monitor,Driver-side airbag,Elec...</td>\n",
       "      <td>6</td>\n",
       "      <td>NaN</td>\n",
       "      <td>0.000</td>\n",
       "      <td>Part leather</td>\n",
       "      <td>1997.000</td>\n",
       "      <td>1758.000</td>\n",
       "      <td>5.300</td>\n",
       "      <td>6.200</td>\n",
       "      <td>4.700</td>\n",
       "    </tr>\n",
       "    <tr>\n",
       "      <th>15918</th>\n",
       "      <td>Renault Espace</td>\n",
       "      <td>Van</td>\n",
       "      <td>40999</td>\n",
       "      <td>VAT deductible</td>\n",
       "      <td>NaN</td>\n",
       "      <td>165.000</td>\n",
       "      <td>Demonstration</td>\n",
       "      <td>1.000</td>\n",
       "      <td>NaN</td>\n",
       "      <td>5.000</td>\n",
       "      <td>5.000</td>\n",
       "      <td>Automatic</td>\n",
       "      <td>4.000</td>\n",
       "      <td>4WD</td>\n",
       "      <td>Benzine</td>\n",
       "      <td>153.000</td>\n",
       "      <td>Euro6</td>\n",
       "      <td>Air conditioning,Automatic climate control,Cru...</td>\n",
       "      <td>USB</td>\n",
       "      <td>Alloy wheels,Touch screen</td>\n",
       "      <td>ABS,Blind spot monitor,Daytime running lights,...</td>\n",
       "      <td>NaN</td>\n",
       "      <td>Yes</td>\n",
       "      <td>0.000</td>\n",
       "      <td>Full leather</td>\n",
       "      <td>1798.000</td>\n",
       "      <td>1685.000</td>\n",
       "      <td>6.800</td>\n",
       "      <td>8.700</td>\n",
       "      <td>5.700</td>\n",
       "    </tr>\n",
       "  </tbody>\n",
       "</table>\n",
       "</div>"
      ],
      "text/plain": [
       "           make_model body_type  price             vat       km      kW  \\\n",
       "15909  Renault Espace       Van  39990  VAT deductible 3500.000 147.000   \n",
       "15910  Renault Espace       Van  39980  VAT deductible 8500.000 165.000   \n",
       "15911  Renault Espace       Van  39980  VAT deductible  100.000 118.000   \n",
       "15912  Renault Espace       Van  39950  VAT deductible      NaN 147.000   \n",
       "15913  Renault Espace       Van  39950  VAT deductible 1000.000 165.000   \n",
       "15914  Renault Espace       Van  39950  VAT deductible      NaN 147.000   \n",
       "15915  Renault Espace       Van  39885  VAT deductible 9900.000 165.000   \n",
       "15916  Renault Espace       Van  39875  VAT deductible   15.000 146.000   \n",
       "15917  Renault Espace       Van  39700  VAT deductible   10.000 147.000   \n",
       "15918  Renault Espace       Van  40999  VAT deductible      NaN 165.000   \n",
       "\n",
       "                 Type  Previous Owners  Warranty  Nr. of Doors  Nr. of Seats  \\\n",
       "15909   Demonstration              NaN    48.000         5.000         5.000   \n",
       "15910   Demonstration            1.000       NaN         5.000         5.000   \n",
       "15911  Pre-registered            1.000       NaN         5.000         7.000   \n",
       "15912             New              NaN    24.000         5.000         5.000   \n",
       "15913   Demonstration              NaN       NaN         5.000         7.000   \n",
       "15914             New              NaN    24.000         5.000         5.000   \n",
       "15915            Used            1.000       NaN         5.000         5.000   \n",
       "15916  Pre-registered            1.000       NaN         5.000         7.000   \n",
       "15917  Pre-registered              NaN       NaN         5.000         7.000   \n",
       "15918   Demonstration            1.000       NaN         5.000         5.000   \n",
       "\n",
       "      Gearing Type  Cylinders Drive chain     Fuel  CO2 Emission  \\\n",
       "15909    Automatic        NaN         NaN   Diesel           NaN   \n",
       "15910    Automatic      4.000       front  Benzine       153.000   \n",
       "15911    Automatic      4.000         NaN   Diesel       123.000   \n",
       "15912    Automatic      4.000       front   Diesel       139.000   \n",
       "15913    Automatic      4.000       front  Benzine       153.000   \n",
       "15914    Automatic      4.000       front   Diesel       139.000   \n",
       "15915    Automatic      4.000       front  Benzine       168.000   \n",
       "15916    Automatic      4.000       front   Diesel       139.000   \n",
       "15917    Automatic      4.000       front   Diesel       139.000   \n",
       "15918    Automatic      4.000         4WD  Benzine       153.000   \n",
       "\n",
       "      Emission Class                                comfort_convenience  \\\n",
       "15909            NaN  Air conditioning,Automatic climate control,Cru...   \n",
       "15910          Euro6  Air conditioning,Automatic climate control,Cru...   \n",
       "15911          Euro6  Air conditioning,Armrest,Automatic climate con...   \n",
       "15912            NaN  Air conditioning,Automatic climate control,Cru...   \n",
       "15913          Euro6  Air conditioning,Armrest,Automatic climate con...   \n",
       "15914            NaN  Air conditioning,Automatic climate control,Cru...   \n",
       "15915            NaN  Air conditioning,Automatic climate control,Cru...   \n",
       "15916    Euro6d-TEMP  Air conditioning,Armrest,Automatic climate con...   \n",
       "15917          Euro6  Air conditioning,Automatic climate control,Cru...   \n",
       "15918          Euro6  Air conditioning,Automatic climate control,Cru...   \n",
       "\n",
       "                                     entertainment_media  \\\n",
       "15909  Bluetooth,Hands-free equipment,On-board comput...   \n",
       "15910  Bluetooth,Hands-free equipment,On-board comput...   \n",
       "15911  Bluetooth,Digital radio,Hands-free equipment,O...   \n",
       "15912  Bluetooth,Digital radio,Hands-free equipment,O...   \n",
       "15913  Bluetooth,Digital radio,Hands-free equipment,M...   \n",
       "15914  Bluetooth,Digital radio,Hands-free equipment,O...   \n",
       "15915  Bluetooth,Digital radio,Hands-free equipment,R...   \n",
       "15916  Bluetooth,Hands-free equipment,On-board comput...   \n",
       "15917                  Bluetooth,Digital radio,Radio,USB   \n",
       "15918                                                USB   \n",
       "\n",
       "                                                  Extras  \\\n",
       "15909                          Alloy wheels,Touch screen   \n",
       "15910                                       Alloy wheels   \n",
       "15911            Alloy wheels,Touch screen,Voice Control   \n",
       "15912                          Alloy wheels,Touch screen   \n",
       "15913  Alloy wheels,Catalytic Converter,Sport suspens...   \n",
       "15914                          Alloy wheels,Touch screen   \n",
       "15915            Alloy wheels,Touch screen,Voice Control   \n",
       "15916                                       Alloy wheels   \n",
       "15917                          Alloy wheels,Touch screen   \n",
       "15918                          Alloy wheels,Touch screen   \n",
       "\n",
       "                                         safety_security Gears Inspection_new  \\\n",
       "15909  ABS,Blind spot monitor,Central door lock,Dayti...     7            NaN   \n",
       "15910  ABS,Adaptive headlights,Central door lock,Dayt...     7            NaN   \n",
       "15911  ABS,Adaptive Cruise Control,Central door lock,...   NaN            NaN   \n",
       "15912  ABS,Central door lock,Central door lock with r...     6            NaN   \n",
       "15913  ABS,Adaptive Cruise Control,Blind spot monitor...   NaN            NaN   \n",
       "15914  ABS,Central door lock,Central door lock with r...     6            NaN   \n",
       "15915  ABS,Adaptive Cruise Control,Blind spot monitor...     7            NaN   \n",
       "15916  ABS,Adaptive Cruise Control,Blind spot monitor...     6            Yes   \n",
       "15917  ABS,Blind spot monitor,Driver-side airbag,Elec...     6            NaN   \n",
       "15918  ABS,Blind spot monitor,Daytime running lights,...   NaN            Yes   \n",
       "\n",
       "        age Upholstery_type  Displacement_cc  Weight_kg  cons_comb  cons_city  \\\n",
       "15909 0.000             NaN         1997.000   1779.000        NaN        NaN   \n",
       "15910 0.000    Full leather         1798.000        NaN      6.000      8.000   \n",
       "15911 0.000    Full leather         1598.000   1734.000      4.700      5.100   \n",
       "15912   NaN             NaN         1997.000   1758.000      5.300      6.200   \n",
       "15913 0.000    Full leather         1798.000        NaN      6.800      8.700   \n",
       "15914   NaN             NaN         1997.000   1758.000      5.300      6.200   \n",
       "15915 0.000           Cloth         1798.000   1708.000      7.400      9.200   \n",
       "15916 0.000    Full leather         1997.000        NaN      5.300      6.200   \n",
       "15917 0.000    Part leather         1997.000   1758.000      5.300      6.200   \n",
       "15918 0.000    Full leather         1798.000   1685.000      6.800      8.700   \n",
       "\n",
       "       cons_country  \n",
       "15909           NaN  \n",
       "15910         5.000  \n",
       "15911         4.400  \n",
       "15912         4.700  \n",
       "15913         5.700  \n",
       "15914         4.700  \n",
       "15915         6.300  \n",
       "15916         4.700  \n",
       "15917         4.700  \n",
       "15918         5.700  "
      ]
     },
     "execution_count": 234,
     "metadata": {},
     "output_type": "execute_result"
    }
   ],
   "source": [
    "df.tail(10)"
   ]
  },
  {
   "cell_type": "code",
   "execution_count": 235,
   "id": "d08dc287",
   "metadata": {},
   "outputs": [],
   "source": [
    "df.to_csv(\"cleaned_AutoScout.csv\", index=False)"
   ]
  },
  {
   "cell_type": "markdown",
   "id": "d2f16208",
   "metadata": {},
   "source": [
    "------------------------------------\n",
    "END OF THE PART - 1 : DATA CLEANING"
   ]
  }
 ],
 "metadata": {
  "kernelspec": {
   "display_name": "Python 3 (ipykernel)",
   "language": "python",
   "name": "python3"
  },
  "language_info": {
   "codemirror_mode": {
    "name": "ipython",
    "version": 3
   },
   "file_extension": ".py",
   "mimetype": "text/x-python",
   "name": "python",
   "nbconvert_exporter": "python",
   "pygments_lexer": "ipython3",
   "version": "3.9.7"
  },
  "toc": {
   "base_numbering": 1,
   "nav_menu": {},
   "number_sections": true,
   "sideBar": true,
   "skip_h1_title": false,
   "title_cell": "Table of Contents",
   "title_sidebar": "Contents",
   "toc_cell": false,
   "toc_position": {
    "height": "calc(100% - 180px)",
    "left": "10px",
    "top": "150px",
    "width": "182.875px"
   },
   "toc_section_display": false,
   "toc_window_display": false
  }
 },
 "nbformat": 4,
 "nbformat_minor": 5
}
